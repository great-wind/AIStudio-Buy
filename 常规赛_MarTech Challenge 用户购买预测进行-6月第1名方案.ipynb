{
 "cells": [
  {
   "cell_type": "markdown",
   "metadata": {
    "collapsed": false
   },
   "source": [
    "# MarTech Challenge 用户购买预测"
   ]
  },
  {
   "cell_type": "markdown",
   "metadata": {
    "collapsed": false
   },
   "source": [
    "## 当前项目目录"
   ]
  },
  {
   "cell_type": "code",
   "execution_count": null,
   "metadata": {
    "collapsed": false
   },
   "outputs": [],
   "source": [
    "root_dir = \"/home/aistudio\"\r\n",
    "work_dir = \"/home/aistudio/work\"\r\n",
    "model_dir = \"/home/aistudio/models\"\r\n",
    "test_file = \"/home/aistudio/data/data19383/submission.csv\"\r\n",
    "train_file = \"/home/aistudio/data/data19383/train.csv\"\r\n",
    "simhei_font = \"/home/aistudio/font/simhei.ttf\"\r\n"
   ]
  },
  {
   "cell_type": "markdown",
   "metadata": {
    "collapsed": false
   },
   "source": [
    "## 引入工具包"
   ]
  },
  {
   "cell_type": "code",
   "execution_count": null,
   "metadata": {
    "collapsed": false
   },
   "outputs": [],
   "source": [
    "import os\r\n",
    "import sys\r\n",
    "import pandas as pd\r\n",
    "import numpy as np\r\n",
    "from datetime import datetime, date, timedelta\r\n",
    "\r\n",
    "import matplotlib.pyplot as plt\r\n",
    "from IPython import display\r\n",
    "\r\n",
    "from matplotlib.font_manager import FontProperties\r\n",
    "myfont = FontProperties(fname=simhei_font, size=12)"
   ]
  },
  {
   "cell_type": "markdown",
   "metadata": {
    "collapsed": false
   },
   "source": [
    "## 删除文件"
   ]
  },
  {
   "cell_type": "code",
   "execution_count": null,
   "metadata": {
    "collapsed": false
   },
   "outputs": [],
   "source": [
    "for i in range(11,64):\r\n",
    "    try:\r\n",
    "        model_name = \"svm_sub\"+str(i)+\".joblib\"\r\n",
    "        model_file = os.path.join(root_dir,model_name)\r\n",
    "        os.remove(model_file)\r\n",
    "    except:\r\n",
    "        continue"
   ]
  },
  {
   "cell_type": "markdown",
   "metadata": {
    "collapsed": false
   },
   "source": [
    "## 数据预览"
   ]
  },
  {
   "cell_type": "markdown",
   "metadata": {
    "collapsed": false
   },
   "source": [
    "### train.csv数据预览"
   ]
  },
  {
   "cell_type": "code",
   "execution_count": null,
   "metadata": {
    "collapsed": false
   },
   "outputs": [
    {
     "data": {
      "text/html": [
       "<div>\n",
       "<style scoped>\n",
       "    .dataframe tbody tr th:only-of-type {\n",
       "        vertical-align: middle;\n",
       "    }\n",
       "\n",
       "    .dataframe tbody tr th {\n",
       "        vertical-align: top;\n",
       "    }\n",
       "\n",
       "    .dataframe thead th {\n",
       "        text-align: right;\n",
       "    }\n",
       "</style>\n",
       "<table border=\"1\" class=\"dataframe\">\n",
       "  <thead>\n",
       "    <tr style=\"text-align: right;\">\n",
       "      <th></th>\n",
       "      <th>order_detail_id</th>\n",
       "      <th>order_id</th>\n",
       "      <th>order_total_num</th>\n",
       "      <th>order_amount</th>\n",
       "      <th>order_total_payment</th>\n",
       "      <th>order_total_discount</th>\n",
       "      <th>order_pay_time</th>\n",
       "      <th>order_status</th>\n",
       "      <th>order_count</th>\n",
       "      <th>is_customer_rate</th>\n",
       "      <th>...</th>\n",
       "      <th>customer_gender</th>\n",
       "      <th>member_status</th>\n",
       "      <th>is_member_actived</th>\n",
       "      <th>goods_id</th>\n",
       "      <th>goods_class_id</th>\n",
       "      <th>goods_price</th>\n",
       "      <th>goods_status</th>\n",
       "      <th>goods_has_discount</th>\n",
       "      <th>goods_list_time</th>\n",
       "      <th>goods_delist_time</th>\n",
       "    </tr>\n",
       "  </thead>\n",
       "  <tbody>\n",
       "    <tr>\n",
       "      <th>0</th>\n",
       "      <td>1000000</td>\n",
       "      <td>1000000</td>\n",
       "      <td>1.0</td>\n",
       "      <td>239.9</td>\n",
       "      <td>96.9</td>\n",
       "      <td>0.0</td>\n",
       "      <td>2012-11-01 00:10:56</td>\n",
       "      <td>6</td>\n",
       "      <td>1.0</td>\n",
       "      <td>0.0</td>\n",
       "      <td>...</td>\n",
       "      <td>NaN</td>\n",
       "      <td>NaN</td>\n",
       "      <td>NaN</td>\n",
       "      <td>998</td>\n",
       "      <td>998</td>\n",
       "      <td>54.909289</td>\n",
       "      <td>1.0</td>\n",
       "      <td>0.0</td>\n",
       "      <td>2014-10-25 11:08:07</td>\n",
       "      <td>2014-11-01 11:08:07</td>\n",
       "    </tr>\n",
       "    <tr>\n",
       "      <th>1</th>\n",
       "      <td>1001530</td>\n",
       "      <td>1001327</td>\n",
       "      <td>2.0</td>\n",
       "      <td>288.0</td>\n",
       "      <td>96.9</td>\n",
       "      <td>0.0</td>\n",
       "      <td>2013-08-31 23:14:42</td>\n",
       "      <td>6</td>\n",
       "      <td>2.0</td>\n",
       "      <td>0.0</td>\n",
       "      <td>...</td>\n",
       "      <td>NaN</td>\n",
       "      <td>NaN</td>\n",
       "      <td>NaN</td>\n",
       "      <td>1953</td>\n",
       "      <td>1953</td>\n",
       "      <td>45.961352</td>\n",
       "      <td>0.0</td>\n",
       "      <td>1.0</td>\n",
       "      <td>2013-08-28 17:27:50</td>\n",
       "      <td>2013-09-01 00:38:17</td>\n",
       "    </tr>\n",
       "    <tr>\n",
       "      <th>2</th>\n",
       "      <td>1001531</td>\n",
       "      <td>1001327</td>\n",
       "      <td>2.0</td>\n",
       "      <td>288.0</td>\n",
       "      <td>96.9</td>\n",
       "      <td>0.0</td>\n",
       "      <td>2013-08-31 23:14:42</td>\n",
       "      <td>6</td>\n",
       "      <td>2.0</td>\n",
       "      <td>0.0</td>\n",
       "      <td>...</td>\n",
       "      <td>NaN</td>\n",
       "      <td>NaN</td>\n",
       "      <td>NaN</td>\n",
       "      <td>1083</td>\n",
       "      <td>1083</td>\n",
       "      <td>53.035439</td>\n",
       "      <td>1.0</td>\n",
       "      <td>0.0</td>\n",
       "      <td>2014-10-29 18:21:05</td>\n",
       "      <td>2014-11-05 18:21:05</td>\n",
       "    </tr>\n",
       "    <tr>\n",
       "      <th>3</th>\n",
       "      <td>1001532</td>\n",
       "      <td>1001328</td>\n",
       "      <td>3.0</td>\n",
       "      <td>180.0</td>\n",
       "      <td>89.7</td>\n",
       "      <td>0.0</td>\n",
       "      <td>2013-08-31 22:06:35</td>\n",
       "      <td>6</td>\n",
       "      <td>1.0</td>\n",
       "      <td>0.0</td>\n",
       "      <td>...</td>\n",
       "      <td>NaN</td>\n",
       "      <td>NaN</td>\n",
       "      <td>NaN</td>\n",
       "      <td>1013</td>\n",
       "      <td>1013</td>\n",
       "      <td>46.046917</td>\n",
       "      <td>1.0</td>\n",
       "      <td>1.0</td>\n",
       "      <td>2014-10-25 11:00:00</td>\n",
       "      <td>2014-11-01 11:00:00</td>\n",
       "    </tr>\n",
       "    <tr>\n",
       "      <th>4</th>\n",
       "      <td>1001533</td>\n",
       "      <td>1001329</td>\n",
       "      <td>1.0</td>\n",
       "      <td>159.9</td>\n",
       "      <td>65.9</td>\n",
       "      <td>0.0</td>\n",
       "      <td>2013-08-31 21:33:36</td>\n",
       "      <td>6</td>\n",
       "      <td>1.0</td>\n",
       "      <td>0.0</td>\n",
       "      <td>...</td>\n",
       "      <td>NaN</td>\n",
       "      <td>NaN</td>\n",
       "      <td>NaN</td>\n",
       "      <td>1628</td>\n",
       "      <td>1628</td>\n",
       "      <td>50.722161</td>\n",
       "      <td>1.0</td>\n",
       "      <td>0.0</td>\n",
       "      <td>2014-10-23 15:35:33</td>\n",
       "      <td>2014-10-30 15:35:33</td>\n",
       "    </tr>\n",
       "  </tbody>\n",
       "</table>\n",
       "<p>5 rows × 29 columns</p>\n",
       "</div>"
      ],
      "text/plain": [
       "   order_detail_id  order_id  order_total_num  order_amount  \\\n",
       "0          1000000   1000000              1.0         239.9   \n",
       "1          1001530   1001327              2.0         288.0   \n",
       "2          1001531   1001327              2.0         288.0   \n",
       "3          1001532   1001328              3.0         180.0   \n",
       "4          1001533   1001329              1.0         159.9   \n",
       "\n",
       "   order_total_payment  order_total_discount       order_pay_time  \\\n",
       "0                 96.9                   0.0  2012-11-01 00:10:56   \n",
       "1                 96.9                   0.0  2013-08-31 23:14:42   \n",
       "2                 96.9                   0.0  2013-08-31 23:14:42   \n",
       "3                 89.7                   0.0  2013-08-31 22:06:35   \n",
       "4                 65.9                   0.0  2013-08-31 21:33:36   \n",
       "\n",
       "   order_status  order_count  is_customer_rate  ...  customer_gender  \\\n",
       "0             6          1.0               0.0  ...              NaN   \n",
       "1             6          2.0               0.0  ...              NaN   \n",
       "2             6          2.0               0.0  ...              NaN   \n",
       "3             6          1.0               0.0  ...              NaN   \n",
       "4             6          1.0               0.0  ...              NaN   \n",
       "\n",
       "   member_status  is_member_actived  goods_id  goods_class_id goods_price  \\\n",
       "0            NaN                NaN       998             998   54.909289   \n",
       "1            NaN                NaN      1953            1953   45.961352   \n",
       "2            NaN                NaN      1083            1083   53.035439   \n",
       "3            NaN                NaN      1013            1013   46.046917   \n",
       "4            NaN                NaN      1628            1628   50.722161   \n",
       "\n",
       "  goods_status  goods_has_discount      goods_list_time    goods_delist_time  \n",
       "0          1.0                 0.0  2014-10-25 11:08:07  2014-11-01 11:08:07  \n",
       "1          0.0                 1.0  2013-08-28 17:27:50  2013-09-01 00:38:17  \n",
       "2          1.0                 0.0  2014-10-29 18:21:05  2014-11-05 18:21:05  \n",
       "3          1.0                 1.0  2014-10-25 11:00:00  2014-11-01 11:00:00  \n",
       "4          1.0                 0.0  2014-10-23 15:35:33  2014-10-30 15:35:33  \n",
       "\n",
       "[5 rows x 29 columns]"
      ]
     },
     "execution_count": null,
     "metadata": {},
     "output_type": "execute_result"
    }
   ],
   "source": [
    "train_data = pd.read_csv(train_file)\r\n",
    "train_data.head()"
   ]
  },
  {
   "cell_type": "code",
   "execution_count": null,
   "metadata": {
    "collapsed": false
   },
   "outputs": [
    {
     "data": {
      "text/plain": [
       "(2306871, 29)"
      ]
     },
     "execution_count": null,
     "metadata": {},
     "output_type": "execute_result"
    }
   ],
   "source": [
    "train_data.shape"
   ]
  },
  {
   "cell_type": "markdown",
   "metadata": {
    "collapsed": false
   },
   "source": [
    "### train.csv字段说明\n",
    "\n",
    "| 字段 | 说明 |\n",
    "|---|---|\n",
    "|order_detail_id|\t订单详情id|\n",
    "|order_id|\t订单id|\n",
    "|order_total_num|\t订单商品总购买数量|\n",
    "|order_amount|\t订单商品总金额|\n",
    "|order_total_payment|\t订单实付金额|\n",
    "|order_total_discount|\t订单优惠金额|\n",
    "|order_pay_time|\t付款时间|\n",
    "|order_status|\t订单状态： 1表示等待买家付款， 2表示卖家部分发货， 3表示卖家发货， 4表示等待买家确认收货， 5表示买家已签收， 6表示交易成功|\n",
    "|order_count|\t订单包含的子订单数量|\n",
    "|is_customer_rate|\t用户是否评价，0没有评价，1已经评价|\n",
    "|order_detail_status|\t订单详细状态|\n",
    "|order_detail_good_num|\t订单中的商品数量|\n",
    "|order_detail_amount|\t订单应付总金额|\n",
    "|order_detail_payment|\t订单实付金额|\n",
    "|order_detail_discount|\t订单优惠金额|\n",
    "|member_id|\t会员id|\n",
    "|customer_id|\t用户id|\n",
    "|customer_gender|\t性别：0未知，1男，2女|\n",
    "|customer_province|\t用户省份所在地|\n",
    "|customer_city|\t用户城市所在地|\n",
    "|member_status|\t会员状态：1正常，2冻结，3已删除|\n",
    "|is_member_active|\t会员是否激活：0没有激活，1已激活|\n",
    "|goods_id|\t商品id|\n",
    "|goods_class_id|\t商品分类id|\n",
    "|goods_price|\t商品原始价格|\n",
    "|goods_status|\t商品库存状态：1出售中，2库中|\n",
    "|goods_has_discount|\t是否支持会员折扣：0不支持，1支持|\n",
    "|goods_list_time|\t商品最新上架时间|\n",
    "|goods_delist_time|\t商品最新下架时间|\n",
    "\n"
   ]
  },
  {
   "cell_type": "markdown",
   "metadata": {
    "collapsed": false
   },
   "source": [
    "### submission.csv数据预览"
   ]
  },
  {
   "cell_type": "code",
   "execution_count": null,
   "metadata": {
    "collapsed": false
   },
   "outputs": [
    {
     "data": {
      "text/html": [
       "<div>\n",
       "<style scoped>\n",
       "    .dataframe tbody tr th:only-of-type {\n",
       "        vertical-align: middle;\n",
       "    }\n",
       "\n",
       "    .dataframe tbody tr th {\n",
       "        vertical-align: top;\n",
       "    }\n",
       "\n",
       "    .dataframe thead th {\n",
       "        text-align: right;\n",
       "    }\n",
       "</style>\n",
       "<table border=\"1\" class=\"dataframe\">\n",
       "  <thead>\n",
       "    <tr style=\"text-align: right;\">\n",
       "      <th></th>\n",
       "      <th>customer_id</th>\n",
       "      <th>result</th>\n",
       "    </tr>\n",
       "  </thead>\n",
       "  <tbody>\n",
       "    <tr>\n",
       "      <th>0</th>\n",
       "      <td>1000000</td>\n",
       "      <td>0.0</td>\n",
       "    </tr>\n",
       "    <tr>\n",
       "      <th>1</th>\n",
       "      <td>1000014</td>\n",
       "      <td>0.0</td>\n",
       "    </tr>\n",
       "    <tr>\n",
       "      <th>2</th>\n",
       "      <td>1000034</td>\n",
       "      <td>0.0</td>\n",
       "    </tr>\n",
       "    <tr>\n",
       "      <th>3</th>\n",
       "      <td>1000046</td>\n",
       "      <td>0.0</td>\n",
       "    </tr>\n",
       "    <tr>\n",
       "      <th>4</th>\n",
       "      <td>1000048</td>\n",
       "      <td>0.0</td>\n",
       "    </tr>\n",
       "  </tbody>\n",
       "</table>\n",
       "</div>"
      ],
      "text/plain": [
       "   customer_id  result\n",
       "0      1000000     0.0\n",
       "1      1000014     0.0\n",
       "2      1000034     0.0\n",
       "3      1000046     0.0\n",
       "4      1000048     0.0"
      ]
     },
     "execution_count": null,
     "metadata": {},
     "output_type": "execute_result"
    }
   ],
   "source": [
    "test_data = pd.read_csv(test_file)\r\n",
    "test_data.head()"
   ]
  },
  {
   "cell_type": "code",
   "execution_count": null,
   "metadata": {
    "collapsed": false
   },
   "outputs": [
    {
     "data": {
      "text/plain": [
       "(1585986, 2)"
      ]
     },
     "execution_count": null,
     "metadata": {},
     "output_type": "execute_result"
    }
   ],
   "source": [
    "test_data.shape"
   ]
  },
  {
   "cell_type": "markdown",
   "metadata": {
    "collapsed": false
   },
   "source": [
    "### submission.csv 字段说明\n",
    "\n",
    "| 字段 | 说明 |\n",
    "|---|---|\n",
    "|customer_id | 用户id|\n",
    "|result\t|下个月是否会购买：0 不购买，1购买|"
   ]
  },
  {
   "cell_type": "markdown",
   "metadata": {
    "collapsed": false
   },
   "source": [
    "## 数据预处理"
   ]
  },
  {
   "cell_type": "markdown",
   "metadata": {
    "collapsed": false
   },
   "source": [
    "### 查看数据类型、缺失情况"
   ]
  },
  {
   "cell_type": "code",
   "execution_count": null,
   "metadata": {
    "collapsed": false
   },
   "outputs": [],
   "source": [
    "def data_dtypes_and_miss_count(data):\r\n",
    "    \"\"\"\r\n",
    "    data:输入数据\r\n",
    "\r\n",
    "    返回数据类型及缺失情况\r\n",
    "    \"\"\"\r\n",
    "    # 数据类型\r\n",
    "    dtype = pd.DataFrame(data.dtypes)\r\n",
    "    dtype.columns = ['dtype']\r\n",
    "\r\n",
    "    # 数据缺失值统计\r\n",
    "    count = pd.DataFrame(train_data.count())\r\n",
    "    count.columns = ['count']\r\n",
    "    count_na = pd.DataFrame(data.isna().sum())\r\n",
    "    count_na.columns = ['count_na']\r\n",
    "\r\n",
    "\r\n",
    "    # 数据合并\r\n",
    "    result = pd.merge(left=dtype,right=count,how = 'left',left_index=True, right_index=True)\r\n",
    "    result = pd.merge(left=result,right=count_na,how = 'left',left_index=True, right_index=True)\r\n",
    "    \r\n",
    "    return result"
   ]
  },
  {
   "cell_type": "code",
   "execution_count": null,
   "metadata": {
    "collapsed": false
   },
   "outputs": [
    {
     "data": {
      "text/html": [
       "<div>\n",
       "<style scoped>\n",
       "    .dataframe tbody tr th:only-of-type {\n",
       "        vertical-align: middle;\n",
       "    }\n",
       "\n",
       "    .dataframe tbody tr th {\n",
       "        vertical-align: top;\n",
       "    }\n",
       "\n",
       "    .dataframe thead th {\n",
       "        text-align: right;\n",
       "    }\n",
       "</style>\n",
       "<table border=\"1\" class=\"dataframe\">\n",
       "  <thead>\n",
       "    <tr style=\"text-align: right;\">\n",
       "      <th></th>\n",
       "      <th>dtype</th>\n",
       "      <th>count</th>\n",
       "      <th>count_na</th>\n",
       "    </tr>\n",
       "  </thead>\n",
       "  <tbody>\n",
       "    <tr>\n",
       "      <th>order_detail_id</th>\n",
       "      <td>int64</td>\n",
       "      <td>2306871</td>\n",
       "      <td>0</td>\n",
       "    </tr>\n",
       "    <tr>\n",
       "      <th>order_id</th>\n",
       "      <td>int64</td>\n",
       "      <td>2306871</td>\n",
       "      <td>0</td>\n",
       "    </tr>\n",
       "    <tr>\n",
       "      <th>order_total_num</th>\n",
       "      <td>float64</td>\n",
       "      <td>2306871</td>\n",
       "      <td>0</td>\n",
       "    </tr>\n",
       "    <tr>\n",
       "      <th>order_amount</th>\n",
       "      <td>float64</td>\n",
       "      <td>2306871</td>\n",
       "      <td>0</td>\n",
       "    </tr>\n",
       "    <tr>\n",
       "      <th>order_total_payment</th>\n",
       "      <td>float64</td>\n",
       "      <td>2306871</td>\n",
       "      <td>0</td>\n",
       "    </tr>\n",
       "    <tr>\n",
       "      <th>order_total_discount</th>\n",
       "      <td>float64</td>\n",
       "      <td>2306871</td>\n",
       "      <td>0</td>\n",
       "    </tr>\n",
       "    <tr>\n",
       "      <th>order_pay_time</th>\n",
       "      <td>object</td>\n",
       "      <td>2306871</td>\n",
       "      <td>0</td>\n",
       "    </tr>\n",
       "    <tr>\n",
       "      <th>order_status</th>\n",
       "      <td>int64</td>\n",
       "      <td>2306871</td>\n",
       "      <td>0</td>\n",
       "    </tr>\n",
       "    <tr>\n",
       "      <th>order_count</th>\n",
       "      <td>float64</td>\n",
       "      <td>2306871</td>\n",
       "      <td>0</td>\n",
       "    </tr>\n",
       "    <tr>\n",
       "      <th>is_customer_rate</th>\n",
       "      <td>float64</td>\n",
       "      <td>2306871</td>\n",
       "      <td>0</td>\n",
       "    </tr>\n",
       "    <tr>\n",
       "      <th>order_detail_status</th>\n",
       "      <td>float64</td>\n",
       "      <td>2306871</td>\n",
       "      <td>0</td>\n",
       "    </tr>\n",
       "    <tr>\n",
       "      <th>order_detail_goods_num</th>\n",
       "      <td>float64</td>\n",
       "      <td>2306871</td>\n",
       "      <td>0</td>\n",
       "    </tr>\n",
       "    <tr>\n",
       "      <th>order_detail_amount</th>\n",
       "      <td>float64</td>\n",
       "      <td>2306871</td>\n",
       "      <td>0</td>\n",
       "    </tr>\n",
       "    <tr>\n",
       "      <th>order_detail_payment</th>\n",
       "      <td>float64</td>\n",
       "      <td>2306871</td>\n",
       "      <td>0</td>\n",
       "    </tr>\n",
       "    <tr>\n",
       "      <th>order_detail_discount</th>\n",
       "      <td>float64</td>\n",
       "      <td>2306871</td>\n",
       "      <td>0</td>\n",
       "    </tr>\n",
       "    <tr>\n",
       "      <th>customer_province</th>\n",
       "      <td>object</td>\n",
       "      <td>2305732</td>\n",
       "      <td>1139</td>\n",
       "    </tr>\n",
       "    <tr>\n",
       "      <th>customer_city</th>\n",
       "      <td>object</td>\n",
       "      <td>2305721</td>\n",
       "      <td>1150</td>\n",
       "    </tr>\n",
       "    <tr>\n",
       "      <th>member_id</th>\n",
       "      <td>float64</td>\n",
       "      <td>2306871</td>\n",
       "      <td>0</td>\n",
       "    </tr>\n",
       "    <tr>\n",
       "      <th>customer_id</th>\n",
       "      <td>int64</td>\n",
       "      <td>2306871</td>\n",
       "      <td>0</td>\n",
       "    </tr>\n",
       "    <tr>\n",
       "      <th>customer_gender</th>\n",
       "      <td>float64</td>\n",
       "      <td>635790</td>\n",
       "      <td>1671081</td>\n",
       "    </tr>\n",
       "    <tr>\n",
       "      <th>member_status</th>\n",
       "      <td>float64</td>\n",
       "      <td>635790</td>\n",
       "      <td>1671081</td>\n",
       "    </tr>\n",
       "    <tr>\n",
       "      <th>is_member_actived</th>\n",
       "      <td>float64</td>\n",
       "      <td>635790</td>\n",
       "      <td>1671081</td>\n",
       "    </tr>\n",
       "    <tr>\n",
       "      <th>goods_id</th>\n",
       "      <td>int64</td>\n",
       "      <td>2306871</td>\n",
       "      <td>0</td>\n",
       "    </tr>\n",
       "    <tr>\n",
       "      <th>goods_class_id</th>\n",
       "      <td>int64</td>\n",
       "      <td>2306871</td>\n",
       "      <td>0</td>\n",
       "    </tr>\n",
       "    <tr>\n",
       "      <th>goods_price</th>\n",
       "      <td>float64</td>\n",
       "      <td>2306435</td>\n",
       "      <td>436</td>\n",
       "    </tr>\n",
       "    <tr>\n",
       "      <th>goods_status</th>\n",
       "      <td>float64</td>\n",
       "      <td>2306871</td>\n",
       "      <td>0</td>\n",
       "    </tr>\n",
       "    <tr>\n",
       "      <th>goods_has_discount</th>\n",
       "      <td>float64</td>\n",
       "      <td>2306871</td>\n",
       "      <td>0</td>\n",
       "    </tr>\n",
       "    <tr>\n",
       "      <th>goods_list_time</th>\n",
       "      <td>object</td>\n",
       "      <td>2306871</td>\n",
       "      <td>0</td>\n",
       "    </tr>\n",
       "    <tr>\n",
       "      <th>goods_delist_time</th>\n",
       "      <td>object</td>\n",
       "      <td>2306871</td>\n",
       "      <td>0</td>\n",
       "    </tr>\n",
       "  </tbody>\n",
       "</table>\n",
       "</div>"
      ],
      "text/plain": [
       "                          dtype    count  count_na\n",
       "order_detail_id           int64  2306871         0\n",
       "order_id                  int64  2306871         0\n",
       "order_total_num         float64  2306871         0\n",
       "order_amount            float64  2306871         0\n",
       "order_total_payment     float64  2306871         0\n",
       "order_total_discount    float64  2306871         0\n",
       "order_pay_time           object  2306871         0\n",
       "order_status              int64  2306871         0\n",
       "order_count             float64  2306871         0\n",
       "is_customer_rate        float64  2306871         0\n",
       "order_detail_status     float64  2306871         0\n",
       "order_detail_goods_num  float64  2306871         0\n",
       "order_detail_amount     float64  2306871         0\n",
       "order_detail_payment    float64  2306871         0\n",
       "order_detail_discount   float64  2306871         0\n",
       "customer_province        object  2305732      1139\n",
       "customer_city            object  2305721      1150\n",
       "member_id               float64  2306871         0\n",
       "customer_id               int64  2306871         0\n",
       "customer_gender         float64   635790   1671081\n",
       "member_status           float64   635790   1671081\n",
       "is_member_actived       float64   635790   1671081\n",
       "goods_id                  int64  2306871         0\n",
       "goods_class_id            int64  2306871         0\n",
       "goods_price             float64  2306435       436\n",
       "goods_status            float64  2306871         0\n",
       "goods_has_discount      float64  2306871         0\n",
       "goods_list_time          object  2306871         0\n",
       "goods_delist_time        object  2306871         0"
      ]
     },
     "execution_count": null,
     "metadata": {},
     "output_type": "execute_result"
    }
   ],
   "source": [
    "data_dtypes_and_miss_count(train_data)"
   ]
  },
  {
   "cell_type": "markdown",
   "metadata": {
    "collapsed": false
   },
   "source": [
    "从上表中可以得出，存在缺失值的特征列有：\n",
    "- customer_province：用户省份所在地\n",
    "- customer_city：用户城市所在地\n",
    "- customer_gender：性别：0未知，1男，2女\n",
    "- member_status：会员状态：1正常，2冻结，3已删除\n",
    "- is_member_actived：会员是否激活：0没有激活，1已激活\n",
    "- goods_price：商品原始价格"
   ]
  },
  {
   "cell_type": "markdown",
   "metadata": {
    "collapsed": false
   },
   "source": [
    "### 内存优化脚本"
   ]
  },
  {
   "cell_type": "code",
   "execution_count": null,
   "metadata": {
    "collapsed": false
   },
   "outputs": [
    {
     "name": "stdout",
     "output_type": "stream",
     "text": [
      "训练集占用内存：510.40096282958984 MB\n"
     ]
    }
   ],
   "source": [
    "mem_train = train_data.memory_usage(index=True).sum()\r\n",
    "\r\n",
    "print(u\"训练集占用内存：\"+ str(mem_train/ 1024**2)+\" MB\")"
   ]
  },
  {
   "cell_type": "code",
   "execution_count": null,
   "metadata": {
    "collapsed": false
   },
   "outputs": [],
   "source": [
    "# @from: https://www.kaggle.com/arjanso/reducing-dataframe-memory-size-by-65/code\r\n",
    "# @liscense: Apache 2.0\r\n",
    "# @author: weijian\r\n",
    "def reduce_mem_usage(props):\r\n",
    "    # 计算当前内存\r\n",
    "    start_mem_usg = props.memory_usage().sum() / 1024 ** 2\r\n",
    "    print(\"当前数据占用内存:\", start_mem_usg, \"MB\")\r\n",
    "    \r\n",
    "    # 哪些列包含空值，空值用-999填充。why：因为np.nan当做float处理\r\n",
    "    NAlist = []\r\n",
    "    for col in props.columns:\r\n",
    "        # 这里只过滤了object格式，如果你的代码中还包含其他类型，请一并过滤\r\n",
    "        # if isinstance(props[col].dtypes,int64)\r\n",
    "        if (props[col].dtypes != object):\r\n",
    "            \r\n",
    "            print(\"**************************\")\r\n",
    "            print(\"columns: \", col)\r\n",
    "            print(\"dtype before\", props[col].dtype)\r\n",
    "            \r\n",
    "            # 整数不支持NA，因此需要填充NA\r\n",
    "            if not np.isfinite(props[col]).all():\r\n",
    "                NAlist.append(col)\r\n",
    "                props[col].fillna(-999, inplace=True) # 用-999填充\r\n",
    "\r\n",
    "            # 判断是否是int类型\r\n",
    "            isInt = False\r\n",
    "            mmax = props[col].max()\r\n",
    "            mmin = props[col].min()\r\n",
    "\r\n",
    "            # 测试该列是否可以转换为整数\r\n",
    "            # asint = props[col].fillna(0).astype(np.int64)\r\n",
    "            asint = props[col].astype(np.int64)\r\n",
    "            result = np.fabs(props[col] - asint)\r\n",
    "            result = result.sum()\r\n",
    "            # 绝对误差和小于0.01认为可以转换的，要根据task修改\r\n",
    "            if result < 0.01: \r\n",
    "                isInt = True\r\n",
    "            \r\n",
    "            # make interger / unsigned Integer datatypes\r\n",
    "            if isInt:\r\n",
    "                if mmin >= 0: # 最小值大于0，转换成无符号整型\r\n",
    "                    if mmax <= 255:\r\n",
    "                        props[col] = props[col].astype(np.uint8)\r\n",
    "                    elif mmax <= 65535:\r\n",
    "                        props[col] = props[col].astype(np.uint16)\r\n",
    "                    elif mmax <= 4294967295:\r\n",
    "                        props[col] = props[col].astype(np.uint32)\r\n",
    "                    else:\r\n",
    "                        props[col] = props[col].astype(np.uint64)\r\n",
    "                else: # 转换成有符号整型\r\n",
    "                    if mmin > np.iinfo(np.int8).min and mmax < np.iinfo(np.int8).max:\r\n",
    "                        props[col] = props[col].astype(np.int8)\r\n",
    "                    elif mmin > np.iinfo(np.int16).min and mmax < np.iinfo(np.int16).max:\r\n",
    "                        props[col] = props[col].astype(np.int16)\r\n",
    "                    elif mmin > np.iinfo(np.int32).min and mmax < np.iinfo(np.int32).max:\r\n",
    "                        props[col] = props[col].astype(np.int32)\r\n",
    "                    elif mmin > np.iinfo(np.int64).min and mmax < np.iinfo(np.int64).max:\r\n",
    "                        props[col] = props[col].astype(np.int64)  \r\n",
    "            else:# 注意：这里对于float都转换成float16，需要根据你的情况自己更改\r\n",
    "                if mmin > np.finfo(np.float16).min and mmax < np.finfo(np.float16).max:\r\n",
    "                    props[col] = props[col].astype(np.float16)\r\n",
    "                elif mmin > np.finfo(np.float32).min and mmax < np.finfo(np.float32).max:\r\n",
    "                    props[col] = props[col].astype(np.float32)\r\n",
    "                elif mmin > np.finfo(np.float64).min and mmax < np.finfo(np.float64).max:\r\n",
    "                    props[col] = props[col].astype(np.float64)      \r\n",
    "            \r\n",
    "            print(\"dtype after\", props[col].dtype)\r\n",
    "            print(\"********************************\")\r\n",
    "    print(\"转换后的内存占用情况：\")\r\n",
    "    mem_usg = props.memory_usage().sum() / 1024**2 \r\n",
    "    print(\"占用内存: \",mem_usg,\" MB\")\r\n",
    "    print(\"转换后的内存是初始内存的\",100*mem_usg/start_mem_usg,\"%\")\r\n",
    "    return props, NAlist"
   ]
  },
  {
   "cell_type": "code",
   "execution_count": null,
   "metadata": {
    "collapsed": false
   },
   "outputs": [
    {
     "name": "stdout",
     "output_type": "stream",
     "text": [
      "当前数据占用内存: 510.40096282958984 MB\n",
      "**************************\n",
      "columns:  order_detail_id\n",
      "dtype before int64\n",
      "dtype after uint32\n",
      "********************************\n",
      "**************************\n",
      "columns:  order_id\n",
      "dtype before int64\n",
      "dtype after uint32\n",
      "********************************\n",
      "**************************\n",
      "columns:  order_total_num\n",
      "dtype before float64\n",
      "dtype after uint16\n",
      "********************************\n",
      "**************************\n",
      "columns:  order_amount\n",
      "dtype before float64\n",
      "dtype after float32\n",
      "********************************\n",
      "**************************\n",
      "columns:  order_total_payment\n",
      "dtype before float64\n",
      "dtype after float32\n",
      "********************************\n",
      "**************************\n",
      "columns:  order_total_discount\n",
      "dtype before float64\n",
      "dtype after float16\n",
      "********************************\n",
      "**************************\n",
      "columns:  order_status\n",
      "dtype before int64\n",
      "dtype after uint8\n",
      "********************************\n",
      "**************************\n",
      "columns:  order_count\n",
      "dtype before float64\n",
      "dtype after uint32\n",
      "********************************\n",
      "**************************\n",
      "columns:  is_customer_rate\n",
      "dtype before float64\n",
      "dtype after uint8\n",
      "********************************\n",
      "**************************\n",
      "columns:  order_detail_status\n",
      "dtype before float64\n",
      "dtype after uint8\n",
      "********************************\n",
      "**************************\n",
      "columns:  order_detail_goods_num\n",
      "dtype before float64\n",
      "dtype after uint16\n",
      "********************************\n",
      "**************************\n",
      "columns:  order_detail_amount\n",
      "dtype before float64\n",
      "dtype after float32\n",
      "********************************\n",
      "**************************\n",
      "columns:  order_detail_payment\n",
      "dtype before float64\n",
      "dtype after float32\n",
      "********************************\n",
      "**************************\n",
      "columns:  order_detail_discount\n",
      "dtype before float64\n",
      "dtype after float32\n",
      "********************************\n",
      "**************************\n",
      "columns:  member_id\n",
      "dtype before float64\n",
      "dtype after uint32\n",
      "********************************\n",
      "**************************\n",
      "columns:  customer_id\n",
      "dtype before int64\n",
      "dtype after uint32\n",
      "********************************\n",
      "**************************\n",
      "columns:  customer_gender\n",
      "dtype before float64\n",
      "dtype after int16\n",
      "********************************\n",
      "**************************\n",
      "columns:  member_status\n",
      "dtype before float64\n",
      "dtype after int16\n",
      "********************************\n",
      "**************************\n",
      "columns:  is_member_actived\n",
      "dtype before float64\n",
      "dtype after int16\n",
      "********************************\n",
      "**************************\n",
      "columns:  goods_id\n",
      "dtype before int64\n",
      "dtype after uint16\n",
      "********************************\n",
      "**************************\n",
      "columns:  goods_class_id\n",
      "dtype before int64\n",
      "dtype after uint16\n",
      "********************************\n",
      "**************************\n",
      "columns:  goods_price\n",
      "dtype before float64\n",
      "dtype after float16\n",
      "********************************\n",
      "**************************\n",
      "columns:  goods_status\n",
      "dtype before float64\n",
      "dtype after uint8\n",
      "********************************\n",
      "**************************\n",
      "columns:  goods_has_discount\n",
      "dtype before float64\n",
      "dtype after uint8\n",
      "********************************\n",
      "转换后的内存占用情况：\n",
      "占用内存:  226.60049533843994  MB\n",
      "转换后的内存是初始内存的 44.39656502256564 %\n"
     ]
    }
   ],
   "source": [
    "train_data,NA_columns = reduce_mem_usage(train_data)"
   ]
  },
  {
   "cell_type": "code",
   "execution_count": null,
   "metadata": {
    "collapsed": false
   },
   "outputs": [
    {
     "data": {
      "text/plain": [
       "order_detail_id            uint32\n",
       "order_id                   uint32\n",
       "order_total_num            uint16\n",
       "order_amount              float32\n",
       "order_total_payment       float32\n",
       "order_total_discount      float16\n",
       "order_pay_time             object\n",
       "order_status                uint8\n",
       "order_count                uint32\n",
       "is_customer_rate            uint8\n",
       "order_detail_status         uint8\n",
       "order_detail_goods_num     uint16\n",
       "order_detail_amount       float32\n",
       "order_detail_payment      float32\n",
       "order_detail_discount     float32\n",
       "customer_province          object\n",
       "customer_city              object\n",
       "member_id                  uint32\n",
       "customer_id                uint32\n",
       "customer_gender             int16\n",
       "member_status               int16\n",
       "is_member_actived           int16\n",
       "goods_id                   uint16\n",
       "goods_class_id             uint16\n",
       "goods_price               float16\n",
       "goods_status                uint8\n",
       "goods_has_discount          uint8\n",
       "goods_list_time            object\n",
       "goods_delist_time          object\n",
       "dtype: object"
      ]
     },
     "execution_count": null,
     "metadata": {},
     "output_type": "execute_result"
    }
   ],
   "source": [
    "train_data.dtypes"
   ]
  },
  {
   "cell_type": "code",
   "execution_count": null,
   "metadata": {
    "collapsed": false
   },
   "outputs": [
    {
     "data": {
      "text/plain": [
       "['customer_gender', 'member_status', 'is_member_actived', 'goods_price']"
      ]
     },
     "execution_count": null,
     "metadata": {},
     "output_type": "execute_result"
    }
   ],
   "source": [
    "NA_columns"
   ]
  },
  {
   "cell_type": "markdown",
   "metadata": {
    "collapsed": false
   },
   "source": [
    "### 处理日期"
   ]
  },
  {
   "cell_type": "code",
   "execution_count": null,
   "metadata": {
    "collapsed": false
   },
   "outputs": [],
   "source": [
    "def handling_date(data,date_cols):\r\n",
    "    \"\"\"\r\n",
    "    date：输入数据\r\n",
    "    date_cols:需要转换的列名\r\n",
    "    \"\"\"\r\n",
    "    for col in date_cols:\r\n",
    "\r\n",
    "        print(\"**************************\")\r\n",
    "        print(\"columns: \", col)\r\n",
    "        \r\n",
    "        data[col]=pd.to_datetime(data[col],format=\"%Y-%m-%d %H:%M:%S\")\r\n",
    "\r\n",
    "    return data"
   ]
  },
  {
   "cell_type": "code",
   "execution_count": null,
   "metadata": {
    "collapsed": false
   },
   "outputs": [
    {
     "name": "stdout",
     "output_type": "stream",
     "text": [
      "**************************\n",
      "columns:  goods_list_time\n",
      "**************************\n",
      "columns:  order_pay_time\n",
      "**************************\n",
      "columns:  goods_delist_time\n"
     ]
    }
   ],
   "source": [
    "train_data = handling_date(train_data,['goods_list_time','order_pay_time','goods_delist_time'])"
   ]
  },
  {
   "cell_type": "code",
   "execution_count": null,
   "metadata": {
    "collapsed": false
   },
   "outputs": [
    {
     "data": {
      "text/html": [
       "<div>\n",
       "<style scoped>\n",
       "    .dataframe tbody tr th:only-of-type {\n",
       "        vertical-align: middle;\n",
       "    }\n",
       "\n",
       "    .dataframe tbody tr th {\n",
       "        vertical-align: top;\n",
       "    }\n",
       "\n",
       "    .dataframe thead th {\n",
       "        text-align: right;\n",
       "    }\n",
       "</style>\n",
       "<table border=\"1\" class=\"dataframe\">\n",
       "  <thead>\n",
       "    <tr style=\"text-align: right;\">\n",
       "      <th></th>\n",
       "      <th>order_detail_id</th>\n",
       "      <th>order_id</th>\n",
       "      <th>order_total_num</th>\n",
       "      <th>order_amount</th>\n",
       "      <th>order_total_payment</th>\n",
       "      <th>order_total_discount</th>\n",
       "      <th>order_pay_time</th>\n",
       "      <th>order_status</th>\n",
       "      <th>order_count</th>\n",
       "      <th>is_customer_rate</th>\n",
       "      <th>...</th>\n",
       "      <th>customer_gender</th>\n",
       "      <th>member_status</th>\n",
       "      <th>is_member_actived</th>\n",
       "      <th>goods_id</th>\n",
       "      <th>goods_class_id</th>\n",
       "      <th>goods_price</th>\n",
       "      <th>goods_status</th>\n",
       "      <th>goods_has_discount</th>\n",
       "      <th>goods_list_time</th>\n",
       "      <th>goods_delist_time</th>\n",
       "    </tr>\n",
       "  </thead>\n",
       "  <tbody>\n",
       "    <tr>\n",
       "      <th>0</th>\n",
       "      <td>1000000</td>\n",
       "      <td>1000000</td>\n",
       "      <td>1</td>\n",
       "      <td>239.899994</td>\n",
       "      <td>96.900002</td>\n",
       "      <td>0.0</td>\n",
       "      <td>2012-11-01 00:10:56</td>\n",
       "      <td>6</td>\n",
       "      <td>1</td>\n",
       "      <td>0</td>\n",
       "      <td>...</td>\n",
       "      <td>-999</td>\n",
       "      <td>-999</td>\n",
       "      <td>-999</td>\n",
       "      <td>998</td>\n",
       "      <td>998</td>\n",
       "      <td>54.90625</td>\n",
       "      <td>1</td>\n",
       "      <td>0</td>\n",
       "      <td>2014-10-25 11:08:07</td>\n",
       "      <td>2014-11-01 11:08:07</td>\n",
       "    </tr>\n",
       "    <tr>\n",
       "      <th>1</th>\n",
       "      <td>1001530</td>\n",
       "      <td>1001327</td>\n",
       "      <td>2</td>\n",
       "      <td>288.000000</td>\n",
       "      <td>96.900002</td>\n",
       "      <td>0.0</td>\n",
       "      <td>2013-08-31 23:14:42</td>\n",
       "      <td>6</td>\n",
       "      <td>2</td>\n",
       "      <td>0</td>\n",
       "      <td>...</td>\n",
       "      <td>-999</td>\n",
       "      <td>-999</td>\n",
       "      <td>-999</td>\n",
       "      <td>1953</td>\n",
       "      <td>1953</td>\n",
       "      <td>45.96875</td>\n",
       "      <td>0</td>\n",
       "      <td>1</td>\n",
       "      <td>2013-08-28 17:27:50</td>\n",
       "      <td>2013-09-01 00:38:17</td>\n",
       "    </tr>\n",
       "    <tr>\n",
       "      <th>2</th>\n",
       "      <td>1001531</td>\n",
       "      <td>1001327</td>\n",
       "      <td>2</td>\n",
       "      <td>288.000000</td>\n",
       "      <td>96.900002</td>\n",
       "      <td>0.0</td>\n",
       "      <td>2013-08-31 23:14:42</td>\n",
       "      <td>6</td>\n",
       "      <td>2</td>\n",
       "      <td>0</td>\n",
       "      <td>...</td>\n",
       "      <td>-999</td>\n",
       "      <td>-999</td>\n",
       "      <td>-999</td>\n",
       "      <td>1083</td>\n",
       "      <td>1083</td>\n",
       "      <td>53.03125</td>\n",
       "      <td>1</td>\n",
       "      <td>0</td>\n",
       "      <td>2014-10-29 18:21:05</td>\n",
       "      <td>2014-11-05 18:21:05</td>\n",
       "    </tr>\n",
       "    <tr>\n",
       "      <th>3</th>\n",
       "      <td>1001532</td>\n",
       "      <td>1001328</td>\n",
       "      <td>3</td>\n",
       "      <td>180.000000</td>\n",
       "      <td>89.699997</td>\n",
       "      <td>0.0</td>\n",
       "      <td>2013-08-31 22:06:35</td>\n",
       "      <td>6</td>\n",
       "      <td>1</td>\n",
       "      <td>0</td>\n",
       "      <td>...</td>\n",
       "      <td>-999</td>\n",
       "      <td>-999</td>\n",
       "      <td>-999</td>\n",
       "      <td>1013</td>\n",
       "      <td>1013</td>\n",
       "      <td>46.06250</td>\n",
       "      <td>1</td>\n",
       "      <td>1</td>\n",
       "      <td>2014-10-25 11:00:00</td>\n",
       "      <td>2014-11-01 11:00:00</td>\n",
       "    </tr>\n",
       "    <tr>\n",
       "      <th>4</th>\n",
       "      <td>1001533</td>\n",
       "      <td>1001329</td>\n",
       "      <td>1</td>\n",
       "      <td>159.899994</td>\n",
       "      <td>65.900002</td>\n",
       "      <td>0.0</td>\n",
       "      <td>2013-08-31 21:33:36</td>\n",
       "      <td>6</td>\n",
       "      <td>1</td>\n",
       "      <td>0</td>\n",
       "      <td>...</td>\n",
       "      <td>-999</td>\n",
       "      <td>-999</td>\n",
       "      <td>-999</td>\n",
       "      <td>1628</td>\n",
       "      <td>1628</td>\n",
       "      <td>50.71875</td>\n",
       "      <td>1</td>\n",
       "      <td>0</td>\n",
       "      <td>2014-10-23 15:35:33</td>\n",
       "      <td>2014-10-30 15:35:33</td>\n",
       "    </tr>\n",
       "  </tbody>\n",
       "</table>\n",
       "<p>5 rows × 29 columns</p>\n",
       "</div>"
      ],
      "text/plain": [
       "   order_detail_id  order_id  order_total_num  order_amount  \\\n",
       "0          1000000   1000000                1    239.899994   \n",
       "1          1001530   1001327                2    288.000000   \n",
       "2          1001531   1001327                2    288.000000   \n",
       "3          1001532   1001328                3    180.000000   \n",
       "4          1001533   1001329                1    159.899994   \n",
       "\n",
       "   order_total_payment  order_total_discount      order_pay_time  \\\n",
       "0            96.900002                   0.0 2012-11-01 00:10:56   \n",
       "1            96.900002                   0.0 2013-08-31 23:14:42   \n",
       "2            96.900002                   0.0 2013-08-31 23:14:42   \n",
       "3            89.699997                   0.0 2013-08-31 22:06:35   \n",
       "4            65.900002                   0.0 2013-08-31 21:33:36   \n",
       "\n",
       "   order_status  order_count  is_customer_rate  ...  customer_gender  \\\n",
       "0             6            1                 0  ...             -999   \n",
       "1             6            2                 0  ...             -999   \n",
       "2             6            2                 0  ...             -999   \n",
       "3             6            1                 0  ...             -999   \n",
       "4             6            1                 0  ...             -999   \n",
       "\n",
       "   member_status  is_member_actived  goods_id  goods_class_id goods_price  \\\n",
       "0           -999               -999       998             998    54.90625   \n",
       "1           -999               -999      1953            1953    45.96875   \n",
       "2           -999               -999      1083            1083    53.03125   \n",
       "3           -999               -999      1013            1013    46.06250   \n",
       "4           -999               -999      1628            1628    50.71875   \n",
       "\n",
       "  goods_status  goods_has_discount     goods_list_time   goods_delist_time  \n",
       "0            1                   0 2014-10-25 11:08:07 2014-11-01 11:08:07  \n",
       "1            0                   1 2013-08-28 17:27:50 2013-09-01 00:38:17  \n",
       "2            1                   0 2014-10-29 18:21:05 2014-11-05 18:21:05  \n",
       "3            1                   1 2014-10-25 11:00:00 2014-11-01 11:00:00  \n",
       "4            1                   0 2014-10-23 15:35:33 2014-10-30 15:35:33  \n",
       "\n",
       "[5 rows x 29 columns]"
      ]
     },
     "execution_count": null,
     "metadata": {},
     "output_type": "execute_result"
    }
   ],
   "source": [
    "train_data.head()"
   ]
  },
  {
   "cell_type": "code",
   "execution_count": null,
   "metadata": {
    "collapsed": false
   },
   "outputs": [
    {
     "data": {
      "text/plain": [
       "order_detail_id                   uint32\n",
       "order_id                          uint32\n",
       "order_total_num                   uint16\n",
       "order_amount                     float32\n",
       "order_total_payment              float32\n",
       "order_total_discount             float16\n",
       "order_pay_time            datetime64[ns]\n",
       "order_status                       uint8\n",
       "order_count                       uint32\n",
       "is_customer_rate                   uint8\n",
       "order_detail_status                uint8\n",
       "order_detail_goods_num            uint16\n",
       "order_detail_amount              float32\n",
       "order_detail_payment             float32\n",
       "order_detail_discount            float32\n",
       "customer_province                 object\n",
       "customer_city                     object\n",
       "member_id                         uint32\n",
       "customer_id                       uint32\n",
       "customer_gender                    int16\n",
       "member_status                      int16\n",
       "is_member_actived                  int16\n",
       "goods_id                          uint16\n",
       "goods_class_id                    uint16\n",
       "goods_price                      float16\n",
       "goods_status                       uint8\n",
       "goods_has_discount                 uint8\n",
       "goods_list_time           datetime64[ns]\n",
       "goods_delist_time         datetime64[ns]\n",
       "dtype: object"
      ]
     },
     "execution_count": null,
     "metadata": {},
     "output_type": "execute_result"
    }
   ],
   "source": [
    "train_data.dtypes"
   ]
  },
  {
   "cell_type": "markdown",
   "metadata": {
    "collapsed": false
   },
   "source": [
    "## 探索分析"
   ]
  },
  {
   "cell_type": "markdown",
   "metadata": {
    "collapsed": false
   },
   "source": [
    "### 订单状态分布"
   ]
  },
  {
   "cell_type": "code",
   "execution_count": null,
   "metadata": {
    "collapsed": false
   },
   "outputs": [],
   "source": [
    "def plt_pie(data,categories,legend_title,font):\r\n",
    "    fig, ax = plt.subplots(figsize=(12, 7), subplot_kw=dict(aspect=\"equal\"), dpi= 80)\r\n",
    "\r\n",
    "    def func(pct, allvals):\r\n",
    "        absolute = int(pct/100.*np.sum(allvals))\r\n",
    "        return \"{:.1f}% ({:d} )\".format(pct, absolute)\r\n",
    "\r\n",
    "    wedges, texts, autotexts = ax.pie(data, \r\n",
    "                                      autopct=lambda pct: func(pct, data),\r\n",
    "                                      textprops=dict(color=\"w\"), \r\n",
    "                                      colors=plt.cm.Dark2.colors,\r\n",
    "                                      startangle=140)\r\n",
    "    \r\n",
    "    ax.legend(wedges, categories, title=legend_title, loc=\"center left\", bbox_to_anchor=(1, 0, 0.5, 1))\r\n",
    "    plt.setp(autotexts, size=10, weight=700)\r\n",
    "    ax.set_title(\"订单状态分布\",fontproperties=font)\r\n",
    "    plt.show()\r\n"
   ]
  },
  {
   "cell_type": "code",
   "execution_count": null,
   "metadata": {
    "collapsed": false
   },
   "outputs": [
    {
     "data": {
      "image/png": "[encoded data removed]",
      "text/plain": [
       "<Figure size 960x560 with 1 Axes>"
      ]
     },
     "metadata": {},
     "output_type": "display_data"
    }
   ],
   "source": [
    "order_statu = train_data.groupby([\"order_status\"]).size().reset_index(name='counts')\r\n",
    "\r\n",
    "plt_pie(order_statu['counts'],order_statu['order_status'],\"order_status\",myfont)"
   ]
  },
  {
   "cell_type": "markdown",
   "metadata": {
    "collapsed": false
   },
   "source": [
    "由此可以看出，完成交易数据占总数据的90%左右，以下将筛选出完成交易的订单量。"
   ]
  },
  {
   "cell_type": "markdown",
   "metadata": {
    "collapsed": false
   },
   "source": [
    "### 性别分布"
   ]
  },
  {
   "cell_type": "markdown",
   "metadata": {
    "collapsed": false
   },
   "source": [
    "#### 完成交易的性别分布情况："
   ]
  },
  {
   "cell_type": "code",
   "execution_count": null,
   "metadata": {
    "collapsed": false
   },
   "outputs": [
    {
     "data": {
      "image/png": "[encoded data removed]",
      "text/plain": [
       "<Figure size 960x560 with 1 Axes>"
      ]
     },
     "metadata": {},
     "output_type": "display_data"
    }
   ],
   "source": [
    "gender = train_data[train_data[\"order_status\"]==6].groupby([\"customer_gender\"]).size()\r\n",
    "\r\n",
    "plt_pie(gender.values,gender.index.values,\"gender\",myfont)"
   ]
  },
  {
   "cell_type": "markdown",
   "metadata": {
    "collapsed": false
   },
   "source": [
    "#### 未完成交易的性别分布情况："
   ]
  },
  {
   "cell_type": "code",
   "execution_count": null,
   "metadata": {
    "collapsed": false
   },
   "outputs": [
    {
     "data": {
      "image/png": "[encoded data removed]",
      "text/plain": [
       "<Figure size 960x560 with 1 Axes>"
      ]
     },
     "metadata": {},
     "output_type": "display_data"
    }
   ],
   "source": [
    "gender = train_data[train_data[\"order_status\"]!=6].groupby([\"customer_gender\"]).size()\r\n",
    "\r\n",
    "plt_pie(gender.values,gender.index.values,\"gender\",myfont)"
   ]
  },
  {
   "cell_type": "markdown",
   "metadata": {
    "collapsed": false
   },
   "source": [
    "### 商品分析"
   ]
  },
  {
   "cell_type": "code",
   "execution_count": null,
   "metadata": {
    "collapsed": false
   },
   "outputs": [
    {
     "data": {
      "text/plain": [
       "Index(['order_detail_id', 'order_id', 'order_total_num', 'order_amount',\n",
       "       'order_total_payment', 'order_total_discount', 'order_pay_time',\n",
       "       'order_status', 'order_count', 'is_customer_rate',\n",
       "       'order_detail_status', 'order_detail_goods_num', 'order_detail_amount',\n",
       "       'order_detail_payment', 'order_detail_discount', 'customer_province',\n",
       "       'customer_city', 'member_id', 'customer_id', 'customer_gender',\n",
       "       'member_status', 'is_member_actived', 'goods_id', 'goods_class_id',\n",
       "       'goods_price', 'goods_status', 'goods_has_discount', 'goods_list_time',\n",
       "       'goods_delist_time'],\n",
       "      dtype='object')"
      ]
     },
     "execution_count": null,
     "metadata": {},
     "output_type": "execute_result"
    }
   ],
   "source": [
    "train_data.columns"
   ]
  },
  {
   "cell_type": "markdown",
   "metadata": {
    "collapsed": false
   },
   "source": [
    "分析特征如下：\n",
    "\n",
    "- order_detail_id\t订单详情id\n",
    "- order_id\t订单id\n",
    "- order_status\t订单状态： 1表示等待买家付款， 2表示卖家部分发货， 3表示卖家发货， 4表示等待买家确认收货， 5表示买家已签收， 6表示交易成功\n",
    "- goods_id\t商品id\n",
    "- goods_class_id\t商品分类id\n",
    "- goods_price\t商品原始价格\n",
    "- goods_status\t商品库存状态：1出售中，2库中\n",
    "- goods_has_discount\t是否支持会员折扣：0不支持，1支持\n",
    "- goods_list_time\t商品最新上架时间\n",
    "- goods_delist_time\t商品最新下架时间"
   ]
  },
  {
   "cell_type": "markdown",
   "metadata": {
    "collapsed": false
   },
   "source": [
    "#### 买家已签收的商品分布情况"
   ]
  },
  {
   "cell_type": "markdown",
   "metadata": {
    "collapsed": false
   },
   "source": [
    "## 特征工程"
   ]
  },
  {
   "cell_type": "code",
   "execution_count": null,
   "metadata": {
    "collapsed": false
   },
   "outputs": [
    {
     "data": {
      "text/plain": [
       "Index(['order_detail_id', 'order_id', 'order_total_num', 'order_amount',\n",
       "       'order_total_payment', 'order_total_discount', 'order_pay_time',\n",
       "       'order_status', 'order_count', 'is_customer_rate',\n",
       "       'order_detail_status', 'order_detail_goods_num', 'order_detail_amount',\n",
       "       'order_detail_payment', 'order_detail_discount', 'customer_province',\n",
       "       'customer_city', 'member_id', 'customer_id', 'customer_gender',\n",
       "       'member_status', 'is_member_actived', 'goods_id', 'goods_class_id',\n",
       "       'goods_price', 'goods_status', 'goods_has_discount', 'goods_list_time',\n",
       "       'goods_delist_time'],\n",
       "      dtype='object')"
      ]
     },
     "execution_count": null,
     "metadata": {},
     "output_type": "execute_result"
    }
   ],
   "source": [
    "\r\n",
    "train_data.columns"
   ]
  },
  {
   "cell_type": "markdown",
   "metadata": {
    "collapsed": false
   },
   "source": [
    "### 问题分析"
   ]
  },
  {
   "cell_type": "markdown",
   "metadata": {
    "collapsed": false
   },
   "source": [
    "问题的主要目的是：\n",
    "- 通过品牌商家的历史订单数据构建预测模型，预估用户人群在下个月内产生购买行为的概率\n",
    "\n",
    "问题中主要有两个关键词：\n",
    "- 下个月内：预测某一时间段内的事件，首先想到的是时间序列分析\n",
    "- 用户的购买行为：此处将是否完成交易作为是否存在购买行为的标准\n",
    "\n"
   ]
  },
  {
   "cell_type": "markdown",
   "metadata": {
    "collapsed": false
   },
   "source": [
    "### 初始特征筛选"
   ]
  },
  {
   "cell_type": "markdown",
   "metadata": {
    "collapsed": false
   },
   "source": [
    "从原始数据集中筛选出的特征如下：\n",
    "\n",
    "- order_id，订单id\n",
    "- order_pay_time，付款时间\n",
    "- customer_id，用户id\n",
    "- customer_gender，性别：0未知，1男，2女\n",
    "- member_status，会员状态：1正常，2冻结，3已删除\n",
    "- order_total_payment，订单实付金额\n",
    "- order_status，订单状态： 1表示等待买家付款， 2表示卖家部分发货， 3表示卖家发货， 4表示等待买家确认收货， 5表示买家已签收， 6表示交易成功"
   ]
  },
  {
   "cell_type": "code",
   "execution_count": null,
   "metadata": {
    "collapsed": false
   },
   "outputs": [],
   "source": [
    "customer_cols = [\"order_id\",\"order_pay_time\",\"customer_id\",\"customer_gender\",\"member_status\",\"order_total_payment\",\"order_status\"]"
   ]
  },
  {
   "cell_type": "code",
   "execution_count": null,
   "metadata": {
    "collapsed": false
   },
   "outputs": [
    {
     "data": {
      "text/html": [
       "<div>\n",
       "<style scoped>\n",
       "    .dataframe tbody tr th:only-of-type {\n",
       "        vertical-align: middle;\n",
       "    }\n",
       "\n",
       "    .dataframe tbody tr th {\n",
       "        vertical-align: top;\n",
       "    }\n",
       "\n",
       "    .dataframe thead th {\n",
       "        text-align: right;\n",
       "    }\n",
       "</style>\n",
       "<table border=\"1\" class=\"dataframe\">\n",
       "  <thead>\n",
       "    <tr style=\"text-align: right;\">\n",
       "      <th></th>\n",
       "      <th>order_id</th>\n",
       "      <th>order_pay_time</th>\n",
       "      <th>customer_id</th>\n",
       "      <th>customer_gender</th>\n",
       "      <th>member_status</th>\n",
       "      <th>order_total_payment</th>\n",
       "      <th>order_status</th>\n",
       "    </tr>\n",
       "  </thead>\n",
       "  <tbody>\n",
       "    <tr>\n",
       "      <th>0</th>\n",
       "      <td>1000000</td>\n",
       "      <td>2012-11-01 00:10:56</td>\n",
       "      <td>1000000</td>\n",
       "      <td>-999</td>\n",
       "      <td>-999</td>\n",
       "      <td>96.900002</td>\n",
       "      <td>6</td>\n",
       "    </tr>\n",
       "    <tr>\n",
       "      <th>155115</th>\n",
       "      <td>1155016</td>\n",
       "      <td>2013-08-03 21:34:49</td>\n",
       "      <td>1000014</td>\n",
       "      <td>-999</td>\n",
       "      <td>-999</td>\n",
       "      <td>66.900002</td>\n",
       "      <td>6</td>\n",
       "    </tr>\n",
       "    <tr>\n",
       "      <th>157749</th>\n",
       "      <td>1157250</td>\n",
       "      <td>2013-03-08 10:21:29</td>\n",
       "      <td>1000034</td>\n",
       "      <td>-999</td>\n",
       "      <td>-999</td>\n",
       "      <td>99.900002</td>\n",
       "      <td>6</td>\n",
       "    </tr>\n",
       "    <tr>\n",
       "      <th>157750</th>\n",
       "      <td>1157250</td>\n",
       "      <td>2013-03-08 10:21:29</td>\n",
       "      <td>1000034</td>\n",
       "      <td>-999</td>\n",
       "      <td>-999</td>\n",
       "      <td>99.900002</td>\n",
       "      <td>6</td>\n",
       "    </tr>\n",
       "    <tr>\n",
       "      <th>126898</th>\n",
       "      <td>1126955</td>\n",
       "      <td>2013-06-07 12:44:54</td>\n",
       "      <td>1000046</td>\n",
       "      <td>-999</td>\n",
       "      <td>-999</td>\n",
       "      <td>39.900002</td>\n",
       "      <td>6</td>\n",
       "    </tr>\n",
       "  </tbody>\n",
       "</table>\n",
       "</div>"
      ],
      "text/plain": [
       "        order_id      order_pay_time  customer_id  customer_gender  \\\n",
       "0        1000000 2012-11-01 00:10:56      1000000             -999   \n",
       "155115   1155016 2013-08-03 21:34:49      1000014             -999   \n",
       "157749   1157250 2013-03-08 10:21:29      1000034             -999   \n",
       "157750   1157250 2013-03-08 10:21:29      1000034             -999   \n",
       "126898   1126955 2013-06-07 12:44:54      1000046             -999   \n",
       "\n",
       "        member_status  order_total_payment  order_status  \n",
       "0                -999            96.900002             6  \n",
       "155115           -999            66.900002             6  \n",
       "157749           -999            99.900002             6  \n",
       "157750           -999            99.900002             6  \n",
       "126898           -999            39.900002             6  "
      ]
     },
     "execution_count": null,
     "metadata": {},
     "output_type": "execute_result"
    }
   ],
   "source": [
    "customer_features = train_data[customer_cols]\r\n",
    "customer_features.sort_values([\"customer_id\",\"order_pay_time\"]).head()"
   ]
  },
  {
   "cell_type": "markdown",
   "metadata": {
    "collapsed": false
   },
   "source": [
    "### 构建模型特征"
   ]
  },
  {
   "cell_type": "markdown",
   "metadata": {
    "collapsed": false
   },
   "source": [
    "筛选出已**完成交易的订单数据**："
   ]
  },
  {
   "cell_type": "code",
   "execution_count": null,
   "metadata": {
    "collapsed": false
   },
   "outputs": [
    {
     "data": {
      "text/plain": [
       "(2089352, 7)"
      ]
     },
     "execution_count": null,
     "metadata": {},
     "output_type": "execute_result"
    }
   ],
   "source": [
    "customer_features = customer_features[customer_features[\"order_status\"]==6]\r\n",
    "customer_features.shape"
   ]
  },
  {
   "cell_type": "markdown",
   "metadata": {
    "collapsed": false
   },
   "source": [
    "去重："
   ]
  },
  {
   "cell_type": "code",
   "execution_count": null,
   "metadata": {
    "collapsed": false
   },
   "outputs": [
    {
     "data": {
      "text/plain": [
       "(1741558, 7)"
      ]
     },
     "execution_count": null,
     "metadata": {},
     "output_type": "execute_result"
    }
   ],
   "source": [
    "customer_features = customer_features.drop_duplicates()\r\n",
    "customer_features.shape"
   ]
  },
  {
   "cell_type": "code",
   "execution_count": null,
   "metadata": {
    "collapsed": false
   },
   "outputs": [],
   "source": [
    "customer_features.to_csv(\"customer_features.csv\",index=False)"
   ]
  },
  {
   "cell_type": "markdown",
   "metadata": {
    "collapsed": false
   },
   "source": [
    "**待构建模型特征**如下：\n",
    "\n",
    "- 用户性别\n",
    "- 会员状态\n",
    "- 购物频率(平均每次购物间隔时长)\n",
    "- 距离最近一次消费的间隔\n",
    "- 平均每个月的购物支出\n",
    "- 连续消费月数(待添加)\n",
    "- 月支出的方差(待添加)\n"
   ]
  },
  {
   "cell_type": "markdown",
   "metadata": {
    "collapsed": false
   },
   "source": [
    "以预测月份的前6个月为输入，则可构造4份训练数据集：\n",
    "\n",
    "- 输入日期范围：2012-11 至 2013-04，标签月份是5月\n",
    "- 输入日期范围：2012-12 至 2013-05，标签月份是6月\n",
    "- 输入日期范围：2013-01 至 2013-06，标签月份是7月\n",
    "- 输入日期范围：2013-02 至 2013-07，标签月份是8月"
   ]
  },
  {
   "cell_type": "markdown",
   "metadata": {
    "collapsed": false
   },
   "source": [
    "#### 建模特征1"
   ]
  },
  {
   "cell_type": "markdown",
   "metadata": {
    "collapsed": false
   },
   "source": [
    "**第1步**，利用原始数据获取以下特征：\n",
    "\n",
    "- 用户性别\n",
    "- 会员状态\n",
    "- 购物频率(平均每次购物间隔时长)\n",
    "- 距离最近一次消费的间隔"
   ]
  },
  {
   "cell_type": "code",
   "execution_count": null,
   "metadata": {
    "collapsed": false
   },
   "outputs": [],
   "source": [
    "def get_model_feature1(data,cur_date=\"2013-08-01\"):\r\n",
    "    \"\"\"\r\n",
    "    根据原始数据提取建模相关特征\r\n",
    "    \"\"\"\r\n",
    "    # 用户id\r\n",
    "    customer_data = []\r\n",
    "    customer_ids = data[\"customer_id\"].drop_duplicates()\r\n",
    "    l = len(customer_ids)\r\n",
    "    i = 1\r\n",
    "\r\n",
    "    for cid in customer_ids:\r\n",
    "        # print(\"#########################################\")\r\n",
    "        # print(cid)\r\n",
    "        customer = {}\r\n",
    "\r\n",
    "        # 获取用户数据\r\n",
    "        grouped = data[data[\"customer_id\"]==cid].sort_values(\"order_pay_time\")\r\n",
    "\r\n",
    "        # 获取客户ID\r\n",
    "        customer[\"customer_id\"] = cid\r\n",
    "\r\n",
    "        # 用户性别\r\n",
    "        customer[\"gender\"] = grouped[\"customer_gender\"].to_list()[-1]\r\n",
    "\r\n",
    "        # 会员状态\r\n",
    "        customer[\"member_status\"] = grouped[\"member_status\"].to_list()[-1]\r\n",
    "\r\n",
    "        # 距离最近一次的购物间隔\r\n",
    "        cur_datetime = pd.to_datetime(cur_date)\r\n",
    "        customer[\"buy_last\"] = (cur_datetime-grouped[\"order_pay_time\"].to_list()[-1])/np.timedelta64(1, \"D\")\r\n",
    "\r\n",
    "        # 购物频率\r\n",
    "        buy_times = len(grouped[\"order_pay_time\"].drop_duplicates())   #购物次数\r\n",
    "        buy_period = (cur_datetime-grouped[\"order_pay_time\"].to_list()[0])/np.timedelta64(1, \"D\")\r\n",
    "        customer[\"buy_period\"] = buy_period/buy_times\r\n",
    "\r\n",
    "        customer_data.append(customer)\r\n",
    "        p = np.round(i/l*100,4)\r\n",
    "        print(\"\\rProgress: {}/{}--{}%\".format(i,l,p), end=\"\")\r\n",
    "        sys.stdout.flush()\r\n",
    "        i += 1\r\n",
    "\r\n",
    "    return pd.DataFrame(customer_data)"
   ]
  },
  {
   "cell_type": "code",
   "execution_count": null,
   "metadata": {
    "collapsed": false
   },
   "outputs": [
    {
     "name": "stdout",
     "output_type": "stream",
     "text": [
      "Progress: 1341878/1341878"
     ]
    }
   ],
   "source": [
    "temp = customer_features[customer_features[\"order_pay_time\"]<pd.to_datetime(\"2013-08-01\")]\r\n",
    "model_feature1 = get_model_feature1(temp)\r\n",
    "\r\n",
    "del temp"
   ]
  },
  {
   "cell_type": "code",
   "execution_count": null,
   "metadata": {
    "collapsed": false
   },
   "outputs": [
    {
     "data": {
      "text/html": [
       "<div>\n",
       "<style scoped>\n",
       "    .dataframe tbody tr th:only-of-type {\n",
       "        vertical-align: middle;\n",
       "    }\n",
       "\n",
       "    .dataframe tbody tr th {\n",
       "        vertical-align: top;\n",
       "    }\n",
       "\n",
       "    .dataframe thead th {\n",
       "        text-align: right;\n",
       "    }\n",
       "</style>\n",
       "<table border=\"1\" class=\"dataframe\">\n",
       "  <thead>\n",
       "    <tr style=\"text-align: right;\">\n",
       "      <th></th>\n",
       "      <th>customer_id</th>\n",
       "      <th>gender</th>\n",
       "      <th>member_status</th>\n",
       "      <th>buy_last</th>\n",
       "      <th>buy_period</th>\n",
       "    </tr>\n",
       "  </thead>\n",
       "  <tbody>\n",
       "    <tr>\n",
       "      <th>0</th>\n",
       "      <td>1000000</td>\n",
       "      <td>-999</td>\n",
       "      <td>-999</td>\n",
       "      <td>272.992407</td>\n",
       "      <td>272.992407</td>\n",
       "    </tr>\n",
       "    <tr>\n",
       "      <th>1</th>\n",
       "      <td>1002163</td>\n",
       "      <td>-999</td>\n",
       "      <td>-999</td>\n",
       "      <td>0.065382</td>\n",
       "      <td>0.065382</td>\n",
       "    </tr>\n",
       "    <tr>\n",
       "      <th>2</th>\n",
       "      <td>1002164</td>\n",
       "      <td>-999</td>\n",
       "      <td>-999</td>\n",
       "      <td>0.160648</td>\n",
       "      <td>0.160648</td>\n",
       "    </tr>\n",
       "    <tr>\n",
       "      <th>3</th>\n",
       "      <td>1002165</td>\n",
       "      <td>-999</td>\n",
       "      <td>-999</td>\n",
       "      <td>0.276007</td>\n",
       "      <td>0.276007</td>\n",
       "    </tr>\n",
       "    <tr>\n",
       "      <th>4</th>\n",
       "      <td>1002166</td>\n",
       "      <td>-999</td>\n",
       "      <td>-999</td>\n",
       "      <td>0.438704</td>\n",
       "      <td>0.438704</td>\n",
       "    </tr>\n",
       "  </tbody>\n",
       "</table>\n",
       "</div>"
      ],
      "text/plain": [
       "   customer_id  gender  member_status    buy_last  buy_period\n",
       "0      1000000    -999           -999  272.992407  272.992407\n",
       "1      1002163    -999           -999    0.065382    0.065382\n",
       "2      1002164    -999           -999    0.160648    0.160648\n",
       "3      1002165    -999           -999    0.276007    0.276007\n",
       "4      1002166    -999           -999    0.438704    0.438704"
      ]
     },
     "execution_count": null,
     "metadata": {},
     "output_type": "execute_result"
    }
   ],
   "source": [
    "model_feature1.head()"
   ]
  },
  {
   "cell_type": "code",
   "execution_count": null,
   "metadata": {
    "collapsed": false
   },
   "outputs": [],
   "source": [
    "model_feature1.to_csv(\"train_model_feature1.csv\",index=False)"
   ]
  },
  {
   "cell_type": "markdown",
   "metadata": {
    "collapsed": false
   },
   "source": [
    "#### 建模特征2"
   ]
  },
  {
   "cell_type": "markdown",
   "metadata": {
    "collapsed": false
   },
   "source": [
    "**第2步**，构建出每个用户每月支出数据："
   ]
  },
  {
   "cell_type": "code",
   "execution_count": null,
   "metadata": {
    "collapsed": false
   },
   "outputs": [
    {
     "name": "stderr",
     "output_type": "stream",
     "text": [
      "/opt/conda/envs/python35-paddle120-env/lib/python3.7/site-packages/ipykernel_launcher.py:2: SettingWithCopyWarning: \n",
      "A value is trying to be set on a copy of a slice from a DataFrame.\n",
      "Try using .loc[row_indexer,col_indexer] = value instead\n",
      "\n",
      "See the caveats in the documentation: https://pandas.pydata.org/pandas-docs/stable/user_guide/indexing.html#returning-a-view-versus-a-copy\n",
      "  \n"
     ]
    }
   ],
   "source": [
    "temp = customer_features[['order_pay_time','customer_id','order_total_payment']]\r\n",
    "temp['order_pay_time'] = temp['order_pay_time'].dt.date\r\n",
    "day_payment = temp.groupby(['order_pay_time','customer_id']).sum()\r\n",
    "\r\n",
    "del temp"
   ]
  },
  {
   "cell_type": "code",
   "execution_count": null,
   "metadata": {
    "collapsed": false
   },
   "outputs": [
    {
     "data": {
      "text/html": [
       "<div>\n",
       "<style scoped>\n",
       "    .dataframe tbody tr th:only-of-type {\n",
       "        vertical-align: middle;\n",
       "    }\n",
       "\n",
       "    .dataframe tbody tr th {\n",
       "        vertical-align: top;\n",
       "    }\n",
       "\n",
       "    .dataframe thead th {\n",
       "        text-align: right;\n",
       "    }\n",
       "</style>\n",
       "<table border=\"1\" class=\"dataframe\">\n",
       "  <thead>\n",
       "    <tr style=\"text-align: right;\">\n",
       "      <th></th>\n",
       "      <th>1000000</th>\n",
       "      <th>1000014</th>\n",
       "      <th>1000034</th>\n",
       "      <th>1000046</th>\n",
       "      <th>1000048</th>\n",
       "      <th>1000069</th>\n",
       "      <th>1000084</th>\n",
       "      <th>1000099</th>\n",
       "      <th>1000105</th>\n",
       "      <th>1000109</th>\n",
       "      <th>...</th>\n",
       "      <th>2826561</th>\n",
       "      <th>2826564</th>\n",
       "      <th>2826566</th>\n",
       "      <th>2826567</th>\n",
       "      <th>2826569</th>\n",
       "      <th>2826570</th>\n",
       "      <th>2826571</th>\n",
       "      <th>2826572</th>\n",
       "      <th>2826573</th>\n",
       "      <th>2826574</th>\n",
       "    </tr>\n",
       "  </thead>\n",
       "  <tbody>\n",
       "    <tr>\n",
       "      <th>2012-11-01</th>\n",
       "      <td>96.900002</td>\n",
       "      <td>0.0</td>\n",
       "      <td>0.0</td>\n",
       "      <td>0.0</td>\n",
       "      <td>0.0</td>\n",
       "      <td>0.0</td>\n",
       "      <td>0.0</td>\n",
       "      <td>0.0</td>\n",
       "      <td>0.0</td>\n",
       "      <td>0.0</td>\n",
       "      <td>...</td>\n",
       "      <td>0.0</td>\n",
       "      <td>0.0</td>\n",
       "      <td>0.0</td>\n",
       "      <td>0.0</td>\n",
       "      <td>0.0</td>\n",
       "      <td>0.0</td>\n",
       "      <td>0.0</td>\n",
       "      <td>0.0</td>\n",
       "      <td>0.0</td>\n",
       "      <td>0.0</td>\n",
       "    </tr>\n",
       "    <tr>\n",
       "      <th>2012-11-02</th>\n",
       "      <td>0.000000</td>\n",
       "      <td>0.0</td>\n",
       "      <td>0.0</td>\n",
       "      <td>0.0</td>\n",
       "      <td>0.0</td>\n",
       "      <td>0.0</td>\n",
       "      <td>0.0</td>\n",
       "      <td>0.0</td>\n",
       "      <td>0.0</td>\n",
       "      <td>0.0</td>\n",
       "      <td>...</td>\n",
       "      <td>0.0</td>\n",
       "      <td>0.0</td>\n",
       "      <td>0.0</td>\n",
       "      <td>0.0</td>\n",
       "      <td>0.0</td>\n",
       "      <td>0.0</td>\n",
       "      <td>0.0</td>\n",
       "      <td>0.0</td>\n",
       "      <td>0.0</td>\n",
       "      <td>0.0</td>\n",
       "    </tr>\n",
       "    <tr>\n",
       "      <th>2012-11-03</th>\n",
       "      <td>0.000000</td>\n",
       "      <td>0.0</td>\n",
       "      <td>0.0</td>\n",
       "      <td>0.0</td>\n",
       "      <td>0.0</td>\n",
       "      <td>0.0</td>\n",
       "      <td>0.0</td>\n",
       "      <td>0.0</td>\n",
       "      <td>0.0</td>\n",
       "      <td>0.0</td>\n",
       "      <td>...</td>\n",
       "      <td>0.0</td>\n",
       "      <td>0.0</td>\n",
       "      <td>0.0</td>\n",
       "      <td>0.0</td>\n",
       "      <td>0.0</td>\n",
       "      <td>0.0</td>\n",
       "      <td>0.0</td>\n",
       "      <td>0.0</td>\n",
       "      <td>0.0</td>\n",
       "      <td>0.0</td>\n",
       "    </tr>\n",
       "    <tr>\n",
       "      <th>2012-11-04</th>\n",
       "      <td>0.000000</td>\n",
       "      <td>0.0</td>\n",
       "      <td>0.0</td>\n",
       "      <td>0.0</td>\n",
       "      <td>0.0</td>\n",
       "      <td>0.0</td>\n",
       "      <td>0.0</td>\n",
       "      <td>0.0</td>\n",
       "      <td>0.0</td>\n",
       "      <td>0.0</td>\n",
       "      <td>...</td>\n",
       "      <td>0.0</td>\n",
       "      <td>0.0</td>\n",
       "      <td>0.0</td>\n",
       "      <td>0.0</td>\n",
       "      <td>0.0</td>\n",
       "      <td>0.0</td>\n",
       "      <td>0.0</td>\n",
       "      <td>0.0</td>\n",
       "      <td>0.0</td>\n",
       "      <td>0.0</td>\n",
       "    </tr>\n",
       "    <tr>\n",
       "      <th>2012-11-05</th>\n",
       "      <td>0.000000</td>\n",
       "      <td>0.0</td>\n",
       "      <td>0.0</td>\n",
       "      <td>0.0</td>\n",
       "      <td>0.0</td>\n",
       "      <td>0.0</td>\n",
       "      <td>0.0</td>\n",
       "      <td>0.0</td>\n",
       "      <td>0.0</td>\n",
       "      <td>0.0</td>\n",
       "      <td>...</td>\n",
       "      <td>0.0</td>\n",
       "      <td>0.0</td>\n",
       "      <td>0.0</td>\n",
       "      <td>0.0</td>\n",
       "      <td>0.0</td>\n",
       "      <td>0.0</td>\n",
       "      <td>0.0</td>\n",
       "      <td>0.0</td>\n",
       "      <td>0.0</td>\n",
       "      <td>0.0</td>\n",
       "    </tr>\n",
       "  </tbody>\n",
       "</table>\n",
       "<p>5 rows × 1482614 columns</p>\n",
       "</div>"
      ],
      "text/plain": [
       "              1000000  1000014  1000034  1000046  1000048  1000069  1000084  \\\n",
       "2012-11-01  96.900002      0.0      0.0      0.0      0.0      0.0      0.0   \n",
       "2012-11-02   0.000000      0.0      0.0      0.0      0.0      0.0      0.0   \n",
       "2012-11-03   0.000000      0.0      0.0      0.0      0.0      0.0      0.0   \n",
       "2012-11-04   0.000000      0.0      0.0      0.0      0.0      0.0      0.0   \n",
       "2012-11-05   0.000000      0.0      0.0      0.0      0.0      0.0      0.0   \n",
       "\n",
       "            1000099  1000105  1000109  ...  2826561  2826564  2826566  \\\n",
       "2012-11-01      0.0      0.0      0.0  ...      0.0      0.0      0.0   \n",
       "2012-11-02      0.0      0.0      0.0  ...      0.0      0.0      0.0   \n",
       "2012-11-03      0.0      0.0      0.0  ...      0.0      0.0      0.0   \n",
       "2012-11-04      0.0      0.0      0.0  ...      0.0      0.0      0.0   \n",
       "2012-11-05      0.0      0.0      0.0  ...      0.0      0.0      0.0   \n",
       "\n",
       "            2826567  2826569  2826570  2826571  2826572  2826573  2826574  \n",
       "2012-11-01      0.0      0.0      0.0      0.0      0.0      0.0      0.0  \n",
       "2012-11-02      0.0      0.0      0.0      0.0      0.0      0.0      0.0  \n",
       "2012-11-03      0.0      0.0      0.0      0.0      0.0      0.0      0.0  \n",
       "2012-11-04      0.0      0.0      0.0      0.0      0.0      0.0      0.0  \n",
       "2012-11-05      0.0      0.0      0.0      0.0      0.0      0.0      0.0  \n",
       "\n",
       "[5 rows x 1482614 columns]"
      ]
     },
     "execution_count": null,
     "metadata": {},
     "output_type": "execute_result"
    }
   ],
   "source": [
    "day_payment = day_payment.unstack('customer_id', fill_value=0)\r\n",
    "day_payment.columns = day_payment.columns.get_level_values(\"customer_id\")\r\n",
    "day_payment.columns.rename(None,inplace=True)\r\n",
    "\r\n",
    "day_payment.index = pd.to_datetime(day_payment.index.get_level_values(\"order_pay_time\"))\r\n",
    "day_payment.index.rename(None,inplace=True)\r\n",
    "day_payment.head()"
   ]
  },
  {
   "cell_type": "code",
   "execution_count": null,
   "metadata": {
    "collapsed": false
   },
   "outputs": [
    {
     "data": {
      "text/html": [
       "<div>\n",
       "<style scoped>\n",
       "    .dataframe tbody tr th:only-of-type {\n",
       "        vertical-align: middle;\n",
       "    }\n",
       "\n",
       "    .dataframe tbody tr th {\n",
       "        vertical-align: top;\n",
       "    }\n",
       "\n",
       "    .dataframe thead th {\n",
       "        text-align: right;\n",
       "    }\n",
       "</style>\n",
       "<table border=\"1\" class=\"dataframe\">\n",
       "  <thead>\n",
       "    <tr style=\"text-align: right;\">\n",
       "      <th></th>\n",
       "      <th>customer_id</th>\n",
       "      <th>2012-11-30 00:00:00</th>\n",
       "      <th>2012-12-31 00:00:00</th>\n",
       "      <th>2013-01-31 00:00:00</th>\n",
       "      <th>2013-02-28 00:00:00</th>\n",
       "      <th>2013-03-31 00:00:00</th>\n",
       "      <th>2013-04-30 00:00:00</th>\n",
       "      <th>2013-05-31 00:00:00</th>\n",
       "      <th>2013-06-30 00:00:00</th>\n",
       "      <th>2013-07-31 00:00:00</th>\n",
       "      <th>2013-08-31 00:00:00</th>\n",
       "    </tr>\n",
       "  </thead>\n",
       "  <tbody>\n",
       "    <tr>\n",
       "      <th>0</th>\n",
       "      <td>1000000</td>\n",
       "      <td>96.9</td>\n",
       "      <td>0.0</td>\n",
       "      <td>0.0</td>\n",
       "      <td>0.0</td>\n",
       "      <td>0.0</td>\n",
       "      <td>0.0</td>\n",
       "      <td>0.0</td>\n",
       "      <td>0.0</td>\n",
       "      <td>0.0</td>\n",
       "      <td>0.0</td>\n",
       "    </tr>\n",
       "    <tr>\n",
       "      <th>1</th>\n",
       "      <td>1000014</td>\n",
       "      <td>0.0</td>\n",
       "      <td>0.0</td>\n",
       "      <td>0.0</td>\n",
       "      <td>0.0</td>\n",
       "      <td>0.0</td>\n",
       "      <td>0.0</td>\n",
       "      <td>0.0</td>\n",
       "      <td>0.0</td>\n",
       "      <td>0.0</td>\n",
       "      <td>66.9</td>\n",
       "    </tr>\n",
       "    <tr>\n",
       "      <th>2</th>\n",
       "      <td>1000034</td>\n",
       "      <td>0.0</td>\n",
       "      <td>0.0</td>\n",
       "      <td>0.0</td>\n",
       "      <td>0.0</td>\n",
       "      <td>99.9</td>\n",
       "      <td>0.0</td>\n",
       "      <td>0.0</td>\n",
       "      <td>0.0</td>\n",
       "      <td>0.0</td>\n",
       "      <td>0.0</td>\n",
       "    </tr>\n",
       "    <tr>\n",
       "      <th>3</th>\n",
       "      <td>1000046</td>\n",
       "      <td>0.0</td>\n",
       "      <td>0.0</td>\n",
       "      <td>0.0</td>\n",
       "      <td>0.0</td>\n",
       "      <td>0.0</td>\n",
       "      <td>0.0</td>\n",
       "      <td>0.0</td>\n",
       "      <td>39.9</td>\n",
       "      <td>0.0</td>\n",
       "      <td>0.0</td>\n",
       "    </tr>\n",
       "    <tr>\n",
       "      <th>4</th>\n",
       "      <td>1000048</td>\n",
       "      <td>0.0</td>\n",
       "      <td>89.9</td>\n",
       "      <td>0.0</td>\n",
       "      <td>0.0</td>\n",
       "      <td>0.0</td>\n",
       "      <td>0.0</td>\n",
       "      <td>0.0</td>\n",
       "      <td>0.0</td>\n",
       "      <td>0.0</td>\n",
       "      <td>0.0</td>\n",
       "    </tr>\n",
       "  </tbody>\n",
       "</table>\n",
       "</div>"
      ],
      "text/plain": [
       "   customer_id  2012-11-30 00:00:00  2012-12-31 00:00:00  2013-01-31 00:00:00  \\\n",
       "0      1000000                 96.9                  0.0                  0.0   \n",
       "1      1000014                  0.0                  0.0                  0.0   \n",
       "2      1000034                  0.0                  0.0                  0.0   \n",
       "3      1000046                  0.0                  0.0                  0.0   \n",
       "4      1000048                  0.0                 89.9                  0.0   \n",
       "\n",
       "   2013-02-28 00:00:00  2013-03-31 00:00:00  2013-04-30 00:00:00  \\\n",
       "0                  0.0                  0.0                  0.0   \n",
       "1                  0.0                  0.0                  0.0   \n",
       "2                  0.0                 99.9                  0.0   \n",
       "3                  0.0                  0.0                  0.0   \n",
       "4                  0.0                  0.0                  0.0   \n",
       "\n",
       "   2013-05-31 00:00:00  2013-06-30 00:00:00  2013-07-31 00:00:00  \\\n",
       "0                  0.0                  0.0                  0.0   \n",
       "1                  0.0                  0.0                  0.0   \n",
       "2                  0.0                  0.0                  0.0   \n",
       "3                  0.0                 39.9                  0.0   \n",
       "4                  0.0                  0.0                  0.0   \n",
       "\n",
       "   2013-08-31 00:00:00  \n",
       "0                  0.0  \n",
       "1                 66.9  \n",
       "2                  0.0  \n",
       "3                  0.0  \n",
       "4                  0.0  "
      ]
     },
     "execution_count": null,
     "metadata": {},
     "output_type": "execute_result"
    }
   ],
   "source": [
    "month_payment = day_payment.resample(\"m\").sum().T\r\n",
    "month_payment = month_payment.applymap(lambda x: round(x,2))\r\n",
    "month_payment.index.rename(\"customer_id\", inplace=True)\r\n",
    "month_payment.reset_index(inplace=True)\r\n",
    "month_payment.head()"
   ]
  },
  {
   "cell_type": "code",
   "execution_count": null,
   "metadata": {
    "collapsed": false
   },
   "outputs": [],
   "source": [
    "month_payment.to_csv(\"month_payment.csv\",index=False)"
   ]
  },
  {
   "cell_type": "markdown",
   "metadata": {
    "collapsed": false
   },
   "source": [
    "**第3步**，基于上述得到的每个用户月消费数据，构建以下建模特征：\n",
    "\n",
    "- 平均每个月的购物支出\n",
    "- 连续消费月数"
   ]
  },
  {
   "cell_type": "code",
   "execution_count": null,
   "metadata": {
    "collapsed": false
   },
   "outputs": [],
   "source": [
    "def get_model_feature2(data):\r\n",
    "    s1 = data[\"customer_id\"]\r\n",
    "    s2 = data.iloc[:,1:-1].sum(axis=1)/9\r\n",
    "    s3 = data.iloc[:,1:-1].std(axis=1)\r\n",
    "    s4 = data.iloc[:,1:-1].var(axis=1)\r\n",
    "    s5 = (data.iloc[:,-1]>0)+0\r\n",
    "    \r\n",
    "    return pd.DataFrame({\"customer_id\":s1,\"pay_mean\":s2,\"pay_std\":s3,\"pay_var\":s4,\"label\":s5})"
   ]
  },
  {
   "cell_type": "code",
   "execution_count": null,
   "metadata": {
    "collapsed": false
   },
   "outputs": [],
   "source": [
    "model_feature2 = get_model_feature2(month_payment)"
   ]
  },
  {
   "cell_type": "code",
   "execution_count": null,
   "metadata": {
    "collapsed": false
   },
   "outputs": [
    {
     "data": {
      "text/html": [
       "<div>\n",
       "<style scoped>\n",
       "    .dataframe tbody tr th:only-of-type {\n",
       "        vertical-align: middle;\n",
       "    }\n",
       "\n",
       "    .dataframe tbody tr th {\n",
       "        vertical-align: top;\n",
       "    }\n",
       "\n",
       "    .dataframe thead th {\n",
       "        text-align: right;\n",
       "    }\n",
       "</style>\n",
       "<table border=\"1\" class=\"dataframe\">\n",
       "  <thead>\n",
       "    <tr style=\"text-align: right;\">\n",
       "      <th></th>\n",
       "      <th>customer_id</th>\n",
       "      <th>pay_mean</th>\n",
       "      <th>pay_std</th>\n",
       "      <th>pay_var</th>\n",
       "      <th>label</th>\n",
       "    </tr>\n",
       "  </thead>\n",
       "  <tbody>\n",
       "    <tr>\n",
       "      <th>0</th>\n",
       "      <td>1000000</td>\n",
       "      <td>10.766667</td>\n",
       "      <td>32.300000</td>\n",
       "      <td>1043.290000</td>\n",
       "      <td>0</td>\n",
       "    </tr>\n",
       "    <tr>\n",
       "      <th>1</th>\n",
       "      <td>1000014</td>\n",
       "      <td>0.000000</td>\n",
       "      <td>0.000000</td>\n",
       "      <td>0.000000</td>\n",
       "      <td>1</td>\n",
       "    </tr>\n",
       "    <tr>\n",
       "      <th>2</th>\n",
       "      <td>1000034</td>\n",
       "      <td>11.100000</td>\n",
       "      <td>33.300000</td>\n",
       "      <td>1108.890000</td>\n",
       "      <td>0</td>\n",
       "    </tr>\n",
       "    <tr>\n",
       "      <th>3</th>\n",
       "      <td>1000046</td>\n",
       "      <td>4.433333</td>\n",
       "      <td>13.300000</td>\n",
       "      <td>176.890000</td>\n",
       "      <td>0</td>\n",
       "    </tr>\n",
       "    <tr>\n",
       "      <th>4</th>\n",
       "      <td>1000048</td>\n",
       "      <td>9.988889</td>\n",
       "      <td>29.966667</td>\n",
       "      <td>898.001111</td>\n",
       "      <td>0</td>\n",
       "    </tr>\n",
       "  </tbody>\n",
       "</table>\n",
       "</div>"
      ],
      "text/plain": [
       "   customer_id   pay_mean    pay_std      pay_var  label\n",
       "0      1000000  10.766667  32.300000  1043.290000      0\n",
       "1      1000014   0.000000   0.000000     0.000000      1\n",
       "2      1000034  11.100000  33.300000  1108.890000      0\n",
       "3      1000046   4.433333  13.300000   176.890000      0\n",
       "4      1000048   9.988889  29.966667   898.001111      0"
      ]
     },
     "execution_count": null,
     "metadata": {},
     "output_type": "execute_result"
    }
   ],
   "source": [
    "model_feature2.head()"
   ]
  },
  {
   "cell_type": "code",
   "execution_count": null,
   "metadata": {
    "collapsed": false
   },
   "outputs": [],
   "source": [
    "model_feature2.to_csv(\"train_model_feature2.csv\",index=False)"
   ]
  },
  {
   "cell_type": "markdown",
   "metadata": {
    "collapsed": false
   },
   "source": [
    "### 特征合并"
   ]
  },
  {
   "cell_type": "markdown",
   "metadata": {
    "collapsed": false
   },
   "source": [
    "#### 加载已保存数据"
   ]
  },
  {
   "cell_type": "code",
   "execution_count": null,
   "metadata": {
    "collapsed": false
   },
   "outputs": [],
   "source": [
    "model_feature1 = pd.read_csv(\"train_model_feature1.csv\")\r\n",
    "model_feature2 = pd.read_csv(\"train_model_feature2.csv\")"
   ]
  },
  {
   "cell_type": "code",
   "execution_count": null,
   "metadata": {
    "collapsed": false
   },
   "outputs": [
    {
     "data": {
      "text/plain": [
       "((1341878, 5), (1482614, 5))"
      ]
     },
     "execution_count": null,
     "metadata": {},
     "output_type": "execute_result"
    }
   ],
   "source": [
    "model_feature1.shape,model_feature2.shape"
   ]
  },
  {
   "cell_type": "code",
   "execution_count": null,
   "metadata": {
    "collapsed": false
   },
   "outputs": [],
   "source": [
    "model_feature = pd.merge(left=model_feature1,right=model_feature2,how=\"left\",on=\"customer_id\")"
   ]
  },
  {
   "cell_type": "code",
   "execution_count": null,
   "metadata": {
    "collapsed": false
   },
   "outputs": [
    {
     "data": {
      "text/html": [
       "<div>\n",
       "<style scoped>\n",
       "    .dataframe tbody tr th:only-of-type {\n",
       "        vertical-align: middle;\n",
       "    }\n",
       "\n",
       "    .dataframe tbody tr th {\n",
       "        vertical-align: top;\n",
       "    }\n",
       "\n",
       "    .dataframe thead th {\n",
       "        text-align: right;\n",
       "    }\n",
       "</style>\n",
       "<table border=\"1\" class=\"dataframe\">\n",
       "  <thead>\n",
       "    <tr style=\"text-align: right;\">\n",
       "      <th></th>\n",
       "      <th>customer_id</th>\n",
       "      <th>gender</th>\n",
       "      <th>member_status</th>\n",
       "      <th>buy_last</th>\n",
       "      <th>buy_period</th>\n",
       "      <th>pay_mean</th>\n",
       "      <th>pay_std</th>\n",
       "      <th>pay_var</th>\n",
       "      <th>label</th>\n",
       "    </tr>\n",
       "  </thead>\n",
       "  <tbody>\n",
       "    <tr>\n",
       "      <th>0</th>\n",
       "      <td>1000000</td>\n",
       "      <td>-999</td>\n",
       "      <td>-999</td>\n",
       "      <td>272.992407</td>\n",
       "      <td>272.992407</td>\n",
       "      <td>10.766667</td>\n",
       "      <td>32.300000</td>\n",
       "      <td>1043.290000</td>\n",
       "      <td>0</td>\n",
       "    </tr>\n",
       "    <tr>\n",
       "      <th>1</th>\n",
       "      <td>1002163</td>\n",
       "      <td>-999</td>\n",
       "      <td>-999</td>\n",
       "      <td>0.065382</td>\n",
       "      <td>0.065382</td>\n",
       "      <td>10.988889</td>\n",
       "      <td>32.966667</td>\n",
       "      <td>1086.801111</td>\n",
       "      <td>0</td>\n",
       "    </tr>\n",
       "    <tr>\n",
       "      <th>2</th>\n",
       "      <td>1002164</td>\n",
       "      <td>-999</td>\n",
       "      <td>-999</td>\n",
       "      <td>0.160648</td>\n",
       "      <td>0.160648</td>\n",
       "      <td>10.411111</td>\n",
       "      <td>31.233333</td>\n",
       "      <td>975.521111</td>\n",
       "      <td>0</td>\n",
       "    </tr>\n",
       "    <tr>\n",
       "      <th>3</th>\n",
       "      <td>1002165</td>\n",
       "      <td>-999</td>\n",
       "      <td>-999</td>\n",
       "      <td>0.276007</td>\n",
       "      <td>0.276007</td>\n",
       "      <td>6.422222</td>\n",
       "      <td>19.266667</td>\n",
       "      <td>371.204444</td>\n",
       "      <td>0</td>\n",
       "    </tr>\n",
       "    <tr>\n",
       "      <th>4</th>\n",
       "      <td>1002166</td>\n",
       "      <td>-999</td>\n",
       "      <td>-999</td>\n",
       "      <td>0.438704</td>\n",
       "      <td>0.438704</td>\n",
       "      <td>10.988889</td>\n",
       "      <td>32.966667</td>\n",
       "      <td>1086.801111</td>\n",
       "      <td>0</td>\n",
       "    </tr>\n",
       "    <tr>\n",
       "      <th>...</th>\n",
       "      <td>...</td>\n",
       "      <td>...</td>\n",
       "      <td>...</td>\n",
       "      <td>...</td>\n",
       "      <td>...</td>\n",
       "      <td>...</td>\n",
       "      <td>...</td>\n",
       "      <td>...</td>\n",
       "      <td>...</td>\n",
       "    </tr>\n",
       "    <tr>\n",
       "      <th>1341873</th>\n",
       "      <td>2826569</td>\n",
       "      <td>0</td>\n",
       "      <td>1</td>\n",
       "      <td>231.999826</td>\n",
       "      <td>131.499913</td>\n",
       "      <td>43.955556</td>\n",
       "      <td>104.167703</td>\n",
       "      <td>10850.910278</td>\n",
       "      <td>0</td>\n",
       "    </tr>\n",
       "    <tr>\n",
       "      <th>1341874</th>\n",
       "      <td>2826571</td>\n",
       "      <td>0</td>\n",
       "      <td>1</td>\n",
       "      <td>194.565984</td>\n",
       "      <td>194.565984</td>\n",
       "      <td>6.655556</td>\n",
       "      <td>19.966667</td>\n",
       "      <td>398.667778</td>\n",
       "      <td>0</td>\n",
       "    </tr>\n",
       "    <tr>\n",
       "      <th>1341875</th>\n",
       "      <td>2826572</td>\n",
       "      <td>0</td>\n",
       "      <td>1</td>\n",
       "      <td>188.982870</td>\n",
       "      <td>131.133652</td>\n",
       "      <td>56.430000</td>\n",
       "      <td>112.244588</td>\n",
       "      <td>12598.847550</td>\n",
       "      <td>0</td>\n",
       "    </tr>\n",
       "    <tr>\n",
       "      <th>1341876</th>\n",
       "      <td>2826573</td>\n",
       "      <td>0</td>\n",
       "      <td>1</td>\n",
       "      <td>202.191308</td>\n",
       "      <td>202.191308</td>\n",
       "      <td>6.655556</td>\n",
       "      <td>19.966667</td>\n",
       "      <td>398.667778</td>\n",
       "      <td>0</td>\n",
       "    </tr>\n",
       "    <tr>\n",
       "      <th>1341877</th>\n",
       "      <td>2826574</td>\n",
       "      <td>0</td>\n",
       "      <td>1</td>\n",
       "      <td>21.401227</td>\n",
       "      <td>87.664209</td>\n",
       "      <td>24.077778</td>\n",
       "      <td>37.529947</td>\n",
       "      <td>1408.496944</td>\n",
       "      <td>0</td>\n",
       "    </tr>\n",
       "  </tbody>\n",
       "</table>\n",
       "<p>1341878 rows × 9 columns</p>\n",
       "</div>"
      ],
      "text/plain": [
       "         customer_id  gender  member_status    buy_last  buy_period  \\\n",
       "0            1000000    -999           -999  272.992407  272.992407   \n",
       "1            1002163    -999           -999    0.065382    0.065382   \n",
       "2            1002164    -999           -999    0.160648    0.160648   \n",
       "3            1002165    -999           -999    0.276007    0.276007   \n",
       "4            1002166    -999           -999    0.438704    0.438704   \n",
       "...              ...     ...            ...         ...         ...   \n",
       "1341873      2826569       0              1  231.999826  131.499913   \n",
       "1341874      2826571       0              1  194.565984  194.565984   \n",
       "1341875      2826572       0              1  188.982870  131.133652   \n",
       "1341876      2826573       0              1  202.191308  202.191308   \n",
       "1341877      2826574       0              1   21.401227   87.664209   \n",
       "\n",
       "          pay_mean     pay_std       pay_var  label  \n",
       "0        10.766667   32.300000   1043.290000      0  \n",
       "1        10.988889   32.966667   1086.801111      0  \n",
       "2        10.411111   31.233333    975.521111      0  \n",
       "3         6.422222   19.266667    371.204444      0  \n",
       "4        10.988889   32.966667   1086.801111      0  \n",
       "...            ...         ...           ...    ...  \n",
       "1341873  43.955556  104.167703  10850.910278      0  \n",
       "1341874   6.655556   19.966667    398.667778      0  \n",
       "1341875  56.430000  112.244588  12598.847550      0  \n",
       "1341876   6.655556   19.966667    398.667778      0  \n",
       "1341877  24.077778   37.529947   1408.496944      0  \n",
       "\n",
       "[1341878 rows x 9 columns]"
      ]
     },
     "execution_count": null,
     "metadata": {},
     "output_type": "execute_result"
    }
   ],
   "source": [
    "model_feature"
   ]
  },
  {
   "cell_type": "markdown",
   "metadata": {
    "collapsed": false
   },
   "source": [
    "### 构建哑变量"
   ]
  },
  {
   "cell_type": "code",
   "execution_count": 75,
   "metadata": {
    "collapsed": false
   },
   "outputs": [
    {
     "data": {
      "text/html": [
       "<div>\n",
       "<style scoped>\n",
       "    .dataframe tbody tr th:only-of-type {\n",
       "        vertical-align: middle;\n",
       "    }\n",
       "\n",
       "    .dataframe tbody tr th {\n",
       "        vertical-align: top;\n",
       "    }\n",
       "\n",
       "    .dataframe thead th {\n",
       "        text-align: right;\n",
       "    }\n",
       "</style>\n",
       "<table border=\"1\" class=\"dataframe\">\n",
       "  <thead>\n",
       "    <tr style=\"text-align: right;\">\n",
       "      <th></th>\n",
       "      <th>-999</th>\n",
       "      <th>0</th>\n",
       "      <th>1</th>\n",
       "      <th>2</th>\n",
       "    </tr>\n",
       "  </thead>\n",
       "  <tbody>\n",
       "    <tr>\n",
       "      <th>0</th>\n",
       "      <td>1.0</td>\n",
       "      <td>0.0</td>\n",
       "      <td>0.0</td>\n",
       "      <td>0.0</td>\n",
       "    </tr>\n",
       "    <tr>\n",
       "      <th>1</th>\n",
       "      <td>1.0</td>\n",
       "      <td>0.0</td>\n",
       "      <td>0.0</td>\n",
       "      <td>0.0</td>\n",
       "    </tr>\n",
       "    <tr>\n",
       "      <th>2</th>\n",
       "      <td>1.0</td>\n",
       "      <td>0.0</td>\n",
       "      <td>0.0</td>\n",
       "      <td>0.0</td>\n",
       "    </tr>\n",
       "    <tr>\n",
       "      <th>3</th>\n",
       "      <td>1.0</td>\n",
       "      <td>0.0</td>\n",
       "      <td>0.0</td>\n",
       "      <td>0.0</td>\n",
       "    </tr>\n",
       "    <tr>\n",
       "      <th>4</th>\n",
       "      <td>1.0</td>\n",
       "      <td>0.0</td>\n",
       "      <td>0.0</td>\n",
       "      <td>0.0</td>\n",
       "    </tr>\n",
       "  </tbody>\n",
       "</table>\n",
       "</div>"
      ],
      "text/plain": [
       "   -999   0     1     2  \n",
       "0   1.0   0.0   0.0   0.0\n",
       "1   1.0   0.0   0.0   0.0\n",
       "2   1.0   0.0   0.0   0.0\n",
       "3   1.0   0.0   0.0   0.0\n",
       "4   1.0   0.0   0.0   0.0"
      ]
     },
     "execution_count": 75,
     "metadata": {},
     "output_type": "execute_result"
    }
   ],
   "source": [
    "gender_onehot = pd.get_dummies(model_feature[\"gender\"], dtype=np.float32)\r\n",
    "\r\n",
    "gender_onehot.head()"
   ]
  },
  {
   "cell_type": "code",
   "execution_count": 78,
   "metadata": {
    "collapsed": false
   },
   "outputs": [
    {
     "data": {
      "text/html": [
       "<div>\n",
       "<style scoped>\n",
       "    .dataframe tbody tr th:only-of-type {\n",
       "        vertical-align: middle;\n",
       "    }\n",
       "\n",
       "    .dataframe tbody tr th {\n",
       "        vertical-align: top;\n",
       "    }\n",
       "\n",
       "    .dataframe thead th {\n",
       "        text-align: right;\n",
       "    }\n",
       "</style>\n",
       "<table border=\"1\" class=\"dataframe\">\n",
       "  <thead>\n",
       "    <tr style=\"text-align: right;\">\n",
       "      <th></th>\n",
       "      <th>customer_id</th>\n",
       "      <th>gender</th>\n",
       "      <th>member_status</th>\n",
       "      <th>buy_last</th>\n",
       "      <th>buy_period</th>\n",
       "      <th>pay_mean</th>\n",
       "      <th>pay_std</th>\n",
       "      <th>pay_var</th>\n",
       "      <th>label</th>\n",
       "      <th>gender_na</th>\n",
       "      <th>gender_0</th>\n",
       "      <th>gender_1</th>\n",
       "      <th>gender_2</th>\n",
       "    </tr>\n",
       "  </thead>\n",
       "  <tbody>\n",
       "    <tr>\n",
       "      <th>0</th>\n",
       "      <td>1000000</td>\n",
       "      <td>-999</td>\n",
       "      <td>-999</td>\n",
       "      <td>0.0000</td>\n",
       "      <td>0.0000</td>\n",
       "      <td>0.0010</td>\n",
       "      <td>0.9990</td>\n",
       "      <td>1.0</td>\n",
       "      <td>0</td>\n",
       "      <td>1.0</td>\n",
       "      <td>0.0</td>\n",
       "      <td>0.0</td>\n",
       "      <td>0.0</td>\n",
       "    </tr>\n",
       "    <tr>\n",
       "      <th>1</th>\n",
       "      <td>1002163</td>\n",
       "      <td>-999</td>\n",
       "      <td>-999</td>\n",
       "      <td>0.9998</td>\n",
       "      <td>0.9998</td>\n",
       "      <td>0.0010</td>\n",
       "      <td>0.9990</td>\n",
       "      <td>1.0</td>\n",
       "      <td>0</td>\n",
       "      <td>1.0</td>\n",
       "      <td>0.0</td>\n",
       "      <td>0.0</td>\n",
       "      <td>0.0</td>\n",
       "    </tr>\n",
       "    <tr>\n",
       "      <th>2</th>\n",
       "      <td>1002164</td>\n",
       "      <td>-999</td>\n",
       "      <td>-999</td>\n",
       "      <td>0.9994</td>\n",
       "      <td>0.9994</td>\n",
       "      <td>0.0010</td>\n",
       "      <td>0.9990</td>\n",
       "      <td>1.0</td>\n",
       "      <td>0</td>\n",
       "      <td>1.0</td>\n",
       "      <td>0.0</td>\n",
       "      <td>0.0</td>\n",
       "      <td>0.0</td>\n",
       "    </tr>\n",
       "    <tr>\n",
       "      <th>3</th>\n",
       "      <td>1002165</td>\n",
       "      <td>-999</td>\n",
       "      <td>-999</td>\n",
       "      <td>0.9990</td>\n",
       "      <td>0.9990</td>\n",
       "      <td>0.0006</td>\n",
       "      <td>0.9994</td>\n",
       "      <td>1.0</td>\n",
       "      <td>0</td>\n",
       "      <td>1.0</td>\n",
       "      <td>0.0</td>\n",
       "      <td>0.0</td>\n",
       "      <td>0.0</td>\n",
       "    </tr>\n",
       "    <tr>\n",
       "      <th>4</th>\n",
       "      <td>1002166</td>\n",
       "      <td>-999</td>\n",
       "      <td>-999</td>\n",
       "      <td>0.9984</td>\n",
       "      <td>0.9984</td>\n",
       "      <td>0.0010</td>\n",
       "      <td>0.9990</td>\n",
       "      <td>1.0</td>\n",
       "      <td>0</td>\n",
       "      <td>1.0</td>\n",
       "      <td>0.0</td>\n",
       "      <td>0.0</td>\n",
       "      <td>0.0</td>\n",
       "    </tr>\n",
       "  </tbody>\n",
       "</table>\n",
       "</div>"
      ],
      "text/plain": [
       "   customer_id  gender  member_status  buy_last  buy_period  pay_mean  \\\n",
       "0      1000000    -999           -999    0.0000      0.0000    0.0010   \n",
       "1      1002163    -999           -999    0.9998      0.9998    0.0010   \n",
       "2      1002164    -999           -999    0.9994      0.9994    0.0010   \n",
       "3      1002165    -999           -999    0.9990      0.9990    0.0006   \n",
       "4      1002166    -999           -999    0.9984      0.9984    0.0010   \n",
       "\n",
       "   pay_std  pay_var  label  gender_na  gender_0  gender_1  gender_2  \n",
       "0   0.9990      1.0      0        1.0       0.0       0.0       0.0  \n",
       "1   0.9990      1.0      0        1.0       0.0       0.0       0.0  \n",
       "2   0.9990      1.0      0        1.0       0.0       0.0       0.0  \n",
       "3   0.9994      1.0      0        1.0       0.0       0.0       0.0  \n",
       "4   0.9990      1.0      0        1.0       0.0       0.0       0.0  "
      ]
     },
     "execution_count": 78,
     "metadata": {},
     "output_type": "execute_result"
    }
   ],
   "source": [
    "model_feature[\"gender_na\"] = gender_onehot[-999]\r\n",
    "model_feature[\"gender_0\"] = gender_onehot[0]\r\n",
    "model_feature[\"gender_1\"] = gender_onehot[1]\r\n",
    "model_feature[\"gender_2\"] = gender_onehot[2]\r\n",
    "model_feature.head()"
   ]
  },
  {
   "cell_type": "markdown",
   "metadata": {
    "collapsed": false
   },
   "source": [
    "### 归一化"
   ]
  },
  {
   "cell_type": "code",
   "execution_count": null,
   "metadata": {
    "collapsed": false
   },
   "outputs": [],
   "source": [
    "def normalization_max(x):\r\n",
    "    \"\"\"\r\n",
    "    正向归一化\r\n",
    "    \"\"\"\r\n",
    "    x = np.array(x)\r\n",
    "    ma = x.max()+0.0001\r\n",
    "    mi = x.min()-0.0001\r\n",
    "    \r\n",
    "    return ((x-mi)/(ma-mi)).round(4)\r\n",
    "\r\n",
    "def normalization_min(x):\r\n",
    "    \"\"\"\r\n",
    "    反向归一化\r\n",
    "    \"\"\"\r\n",
    "    x = np.array(x)\r\n",
    "    ma = x.max()+0.0001\r\n",
    "    mi = x.min()-0.0001\r\n",
    "    \r\n",
    "    return ((ma-x)/(ma-mi)).round(4)"
   ]
  },
  {
   "cell_type": "code",
   "execution_count": null,
   "metadata": {
    "collapsed": false
   },
   "outputs": [],
   "source": [
    "model_feature[\"buy_last\"] = normalization_min(model_feature[\"buy_last\"])\r\n",
    "model_feature[\"buy_period\"] = normalization_min(model_feature[\"buy_period\"])\r\n",
    "model_feature[\"pay_mean\"] = normalization_max(model_feature[\"pay_mean\"])\r\n",
    "model_feature[\"pay_std\"] = normalization_min(model_feature[\"pay_std\"])\r\n",
    "model_feature[\"pay_var\"] = normalization_min(model_feature[\"pay_var\"])"
   ]
  },
  {
   "cell_type": "code",
   "execution_count": null,
   "metadata": {
    "collapsed": false
   },
   "outputs": [
    {
     "data": {
      "text/html": [
       "<div>\n",
       "<style scoped>\n",
       "    .dataframe tbody tr th:only-of-type {\n",
       "        vertical-align: middle;\n",
       "    }\n",
       "\n",
       "    .dataframe tbody tr th {\n",
       "        vertical-align: top;\n",
       "    }\n",
       "\n",
       "    .dataframe thead th {\n",
       "        text-align: right;\n",
       "    }\n",
       "</style>\n",
       "<table border=\"1\" class=\"dataframe\">\n",
       "  <thead>\n",
       "    <tr style=\"text-align: right;\">\n",
       "      <th></th>\n",
       "      <th>customer_id</th>\n",
       "      <th>gender</th>\n",
       "      <th>member_status</th>\n",
       "      <th>buy_last</th>\n",
       "      <th>buy_period</th>\n",
       "      <th>pay_mean</th>\n",
       "      <th>pay_std</th>\n",
       "      <th>pay_var</th>\n",
       "      <th>label</th>\n",
       "    </tr>\n",
       "  </thead>\n",
       "  <tbody>\n",
       "    <tr>\n",
       "      <th>0</th>\n",
       "      <td>1000000</td>\n",
       "      <td>-999</td>\n",
       "      <td>-999</td>\n",
       "      <td>0.0000</td>\n",
       "      <td>0.0000</td>\n",
       "      <td>0.0010</td>\n",
       "      <td>0.9990</td>\n",
       "      <td>1.0</td>\n",
       "      <td>0</td>\n",
       "    </tr>\n",
       "    <tr>\n",
       "      <th>1</th>\n",
       "      <td>1002163</td>\n",
       "      <td>-999</td>\n",
       "      <td>-999</td>\n",
       "      <td>0.9998</td>\n",
       "      <td>0.9998</td>\n",
       "      <td>0.0010</td>\n",
       "      <td>0.9990</td>\n",
       "      <td>1.0</td>\n",
       "      <td>0</td>\n",
       "    </tr>\n",
       "    <tr>\n",
       "      <th>2</th>\n",
       "      <td>1002164</td>\n",
       "      <td>-999</td>\n",
       "      <td>-999</td>\n",
       "      <td>0.9994</td>\n",
       "      <td>0.9994</td>\n",
       "      <td>0.0010</td>\n",
       "      <td>0.9990</td>\n",
       "      <td>1.0</td>\n",
       "      <td>0</td>\n",
       "    </tr>\n",
       "    <tr>\n",
       "      <th>3</th>\n",
       "      <td>1002165</td>\n",
       "      <td>-999</td>\n",
       "      <td>-999</td>\n",
       "      <td>0.9990</td>\n",
       "      <td>0.9990</td>\n",
       "      <td>0.0006</td>\n",
       "      <td>0.9994</td>\n",
       "      <td>1.0</td>\n",
       "      <td>0</td>\n",
       "    </tr>\n",
       "    <tr>\n",
       "      <th>4</th>\n",
       "      <td>1002166</td>\n",
       "      <td>-999</td>\n",
       "      <td>-999</td>\n",
       "      <td>0.9984</td>\n",
       "      <td>0.9984</td>\n",
       "      <td>0.0010</td>\n",
       "      <td>0.9990</td>\n",
       "      <td>1.0</td>\n",
       "      <td>0</td>\n",
       "    </tr>\n",
       "    <tr>\n",
       "      <th>...</th>\n",
       "      <td>...</td>\n",
       "      <td>...</td>\n",
       "      <td>...</td>\n",
       "      <td>...</td>\n",
       "      <td>...</td>\n",
       "      <td>...</td>\n",
       "      <td>...</td>\n",
       "      <td>...</td>\n",
       "      <td>...</td>\n",
       "    </tr>\n",
       "    <tr>\n",
       "      <th>1341873</th>\n",
       "      <td>2826569</td>\n",
       "      <td>0</td>\n",
       "      <td>1</td>\n",
       "      <td>0.1502</td>\n",
       "      <td>0.5183</td>\n",
       "      <td>0.0040</td>\n",
       "      <td>0.9968</td>\n",
       "      <td>1.0</td>\n",
       "      <td>0</td>\n",
       "    </tr>\n",
       "    <tr>\n",
       "      <th>1341874</th>\n",
       "      <td>2826571</td>\n",
       "      <td>0</td>\n",
       "      <td>1</td>\n",
       "      <td>0.2873</td>\n",
       "      <td>0.2873</td>\n",
       "      <td>0.0006</td>\n",
       "      <td>0.9994</td>\n",
       "      <td>1.0</td>\n",
       "      <td>0</td>\n",
       "    </tr>\n",
       "    <tr>\n",
       "      <th>1341875</th>\n",
       "      <td>2826572</td>\n",
       "      <td>0</td>\n",
       "      <td>1</td>\n",
       "      <td>0.3078</td>\n",
       "      <td>0.5197</td>\n",
       "      <td>0.0052</td>\n",
       "      <td>0.9966</td>\n",
       "      <td>1.0</td>\n",
       "      <td>0</td>\n",
       "    </tr>\n",
       "    <tr>\n",
       "      <th>1341876</th>\n",
       "      <td>2826573</td>\n",
       "      <td>0</td>\n",
       "      <td>1</td>\n",
       "      <td>0.2594</td>\n",
       "      <td>0.2594</td>\n",
       "      <td>0.0006</td>\n",
       "      <td>0.9994</td>\n",
       "      <td>1.0</td>\n",
       "      <td>0</td>\n",
       "    </tr>\n",
       "    <tr>\n",
       "      <th>1341877</th>\n",
       "      <td>2826574</td>\n",
       "      <td>0</td>\n",
       "      <td>1</td>\n",
       "      <td>0.9216</td>\n",
       "      <td>0.6789</td>\n",
       "      <td>0.0022</td>\n",
       "      <td>0.9989</td>\n",
       "      <td>1.0</td>\n",
       "      <td>0</td>\n",
       "    </tr>\n",
       "  </tbody>\n",
       "</table>\n",
       "<p>1341878 rows × 9 columns</p>\n",
       "</div>"
      ],
      "text/plain": [
       "         customer_id  gender  member_status  buy_last  buy_period  pay_mean  \\\n",
       "0            1000000    -999           -999    0.0000      0.0000    0.0010   \n",
       "1            1002163    -999           -999    0.9998      0.9998    0.0010   \n",
       "2            1002164    -999           -999    0.9994      0.9994    0.0010   \n",
       "3            1002165    -999           -999    0.9990      0.9990    0.0006   \n",
       "4            1002166    -999           -999    0.9984      0.9984    0.0010   \n",
       "...              ...     ...            ...       ...         ...       ...   \n",
       "1341873      2826569       0              1    0.1502      0.5183    0.0040   \n",
       "1341874      2826571       0              1    0.2873      0.2873    0.0006   \n",
       "1341875      2826572       0              1    0.3078      0.5197    0.0052   \n",
       "1341876      2826573       0              1    0.2594      0.2594    0.0006   \n",
       "1341877      2826574       0              1    0.9216      0.6789    0.0022   \n",
       "\n",
       "         pay_std  pay_var  label  \n",
       "0         0.9990      1.0      0  \n",
       "1         0.9990      1.0      0  \n",
       "2         0.9990      1.0      0  \n",
       "3         0.9994      1.0      0  \n",
       "4         0.9990      1.0      0  \n",
       "...          ...      ...    ...  \n",
       "1341873   0.9968      1.0      0  \n",
       "1341874   0.9994      1.0      0  \n",
       "1341875   0.9966      1.0      0  \n",
       "1341876   0.9994      1.0      0  \n",
       "1341877   0.9989      1.0      0  \n",
       "\n",
       "[1341878 rows x 9 columns]"
      ]
     },
     "execution_count": null,
     "metadata": {},
     "output_type": "execute_result"
    }
   ],
   "source": [
    "model_feature"
   ]
  },
  {
   "cell_type": "markdown",
   "metadata": {
    "collapsed": false
   },
   "source": [
    "### 不平衡数据处理"
   ]
  },
  {
   "cell_type": "code",
   "execution_count": null,
   "metadata": {
    "collapsed": false
   },
   "outputs": [
    {
     "data": {
      "text/plain": [
       "label\n",
       "0    1321808\n",
       "1      20070\n",
       "dtype: int64"
      ]
     },
     "execution_count": null,
     "metadata": {},
     "output_type": "execute_result"
    }
   ],
   "source": [
    "model_feature.groupby([\"label\"]).size()"
   ]
  },
  {
   "cell_type": "markdown",
   "metadata": {
    "collapsed": false
   },
   "source": [
    "#### 下采样"
   ]
  },
  {
   "cell_type": "code",
   "execution_count": 80,
   "metadata": {
    "collapsed": false
   },
   "outputs": [],
   "source": [
    "data_sample = pd.concat([model_feature[model_feature[\"label\"]==0].sample(n=20200, \r\n",
    "                                                                         replace=False, \r\n",
    "                                                                         weights=None, \r\n",
    "                                                                         random_state=1, \r\n",
    "                                                                         axis=0),\r\n",
    "                         model_feature[model_feature[\"label\"]==1]])"
   ]
  },
  {
   "cell_type": "code",
   "execution_count": null,
   "metadata": {
    "collapsed": false
   },
   "outputs": [],
   "source": [
    "class subsample(object):\r\n",
    "    \"\"\"\r\n",
    "    加载数据\r\n",
    "    \"\"\"\r\n",
    "    def __init__(self, data, batch_size, shuffle=True):\r\n",
    "        # 初始数据和标签\r\n",
    "        self.data = data\r\n",
    "        # 批量大小\r\n",
    "        self.batch_size = batch_size\r\n",
    "        # 是否打乱，默认打乱数据集，只针对训练集\r\n",
    "        self.shuffle = shuffle\r\n",
    "\r\n",
    "    def __getitem__(self, index):\r\n",
    "        \"\"\"\r\n",
    "        根据下标返回数据及标签\r\n",
    "        \"\"\"\r\n",
    "        return self.data[index]\r\n",
    "\r\n",
    "    def __iter__(self):\r\n",
    "        \"\"\"\r\n",
    "        迭代器\r\n",
    "        \"\"\"\r\n",
    "        # 获取数据量\r\n",
    "        datasize = self.data.shape[0]\r\n",
    "        print(\"样本数量:\",datasize)\r\n",
    "        # 生成迭代序列\r\n",
    "        data_seq = np.arange(datasize)\r\n",
    "        \r\n",
    "        if self.shuffle:\r\n",
    "            # 打乱迭代序列\r\n",
    "            np.random.shuffle(data_seq)\r\n",
    "\r\n",
    "        print(\"采样序列：\",data_seq[:20])    \r\n",
    "        \r\n",
    "        # 生成的是 Batch 序列\r\n",
    "        interval_list = np.append(\r\n",
    "            np.arange(0, datasize, self.batch_size), datasize)\r\n",
    "        print(\"Batch端点:\",interval_list)\r\n",
    "        for index in range(interval_list.shape[0]-1):\r\n",
    "            s = data_seq[interval_list[index]:interval_list[index+1]]\r\n",
    "            \r\n",
    "            # 返回 batch 的数据\r\n",
    "            yield self.data.iloc[s,:]\r\n",
    "\r\n",
    "    def __len__(self):\r\n",
    "        # 返回数据集长度\r\n",
    "        return self.data.shape[0]"
   ]
  },
  {
   "cell_type": "markdown",
   "metadata": {
    "collapsed": false
   },
   "source": [
    "## 构建模型"
   ]
  },
  {
   "cell_type": "code",
   "execution_count": 86,
   "metadata": {
    "collapsed": false
   },
   "outputs": [],
   "source": [
    "# 集成方法分类器\r\n",
    "from sklearn.ensemble import AdaBoostClassifier\r\n",
    "from sklearn.ensemble import BaggingClassifier\r\n",
    "from sklearn.ensemble import ExtraTreesClassifier\r\n",
    "from sklearn.ensemble import GradientBoostingClassifier\r\n",
    "from sklearn.ensemble import RandomForestClassifier\r\n",
    "# 高斯过程分类器\r\n",
    "from sklearn.gaussian_process import GaussianProcessClassifier\r\n",
    "# 广义线性分类器\r\n",
    "from sklearn.linear_model import PassiveAggressiveClassifier\r\n",
    "from sklearn.linear_model import RidgeClassifier\r\n",
    "from sklearn.linear_model import SGDClassifier\r\n",
    "# K近邻分类器\r\n",
    "from sklearn.neighbors import KNeighborsClassifier\r\n",
    "# 朴素贝叶斯分类器\r\n",
    "from sklearn.naive_bayes import GaussianNB\r\n",
    "# 神经网络分类器\r\n",
    "from sklearn.neural_network import MLPClassifier\r\n",
    "# 决策树分类器\r\n",
    "from sklearn.tree import DecisionTreeClassifier\r\n",
    "from sklearn.tree import ExtraTreeClassifier\r\n",
    "# 支持向量机分类器\r\n",
    "from sklearn.svm import SVC\r\n",
    "from sklearn.svm import LinearSVC\r\n",
    "# 优化器\r\n",
    "from sklearn.model_selection import GridSearchCV  #网格搜索\r\n",
    "from sklearn.model_selection import RandomizedSearchCV   #随机采样\r\n",
    "\r\n",
    "from sklearn.preprocessing import OneHotEncoder\r\n",
    "from joblib import dump, load     #模型保存与加载\r\n",
    "\r\n",
    "from sklearn.model_selection import train_test_split  # 导入数据集划分模块\r\n",
    "from sklearn.metrics import accuracy_score,precision_score,recall_score,f1_score,make_scorer,roc_auc_score  # 导入评估模块"
   ]
  },
  {
   "cell_type": "markdown",
   "metadata": {
    "collapsed": false
   },
   "source": [
    "### 数据集划分"
   ]
  },
  {
   "cell_type": "code",
   "execution_count": 81,
   "metadata": {
    "collapsed": false
   },
   "outputs": [],
   "source": [
    "feature = data_sample[[\"buy_last\",\"buy_period\",\"pay_mean\",\"pay_std\",\"pay_var\",\"gender_na\",\"gender_0\",\"gender_1\",\"gender_2\"]]  # 指定特征\r\n",
    "target = data_sample[\"label\"]  # 指定目标值\r\n",
    "\r\n",
    "# 划分数据集，将其中 80% 划为训练集，另 20% 作为测试集\r\n",
    "train_feature, val_feature, train_target, val_target = train_test_split(\r\n",
    "    feature, target, test_size=0.2)\r\n"
   ]
  },
  {
   "cell_type": "markdown",
   "metadata": {
    "collapsed": false
   },
   "source": [
    "### 常见监督学习算法对比"
   ]
  },
  {
   "cell_type": "code",
   "execution_count": null,
   "metadata": {
    "collapsed": false
   },
   "outputs": [],
   "source": [
    "# 建立模型\r\n",
    "models = [\r\n",
    "    AdaBoostClassifier(),\r\n",
    "    BaggingClassifier(),\r\n",
    "    ExtraTreesClassifier(),\r\n",
    "    GradientBoostingClassifier(),\r\n",
    "    RandomForestClassifier(),\r\n",
    "    GaussianProcessClassifier(),\r\n",
    "    PassiveAggressiveClassifier(),\r\n",
    "    RidgeClassifier(),\r\n",
    "    SGDClassifier(),\r\n",
    "    KNeighborsClassifier(),\r\n",
    "    GaussianNB(),\r\n",
    "    MLPClassifier(),\r\n",
    "    DecisionTreeClassifier(),\r\n",
    "    ExtraTreeClassifier(),\r\n",
    "    SVC(),\r\n",
    "    LinearSVC()\r\n",
    "]\r\n",
    "\r\n",
    "# 依次为模型命名\r\n",
    "classifier_Names = ['AdaBoost', 'Bagging', 'ExtraTrees',\r\n",
    "                    'GradientBoosting', 'RandomForest', 'GaussianProcess',\r\n",
    "                    'PassiveAggressive', 'Ridge', 'SGD',\r\n",
    "                    'KNeighbors', 'GaussianNB', 'MLP',\r\n",
    "                    'DecisionTree', 'ExtraTree', 'SVC', 'LinearSVC']"
   ]
  },
  {
   "cell_type": "code",
   "execution_count": null,
   "metadata": {
    "collapsed": false
   },
   "outputs": [
    {
     "name": "stdout",
     "output_type": "stream",
     "text": [
      "AdaBoost: 0.70\n",
      "Bagging: 0.65\n",
      "ExtraTrees: 0.65\n",
      "GradientBoosting: 0.71\n"
     ]
    }
   ],
   "source": [
    "# 遍历所有模型\r\n",
    "for name, model in zip(classifier_Names, models):\r\n",
    "    model.fit(train_feature, train_target)  # 训练模型\r\n",
    "    pre_labels = model.predict(val_feature)  # 模型预测\r\n",
    "    score = accuracy_score(val_target, pre_labels)  # 计算预测准确度\r\n",
    "    print('%s: %.4f' % (name, score))  # 输出模型准确度"
   ]
  },
  {
   "cell_type": "markdown",
   "metadata": {
    "collapsed": false
   },
   "source": [
    "### 神经网络分类(MLPClassifier)"
   ]
  },
  {
   "cell_type": "code",
   "execution_count": 87,
   "metadata": {
    "collapsed": false
   },
   "outputs": [
    {
     "name": "stdout",
     "output_type": "stream",
     "text": [
      "准确率: 0.7141\n",
      "精确率: 0.7165\n",
      "召回率: 0.6936\n",
      "F1值: 0.7049\n",
      "AUC值: 0.7137\n"
     ]
    },
    {
     "data": {
      "text/plain": [
       "['/home/aistudio/models/MLPClassifier_acc_0.7141.joblib']"
      ]
     },
     "execution_count": 87,
     "metadata": {},
     "output_type": "execute_result"
    }
   ],
   "source": [
    "MLP = MLPClassifier()\r\n",
    "MLP.fit(train_feature, train_target)  # 训练模型\r\n",
    "results = MLP.predict(val_feature)  # 模型预测\r\n",
    "\r\n",
    "# 模型评估\r\n",
    "acc_scores = accuracy_score(val_target, results)  # 预测精准度\r\n",
    "pre_scores = precision_score(val_target, results)\r\n",
    "recal_scores = recall_score(val_target, results)\r\n",
    "f1_scores = f1_score(val_target, results)\r\n",
    "auc_scores = roc_auc_score(val_target, results)\r\n",
    "\r\n",
    "print(\"准确率: {:.4f}\".format(acc_scores))\r\n",
    "print(\"精确率: {:.4f}\".format(pre_scores))\r\n",
    "print(\"召回率: {:.4f}\".format(recal_scores))\r\n",
    "print(\"F1值: {:.4f}\".format(f1_scores))\r\n",
    "print(\"AUC值: {:.4f}\".format(auc_scores))\r\n",
    "\r\n",
    "# 保存模型\r\n",
    "model_name = 'MLPClassifier_acc_{:.4f}.joblib'.format(acc_scores)\r\n",
    "model_path = os.path.join(model_dir,model_name)\r\n",
    "dump(MLP, model_path)"
   ]
  },
  {
   "cell_type": "markdown",
   "metadata": {
    "collapsed": false
   },
   "source": [
    "### GradientBoosting"
   ]
  },
  {
   "cell_type": "code",
   "execution_count": 88,
   "metadata": {
    "collapsed": false
   },
   "outputs": [
    {
     "name": "stdout",
     "output_type": "stream",
     "text": [
      "准确率: 0.7147\n",
      "精确率: 0.7163\n",
      "召回率: 0.6961\n",
      "F1值: 0.7061\n",
      "AUC值: 0.7144\n"
     ]
    },
    {
     "data": {
      "text/plain": [
       "['/home/aistudio/models/GradientBoosting_acc_0.7147.joblib']"
      ]
     },
     "execution_count": 88,
     "metadata": {},
     "output_type": "execute_result"
    }
   ],
   "source": [
    "GBC = GradientBoostingClassifier()\r\n",
    "GBC.fit(train_feature, train_target)  # 训练模型\r\n",
    "results = GBC.predict(val_feature)  # 模型预测\r\n",
    "\r\n",
    "# 模型评估\r\n",
    "acc_scores = accuracy_score(val_target, results)  # 预测精准度\r\n",
    "pre_scores = precision_score(val_target, results)\r\n",
    "recal_scores = recall_score(val_target, results)\r\n",
    "f1_scores = f1_score(val_target, results)\r\n",
    "auc_scores = roc_auc_score(val_target, results)\r\n",
    "\r\n",
    "print(\"准确率: {:.4f}\".format(acc_scores))\r\n",
    "print(\"精确率: {:.4f}\".format(pre_scores))\r\n",
    "print(\"召回率: {:.4f}\".format(recal_scores))\r\n",
    "print(\"F1值: {:.4f}\".format(f1_scores))\r\n",
    "print(\"AUC值: {:.4f}\".format(auc_scores))\r\n",
    "\r\n",
    "# 保存模型\r\n",
    "model_name = 'GradientBoosting_acc_{:.4f}.joblib'.format(acc_scores)\r\n",
    "model_path = os.path.join(model_dir,model_name)\r\n",
    "dump(GBC, model_path)"
   ]
  },
  {
   "cell_type": "markdown",
   "metadata": {
    "collapsed": false
   },
   "source": [
    "### 支持向量机"
   ]
  },
  {
   "cell_type": "code",
   "execution_count": 89,
   "metadata": {
    "collapsed": false
   },
   "outputs": [
    {
     "name": "stdout",
     "output_type": "stream",
     "text": [
      "准确率: 0.7056\n",
      "精确率: 0.6766\n",
      "召回率: 0.7702\n",
      "F1值: 0.7204\n",
      "AUC值: 0.7066\n"
     ]
    },
    {
     "data": {
      "text/plain": [
       "['/home/aistudio/models/SVC_acc_0.7056.joblib']"
      ]
     },
     "execution_count": 89,
     "metadata": {},
     "output_type": "execute_result"
    }
   ],
   "source": [
    "model_svc = SVC()  # 建立模型\r\n",
    "model_svc.fit(train_feature, train_target)  # 模型训练\r\n",
    "results = model_svc.predict(val_feature)  # 模型预测\r\n",
    "\r\n",
    "# 模型评估\r\n",
    "acc_scores = accuracy_score(val_target, results)  # 预测精准度\r\n",
    "pre_scores = precision_score(val_target, results)\r\n",
    "recal_scores = recall_score(val_target, results)\r\n",
    "f1_scores = f1_score(val_target, results)\r\n",
    "auc_scores = roc_auc_score(val_target, results)\r\n",
    "\r\n",
    "print(\"准确率: {:.4f}\".format(acc_scores))\r\n",
    "print(\"精确率: {:.4f}\".format(pre_scores))\r\n",
    "print(\"召回率: {:.4f}\".format(recal_scores))\r\n",
    "print(\"F1值: {:.4f}\".format(f1_scores))\r\n",
    "print(\"AUC值: {:.4f}\".format(auc_scores))\r\n",
    "\r\n",
    "# 保存模型\r\n",
    "model_name = 'SVC_acc_{:.4f}.joblib'.format(acc_scores)\r\n",
    "model_path = os.path.join(model_dir,model_name)\r\n",
    "dump(model_svc, model_path)"
   ]
  },
  {
   "cell_type": "code",
   "execution_count": 64,
   "metadata": {
    "collapsed": false
   },
   "outputs": [
    {
     "ename": "KeyboardInterrupt",
     "evalue": "",
     "output_type": "error",
     "traceback": [
      "\u001b[0;31m---------------------------------------------------------------------------\u001b[0m",
      "\u001b[0;31mKeyboardInterrupt\u001b[0m                         Traceback (most recent call last)",
      "\u001b[0;32m<ipython-input-64-fea9c70ebb93>\u001b[0m in \u001b[0;36m<module>\u001b[0;34m\u001b[0m\n\u001b[1;32m      4\u001b[0m \u001b[0mmodel_svc\u001b[0m \u001b[0;34m=\u001b[0m \u001b[0mSVC\u001b[0m\u001b[0;34m(\u001b[0m\u001b[0;34m)\u001b[0m  \u001b[0;31m# 建立模型\u001b[0m\u001b[0;34m\u001b[0m\u001b[0;34m\u001b[0m\u001b[0m\n\u001b[1;32m      5\u001b[0m \u001b[0mmodel_svc_gs\u001b[0m \u001b[0;34m=\u001b[0m \u001b[0mGridSearchCV\u001b[0m\u001b[0;34m(\u001b[0m\u001b[0mmodel_svc\u001b[0m\u001b[0;34m,\u001b[0m\u001b[0mparam_grid\u001b[0m\u001b[0;34m,\u001b[0m\u001b[0mscore\u001b[0m\u001b[0;34m,\u001b[0m\u001b[0mcv\u001b[0m\u001b[0;34m=\u001b[0m\u001b[0;36m3\u001b[0m\u001b[0;34m)\u001b[0m\u001b[0;34m\u001b[0m\u001b[0;34m\u001b[0m\u001b[0m\n\u001b[0;32m----> 6\u001b[0;31m \u001b[0mmodel_svc_gs\u001b[0m\u001b[0;34m.\u001b[0m\u001b[0mfit\u001b[0m\u001b[0;34m(\u001b[0m\u001b[0mtrain_feature\u001b[0m\u001b[0;34m,\u001b[0m \u001b[0mtrain_target\u001b[0m\u001b[0;34m)\u001b[0m  \u001b[0;31m# 模型训练\u001b[0m\u001b[0;34m\u001b[0m\u001b[0;34m\u001b[0m\u001b[0m\n\u001b[0m\u001b[1;32m      7\u001b[0m \u001b[0mresults\u001b[0m \u001b[0;34m=\u001b[0m \u001b[0mmodel_svc_gs\u001b[0m\u001b[0;34m.\u001b[0m\u001b[0mpredict\u001b[0m\u001b[0;34m(\u001b[0m\u001b[0mval_feature\u001b[0m\u001b[0;34m)\u001b[0m  \u001b[0;31m# 模型预测\u001b[0m\u001b[0;34m\u001b[0m\u001b[0;34m\u001b[0m\u001b[0m\n\u001b[1;32m      8\u001b[0m \u001b[0;34m\u001b[0m\u001b[0m\n",
      "\u001b[0;32m/opt/conda/envs/python35-paddle120-env/lib/python3.7/site-packages/sklearn/model_selection/_search.py\u001b[0m in \u001b[0;36mfit\u001b[0;34m(self, X, y, groups, **fit_params)\u001b[0m\n\u001b[1;32m    708\u001b[0m                 \u001b[0;32mreturn\u001b[0m \u001b[0mresults\u001b[0m\u001b[0;34m\u001b[0m\u001b[0;34m\u001b[0m\u001b[0m\n\u001b[1;32m    709\u001b[0m \u001b[0;34m\u001b[0m\u001b[0m\n\u001b[0;32m--> 710\u001b[0;31m             \u001b[0mself\u001b[0m\u001b[0;34m.\u001b[0m\u001b[0m_run_search\u001b[0m\u001b[0;34m(\u001b[0m\u001b[0mevaluate_candidates\u001b[0m\u001b[0;34m)\u001b[0m\u001b[0;34m\u001b[0m\u001b[0;34m\u001b[0m\u001b[0m\n\u001b[0m\u001b[1;32m    711\u001b[0m \u001b[0;34m\u001b[0m\u001b[0m\n\u001b[1;32m    712\u001b[0m         \u001b[0;31m# For multi-metric evaluation, store the best_index_, best_params_ and\u001b[0m\u001b[0;34m\u001b[0m\u001b[0;34m\u001b[0m\u001b[0;34m\u001b[0m\u001b[0m\n",
      "\u001b[0;32m/opt/conda/envs/python35-paddle120-env/lib/python3.7/site-packages/sklearn/model_selection/_search.py\u001b[0m in \u001b[0;36m_run_search\u001b[0;34m(self, evaluate_candidates)\u001b[0m\n\u001b[1;32m   1149\u001b[0m     \u001b[0;32mdef\u001b[0m \u001b[0m_run_search\u001b[0m\u001b[0;34m(\u001b[0m\u001b[0mself\u001b[0m\u001b[0;34m,\u001b[0m \u001b[0mevaluate_candidates\u001b[0m\u001b[0;34m)\u001b[0m\u001b[0;34m:\u001b[0m\u001b[0;34m\u001b[0m\u001b[0;34m\u001b[0m\u001b[0m\n\u001b[1;32m   1150\u001b[0m         \u001b[0;34m\"\"\"Search all candidates in param_grid\"\"\"\u001b[0m\u001b[0;34m\u001b[0m\u001b[0;34m\u001b[0m\u001b[0m\n\u001b[0;32m-> 1151\u001b[0;31m         \u001b[0mevaluate_candidates\u001b[0m\u001b[0;34m(\u001b[0m\u001b[0mParameterGrid\u001b[0m\u001b[0;34m(\u001b[0m\u001b[0mself\u001b[0m\u001b[0;34m.\u001b[0m\u001b[0mparam_grid\u001b[0m\u001b[0;34m)\u001b[0m\u001b[0;34m)\u001b[0m\u001b[0;34m\u001b[0m\u001b[0;34m\u001b[0m\u001b[0m\n\u001b[0m\u001b[1;32m   1152\u001b[0m \u001b[0;34m\u001b[0m\u001b[0m\n\u001b[1;32m   1153\u001b[0m \u001b[0;34m\u001b[0m\u001b[0m\n",
      "\u001b[0;32m/opt/conda/envs/python35-paddle120-env/lib/python3.7/site-packages/sklearn/model_selection/_search.py\u001b[0m in \u001b[0;36mevaluate_candidates\u001b[0;34m(candidate_params)\u001b[0m\n\u001b[1;32m    687\u001b[0m                                \u001b[0;32mfor\u001b[0m \u001b[0mparameters\u001b[0m\u001b[0;34m,\u001b[0m \u001b[0;34m(\u001b[0m\u001b[0mtrain\u001b[0m\u001b[0;34m,\u001b[0m \u001b[0mtest\u001b[0m\u001b[0;34m)\u001b[0m\u001b[0;34m\u001b[0m\u001b[0;34m\u001b[0m\u001b[0m\n\u001b[1;32m    688\u001b[0m                                in product(candidate_params,\n\u001b[0;32m--> 689\u001b[0;31m                                           cv.split(X, y, groups)))\n\u001b[0m\u001b[1;32m    690\u001b[0m \u001b[0;34m\u001b[0m\u001b[0m\n\u001b[1;32m    691\u001b[0m                 \u001b[0;32mif\u001b[0m \u001b[0mlen\u001b[0m\u001b[0;34m(\u001b[0m\u001b[0mout\u001b[0m\u001b[0;34m)\u001b[0m \u001b[0;34m<\u001b[0m \u001b[0;36m1\u001b[0m\u001b[0;34m:\u001b[0m\u001b[0;34m\u001b[0m\u001b[0;34m\u001b[0m\u001b[0m\n",
      "\u001b[0;32m/opt/conda/envs/python35-paddle120-env/lib/python3.7/site-packages/joblib/parallel.py\u001b[0m in \u001b[0;36m__call__\u001b[0;34m(self, iterable)\u001b[0m\n\u001b[1;32m   1005\u001b[0m                 \u001b[0mself\u001b[0m\u001b[0;34m.\u001b[0m\u001b[0m_iterating\u001b[0m \u001b[0;34m=\u001b[0m \u001b[0mself\u001b[0m\u001b[0;34m.\u001b[0m\u001b[0m_original_iterator\u001b[0m \u001b[0;32mis\u001b[0m \u001b[0;32mnot\u001b[0m \u001b[0;32mNone\u001b[0m\u001b[0;34m\u001b[0m\u001b[0;34m\u001b[0m\u001b[0m\n\u001b[1;32m   1006\u001b[0m \u001b[0;34m\u001b[0m\u001b[0m\n\u001b[0;32m-> 1007\u001b[0;31m             \u001b[0;32mwhile\u001b[0m \u001b[0mself\u001b[0m\u001b[0;34m.\u001b[0m\u001b[0mdispatch_one_batch\u001b[0m\u001b[0;34m(\u001b[0m\u001b[0miterator\u001b[0m\u001b[0;34m)\u001b[0m\u001b[0;34m:\u001b[0m\u001b[0;34m\u001b[0m\u001b[0;34m\u001b[0m\u001b[0m\n\u001b[0m\u001b[1;32m   1008\u001b[0m                 \u001b[0;32mpass\u001b[0m\u001b[0;34m\u001b[0m\u001b[0;34m\u001b[0m\u001b[0m\n\u001b[1;32m   1009\u001b[0m \u001b[0;34m\u001b[0m\u001b[0m\n",
      "\u001b[0;32m/opt/conda/envs/python35-paddle120-env/lib/python3.7/site-packages/joblib/parallel.py\u001b[0m in \u001b[0;36mdispatch_one_batch\u001b[0;34m(self, iterator)\u001b[0m\n\u001b[1;32m    833\u001b[0m                 \u001b[0;32mreturn\u001b[0m \u001b[0;32mFalse\u001b[0m\u001b[0;34m\u001b[0m\u001b[0;34m\u001b[0m\u001b[0m\n\u001b[1;32m    834\u001b[0m             \u001b[0;32melse\u001b[0m\u001b[0;34m:\u001b[0m\u001b[0;34m\u001b[0m\u001b[0;34m\u001b[0m\u001b[0m\n\u001b[0;32m--> 835\u001b[0;31m                 \u001b[0mself\u001b[0m\u001b[0;34m.\u001b[0m\u001b[0m_dispatch\u001b[0m\u001b[0;34m(\u001b[0m\u001b[0mtasks\u001b[0m\u001b[0;34m)\u001b[0m\u001b[0;34m\u001b[0m\u001b[0;34m\u001b[0m\u001b[0m\n\u001b[0m\u001b[1;32m    836\u001b[0m                 \u001b[0;32mreturn\u001b[0m \u001b[0;32mTrue\u001b[0m\u001b[0;34m\u001b[0m\u001b[0;34m\u001b[0m\u001b[0m\n\u001b[1;32m    837\u001b[0m \u001b[0;34m\u001b[0m\u001b[0m\n",
      "\u001b[0;32m/opt/conda/envs/python35-paddle120-env/lib/python3.7/site-packages/joblib/parallel.py\u001b[0m in \u001b[0;36m_dispatch\u001b[0;34m(self, batch)\u001b[0m\n\u001b[1;32m    752\u001b[0m         \u001b[0;32mwith\u001b[0m \u001b[0mself\u001b[0m\u001b[0;34m.\u001b[0m\u001b[0m_lock\u001b[0m\u001b[0;34m:\u001b[0m\u001b[0;34m\u001b[0m\u001b[0;34m\u001b[0m\u001b[0m\n\u001b[1;32m    753\u001b[0m             \u001b[0mjob_idx\u001b[0m \u001b[0;34m=\u001b[0m \u001b[0mlen\u001b[0m\u001b[0;34m(\u001b[0m\u001b[0mself\u001b[0m\u001b[0;34m.\u001b[0m\u001b[0m_jobs\u001b[0m\u001b[0;34m)\u001b[0m\u001b[0;34m\u001b[0m\u001b[0;34m\u001b[0m\u001b[0m\n\u001b[0;32m--> 754\u001b[0;31m             \u001b[0mjob\u001b[0m \u001b[0;34m=\u001b[0m \u001b[0mself\u001b[0m\u001b[0;34m.\u001b[0m\u001b[0m_backend\u001b[0m\u001b[0;34m.\u001b[0m\u001b[0mapply_async\u001b[0m\u001b[0;34m(\u001b[0m\u001b[0mbatch\u001b[0m\u001b[0;34m,\u001b[0m \u001b[0mcallback\u001b[0m\u001b[0;34m=\u001b[0m\u001b[0mcb\u001b[0m\u001b[0;34m)\u001b[0m\u001b[0;34m\u001b[0m\u001b[0;34m\u001b[0m\u001b[0m\n\u001b[0m\u001b[1;32m    755\u001b[0m             \u001b[0;31m# A job can complete so quickly than its callback is\u001b[0m\u001b[0;34m\u001b[0m\u001b[0;34m\u001b[0m\u001b[0;34m\u001b[0m\u001b[0m\n\u001b[1;32m    756\u001b[0m             \u001b[0;31m# called before we get here, causing self._jobs to\u001b[0m\u001b[0;34m\u001b[0m\u001b[0;34m\u001b[0m\u001b[0;34m\u001b[0m\u001b[0m\n",
      "\u001b[0;32m/opt/conda/envs/python35-paddle120-env/lib/python3.7/site-packages/joblib/_parallel_backends.py\u001b[0m in \u001b[0;36mapply_async\u001b[0;34m(self, func, callback)\u001b[0m\n\u001b[1;32m    207\u001b[0m     \u001b[0;32mdef\u001b[0m \u001b[0mapply_async\u001b[0m\u001b[0;34m(\u001b[0m\u001b[0mself\u001b[0m\u001b[0;34m,\u001b[0m \u001b[0mfunc\u001b[0m\u001b[0;34m,\u001b[0m \u001b[0mcallback\u001b[0m\u001b[0;34m=\u001b[0m\u001b[0;32mNone\u001b[0m\u001b[0;34m)\u001b[0m\u001b[0;34m:\u001b[0m\u001b[0;34m\u001b[0m\u001b[0;34m\u001b[0m\u001b[0m\n\u001b[1;32m    208\u001b[0m         \u001b[0;34m\"\"\"Schedule a func to be run\"\"\"\u001b[0m\u001b[0;34m\u001b[0m\u001b[0;34m\u001b[0m\u001b[0m\n\u001b[0;32m--> 209\u001b[0;31m         \u001b[0mresult\u001b[0m \u001b[0;34m=\u001b[0m \u001b[0mImmediateResult\u001b[0m\u001b[0;34m(\u001b[0m\u001b[0mfunc\u001b[0m\u001b[0;34m)\u001b[0m\u001b[0;34m\u001b[0m\u001b[0;34m\u001b[0m\u001b[0m\n\u001b[0m\u001b[1;32m    210\u001b[0m         \u001b[0;32mif\u001b[0m \u001b[0mcallback\u001b[0m\u001b[0;34m:\u001b[0m\u001b[0;34m\u001b[0m\u001b[0;34m\u001b[0m\u001b[0m\n\u001b[1;32m    211\u001b[0m             \u001b[0mcallback\u001b[0m\u001b[0;34m(\u001b[0m\u001b[0mresult\u001b[0m\u001b[0;34m)\u001b[0m\u001b[0;34m\u001b[0m\u001b[0;34m\u001b[0m\u001b[0m\n",
      "\u001b[0;32m/opt/conda/envs/python35-paddle120-env/lib/python3.7/site-packages/joblib/_parallel_backends.py\u001b[0m in \u001b[0;36m__init__\u001b[0;34m(self, batch)\u001b[0m\n\u001b[1;32m    588\u001b[0m         \u001b[0;31m# Don't delay the application, to avoid keeping the input\u001b[0m\u001b[0;34m\u001b[0m\u001b[0;34m\u001b[0m\u001b[0;34m\u001b[0m\u001b[0m\n\u001b[1;32m    589\u001b[0m         \u001b[0;31m# arguments in memory\u001b[0m\u001b[0;34m\u001b[0m\u001b[0;34m\u001b[0m\u001b[0;34m\u001b[0m\u001b[0m\n\u001b[0;32m--> 590\u001b[0;31m         \u001b[0mself\u001b[0m\u001b[0;34m.\u001b[0m\u001b[0mresults\u001b[0m \u001b[0;34m=\u001b[0m \u001b[0mbatch\u001b[0m\u001b[0;34m(\u001b[0m\u001b[0;34m)\u001b[0m\u001b[0;34m\u001b[0m\u001b[0;34m\u001b[0m\u001b[0m\n\u001b[0m\u001b[1;32m    591\u001b[0m \u001b[0;34m\u001b[0m\u001b[0m\n\u001b[1;32m    592\u001b[0m     \u001b[0;32mdef\u001b[0m \u001b[0mget\u001b[0m\u001b[0;34m(\u001b[0m\u001b[0mself\u001b[0m\u001b[0;34m)\u001b[0m\u001b[0;34m:\u001b[0m\u001b[0;34m\u001b[0m\u001b[0;34m\u001b[0m\u001b[0m\n",
      "\u001b[0;32m/opt/conda/envs/python35-paddle120-env/lib/python3.7/site-packages/joblib/parallel.py\u001b[0m in \u001b[0;36m__call__\u001b[0;34m(self)\u001b[0m\n\u001b[1;32m    254\u001b[0m         \u001b[0;32mwith\u001b[0m \u001b[0mparallel_backend\u001b[0m\u001b[0;34m(\u001b[0m\u001b[0mself\u001b[0m\u001b[0;34m.\u001b[0m\u001b[0m_backend\u001b[0m\u001b[0;34m,\u001b[0m \u001b[0mn_jobs\u001b[0m\u001b[0;34m=\u001b[0m\u001b[0mself\u001b[0m\u001b[0;34m.\u001b[0m\u001b[0m_n_jobs\u001b[0m\u001b[0;34m)\u001b[0m\u001b[0;34m:\u001b[0m\u001b[0;34m\u001b[0m\u001b[0;34m\u001b[0m\u001b[0m\n\u001b[1;32m    255\u001b[0m             return [func(*args, **kwargs)\n\u001b[0;32m--> 256\u001b[0;31m                     for func, args, kwargs in self.items]\n\u001b[0m\u001b[1;32m    257\u001b[0m \u001b[0;34m\u001b[0m\u001b[0m\n\u001b[1;32m    258\u001b[0m     \u001b[0;32mdef\u001b[0m \u001b[0m__len__\u001b[0m\u001b[0;34m(\u001b[0m\u001b[0mself\u001b[0m\u001b[0;34m)\u001b[0m\u001b[0;34m:\u001b[0m\u001b[0;34m\u001b[0m\u001b[0;34m\u001b[0m\u001b[0m\n",
      "\u001b[0;32m/opt/conda/envs/python35-paddle120-env/lib/python3.7/site-packages/joblib/parallel.py\u001b[0m in \u001b[0;36m<listcomp>\u001b[0;34m(.0)\u001b[0m\n\u001b[1;32m    254\u001b[0m         \u001b[0;32mwith\u001b[0m \u001b[0mparallel_backend\u001b[0m\u001b[0;34m(\u001b[0m\u001b[0mself\u001b[0m\u001b[0;34m.\u001b[0m\u001b[0m_backend\u001b[0m\u001b[0;34m,\u001b[0m \u001b[0mn_jobs\u001b[0m\u001b[0;34m=\u001b[0m\u001b[0mself\u001b[0m\u001b[0;34m.\u001b[0m\u001b[0m_n_jobs\u001b[0m\u001b[0;34m)\u001b[0m\u001b[0;34m:\u001b[0m\u001b[0;34m\u001b[0m\u001b[0;34m\u001b[0m\u001b[0m\n\u001b[1;32m    255\u001b[0m             return [func(*args, **kwargs)\n\u001b[0;32m--> 256\u001b[0;31m                     for func, args, kwargs in self.items]\n\u001b[0m\u001b[1;32m    257\u001b[0m \u001b[0;34m\u001b[0m\u001b[0m\n\u001b[1;32m    258\u001b[0m     \u001b[0;32mdef\u001b[0m \u001b[0m__len__\u001b[0m\u001b[0;34m(\u001b[0m\u001b[0mself\u001b[0m\u001b[0;34m)\u001b[0m\u001b[0;34m:\u001b[0m\u001b[0;34m\u001b[0m\u001b[0;34m\u001b[0m\u001b[0m\n",
      "\u001b[0;32m/opt/conda/envs/python35-paddle120-env/lib/python3.7/site-packages/sklearn/model_selection/_validation.py\u001b[0m in \u001b[0;36m_fit_and_score\u001b[0;34m(estimator, X, y, scorer, train, test, verbose, parameters, fit_params, return_train_score, return_parameters, return_n_test_samples, return_times, return_estimator, error_score)\u001b[0m\n\u001b[1;32m    513\u001b[0m             \u001b[0mestimator\u001b[0m\u001b[0;34m.\u001b[0m\u001b[0mfit\u001b[0m\u001b[0;34m(\u001b[0m\u001b[0mX_train\u001b[0m\u001b[0;34m,\u001b[0m \u001b[0;34m**\u001b[0m\u001b[0mfit_params\u001b[0m\u001b[0;34m)\u001b[0m\u001b[0;34m\u001b[0m\u001b[0;34m\u001b[0m\u001b[0m\n\u001b[1;32m    514\u001b[0m         \u001b[0;32melse\u001b[0m\u001b[0;34m:\u001b[0m\u001b[0;34m\u001b[0m\u001b[0;34m\u001b[0m\u001b[0m\n\u001b[0;32m--> 515\u001b[0;31m             \u001b[0mestimator\u001b[0m\u001b[0;34m.\u001b[0m\u001b[0mfit\u001b[0m\u001b[0;34m(\u001b[0m\u001b[0mX_train\u001b[0m\u001b[0;34m,\u001b[0m \u001b[0my_train\u001b[0m\u001b[0;34m,\u001b[0m \u001b[0;34m**\u001b[0m\u001b[0mfit_params\u001b[0m\u001b[0;34m)\u001b[0m\u001b[0;34m\u001b[0m\u001b[0;34m\u001b[0m\u001b[0m\n\u001b[0m\u001b[1;32m    516\u001b[0m \u001b[0;34m\u001b[0m\u001b[0m\n\u001b[1;32m    517\u001b[0m     \u001b[0;32mexcept\u001b[0m \u001b[0mException\u001b[0m \u001b[0;32mas\u001b[0m \u001b[0me\u001b[0m\u001b[0;34m:\u001b[0m\u001b[0;34m\u001b[0m\u001b[0;34m\u001b[0m\u001b[0m\n",
      "\u001b[0;32m/opt/conda/envs/python35-paddle120-env/lib/python3.7/site-packages/sklearn/svm/_base.py\u001b[0m in \u001b[0;36mfit\u001b[0;34m(self, X, y, sample_weight)\u001b[0m\n\u001b[1;32m    197\u001b[0m \u001b[0;34m\u001b[0m\u001b[0m\n\u001b[1;32m    198\u001b[0m         \u001b[0mseed\u001b[0m \u001b[0;34m=\u001b[0m \u001b[0mrnd\u001b[0m\u001b[0;34m.\u001b[0m\u001b[0mrandint\u001b[0m\u001b[0;34m(\u001b[0m\u001b[0mnp\u001b[0m\u001b[0;34m.\u001b[0m\u001b[0miinfo\u001b[0m\u001b[0;34m(\u001b[0m\u001b[0;34m'i'\u001b[0m\u001b[0;34m)\u001b[0m\u001b[0;34m.\u001b[0m\u001b[0mmax\u001b[0m\u001b[0;34m)\u001b[0m\u001b[0;34m\u001b[0m\u001b[0;34m\u001b[0m\u001b[0m\n\u001b[0;32m--> 199\u001b[0;31m         \u001b[0mfit\u001b[0m\u001b[0;34m(\u001b[0m\u001b[0mX\u001b[0m\u001b[0;34m,\u001b[0m \u001b[0my\u001b[0m\u001b[0;34m,\u001b[0m \u001b[0msample_weight\u001b[0m\u001b[0;34m,\u001b[0m \u001b[0msolver_type\u001b[0m\u001b[0;34m,\u001b[0m \u001b[0mkernel\u001b[0m\u001b[0;34m,\u001b[0m \u001b[0mrandom_seed\u001b[0m\u001b[0;34m=\u001b[0m\u001b[0mseed\u001b[0m\u001b[0;34m)\u001b[0m\u001b[0;34m\u001b[0m\u001b[0;34m\u001b[0m\u001b[0m\n\u001b[0m\u001b[1;32m    200\u001b[0m         \u001b[0;31m# see comment on the other call to np.iinfo in this file\u001b[0m\u001b[0;34m\u001b[0m\u001b[0;34m\u001b[0m\u001b[0;34m\u001b[0m\u001b[0m\n\u001b[1;32m    201\u001b[0m \u001b[0;34m\u001b[0m\u001b[0m\n",
      "\u001b[0;32m/opt/conda/envs/python35-paddle120-env/lib/python3.7/site-packages/sklearn/svm/_base.py\u001b[0m in \u001b[0;36m_dense_fit\u001b[0;34m(self, X, y, sample_weight, solver_type, kernel, random_seed)\u001b[0m\n\u001b[1;32m    256\u001b[0m                 \u001b[0mcache_size\u001b[0m\u001b[0;34m=\u001b[0m\u001b[0mself\u001b[0m\u001b[0;34m.\u001b[0m\u001b[0mcache_size\u001b[0m\u001b[0;34m,\u001b[0m \u001b[0mcoef0\u001b[0m\u001b[0;34m=\u001b[0m\u001b[0mself\u001b[0m\u001b[0;34m.\u001b[0m\u001b[0mcoef0\u001b[0m\u001b[0;34m,\u001b[0m\u001b[0;34m\u001b[0m\u001b[0;34m\u001b[0m\u001b[0m\n\u001b[1;32m    257\u001b[0m                 \u001b[0mgamma\u001b[0m\u001b[0;34m=\u001b[0m\u001b[0mself\u001b[0m\u001b[0;34m.\u001b[0m\u001b[0m_gamma\u001b[0m\u001b[0;34m,\u001b[0m \u001b[0mepsilon\u001b[0m\u001b[0;34m=\u001b[0m\u001b[0mself\u001b[0m\u001b[0;34m.\u001b[0m\u001b[0mepsilon\u001b[0m\u001b[0;34m,\u001b[0m\u001b[0;34m\u001b[0m\u001b[0;34m\u001b[0m\u001b[0m\n\u001b[0;32m--> 258\u001b[0;31m                 max_iter=self.max_iter, random_seed=random_seed)\n\u001b[0m\u001b[1;32m    259\u001b[0m \u001b[0;34m\u001b[0m\u001b[0m\n\u001b[1;32m    260\u001b[0m         \u001b[0mself\u001b[0m\u001b[0;34m.\u001b[0m\u001b[0m_warn_from_fit_status\u001b[0m\u001b[0;34m(\u001b[0m\u001b[0;34m)\u001b[0m\u001b[0;34m\u001b[0m\u001b[0;34m\u001b[0m\u001b[0m\n",
      "\u001b[0;31mKeyboardInterrupt\u001b[0m: "
     ]
    }
   ],
   "source": [
    "param_grid = [\r\n",
    "    {\"kernel\":[\"linear\",\"rbf\",\"sigmoid\"], \r\n",
    "    \"C\":[0.0001,0.001,0.01,0.1,1], \r\n",
    "    \"degree\":[1,2],\"gamma\":[0.0001,0.001,0.01,0.1,1]}]\r\n",
    "score = make_scorer(accuracy_score)\r\n",
    "\r\n",
    "model_svc = SVC()  # 建立模型\r\n",
    "model_svc_gs = GridSearchCV(model_svc,param_grid,score,cv=3)\r\n",
    "model_svc_gs.fit(train_feature, train_target)  # 模型训练\r\n",
    "results = model_svc_gs.predict(val_feature)  # 模型预测\r\n",
    "\r\n",
    "# 模型评估\r\n",
    "acc_scores = accuracy_score(val_target, results)  # 预测精准度\r\n",
    "pre_scores = precision_score(val_target, results)\r\n",
    "recal_scores = recall_score(val_target, results)\r\n",
    "f1_scores = f1_score(val_target, results)\r\n",
    "auc_scores = roc_auc_score(val_target, results)\r\n",
    "\r\n",
    "print(\"准确率: {:.4f}\".format(acc_scores))\r\n",
    "print(\"精确率: {:.4f}\".format(pre_scores))\r\n",
    "print(\"召回率: {:.4f}\".format(recal_scores))\r\n",
    "print(\"F1值: {:.4f}\".format(f1_scores))\r\n",
    "print(\"AUC值: {:.4f}\".format(auc_scores))\r\n",
    "\r\n",
    "# 保存模型\r\n",
    "model_name = 'SVCGS_acc_{:.4f}.joblib'.format(acc_scores)\r\n",
    "model_path = os.path.join(model_dir,model_name)\r\n",
    "dump(model_svc_gs, model_path)"
   ]
  },
  {
   "cell_type": "markdown",
   "metadata": {
    "collapsed": false
   },
   "source": [
    "### 随机森林"
   ]
  },
  {
   "cell_type": "code",
   "execution_count": 85,
   "metadata": {
    "collapsed": false
   },
   "outputs": [
    {
     "name": "stdout",
     "output_type": "stream",
     "text": [
      "准确率: 0.6669\n",
      "精确率: 0.6635\n",
      "召回率: 0.6560\n",
      "F1值: 0.6597\n"
     ]
    },
    {
     "data": {
      "text/plain": [
       "['/home/aistudio/models/RandomForest_acc_0.6669.joblib']"
      ]
     },
     "execution_count": 85,
     "metadata": {},
     "output_type": "execute_result"
    }
   ],
   "source": [
    "model_RF = RandomForestClassifier()\r\n",
    "model_RF = model_RF.fit(train_feature, train_target)\r\n",
    "results = model_RF.predict(val_feature)  # 模型预测\r\n",
    "\r\n",
    "# 模型评估\r\n",
    "acc_scores = accuracy_score(val_target, results)  # 预测精准度\r\n",
    "pre_scores = precision_score(val_target, results)\r\n",
    "recal_scores = recall_score(val_target, results)\r\n",
    "f1_scores = f1_score(val_target, results)\r\n",
    "auc_scores = roc_auc_score(val_target, results)\r\n",
    "\r\n",
    "print(\"准确率: {:.4f}\".format(acc_scores))\r\n",
    "print(\"精确率: {:.4f}\".format(pre_scores))\r\n",
    "print(\"召回率: {:.4f}\".format(recal_scores))\r\n",
    "print(\"F1值: {:.4f}\".format(f1_scores))\r\n",
    "print(\"AUC值: {:.4f}\".format(auc_scores))\r\n",
    "\r\n",
    "# 保存模型\r\n",
    "model_name = 'RandomForest_acc_{:.4f}.joblib'.format(acc_scores)\r\n",
    "model_path = os.path.join(model_dir,model_name)\r\n",
    "dump(model_RF, model_path)"
   ]
  },
  {
   "cell_type": "markdown",
   "metadata": {
    "collapsed": false
   },
   "source": [
    "### 投票选择(特殊)"
   ]
  },
  {
   "cell_type": "code",
   "execution_count": null,
   "metadata": {
    "collapsed": false
   },
   "outputs": [
    {
     "name": "stdout",
     "output_type": "stream",
     "text": [
      "样本数量: 1321808\n",
      "采样序列： [1060811  249963  112885 1307870  263951  539400  716661 1204952  461526\n",
      "  115992  979903 1137173   65530  279876  993449  276142  529345  380153\n",
      " 1122647  162660]\n",
      "Batch端点: [      0   20000   40000   60000   80000  100000  120000  140000  160000\n",
      "  180000  200000  220000  240000  260000  280000  300000  320000  340000\n",
      "  360000  380000  400000  420000  440000  460000  480000  500000  520000\n",
      "  540000  560000  580000  600000  620000  640000  660000  680000  700000\n",
      "  720000  740000  760000  780000  800000  820000  840000  860000  880000\n",
      "  900000  920000  940000  960000  980000 1000000 1020000 1040000 1060000\n",
      " 1080000 1100000 1120000 1140000 1160000 1180000 1200000 1220000 1240000\n",
      " 1260000 1280000 1300000 1320000 1321808]\n",
      "准确率: 0.693\n",
      "精确率: 0.703\n",
      "召回率: 0.662\n",
      "F1值: 0.682\n",
      "#################################################\n",
      "准确率: 0.689\n",
      "精确率: 0.714\n",
      "召回率: 0.648\n",
      "F1值: 0.679\n",
      "#################################################\n",
      "准确率: 0.695\n",
      "精确率: 0.711\n",
      "召回率: 0.667\n",
      "F1值: 0.688\n",
      "#################################################\n",
      "准确率: 0.691\n",
      "精确率: 0.707\n",
      "召回率: 0.668\n",
      "F1值: 0.687\n",
      "#################################################\n",
      "准确率: 0.700\n",
      "精确率: 0.717\n",
      "召回率: 0.669\n",
      "F1值: 0.692\n",
      "#################################################\n",
      "准确率: 0.690\n",
      "精确率: 0.710\n",
      "召回率: 0.650\n",
      "F1值: 0.679\n",
      "#################################################\n",
      "准确率: 0.697\n",
      "精确率: 0.710\n",
      "召回率: 0.665\n",
      "F1值: 0.687\n",
      "#################################################\n",
      "准确率: 0.692\n",
      "精确率: 0.711\n",
      "召回率: 0.665\n",
      "F1值: 0.687\n",
      "#################################################\n",
      "准确率: 0.694\n",
      "精确率: 0.700\n",
      "召回率: 0.672\n",
      "F1值: 0.686\n",
      "#################################################\n",
      "准确率: 0.694\n",
      "精确率: 0.702\n",
      "召回率: 0.667\n",
      "F1值: 0.684\n",
      "#################################################\n",
      "准确率: 0.689\n",
      "精确率: 0.707\n",
      "召回率: 0.667\n",
      "F1值: 0.687\n",
      "#################################################\n",
      "准确率: 0.690\n",
      "精确率: 0.700\n",
      "召回率: 0.666\n",
      "F1值: 0.683\n",
      "#################################################\n",
      "准确率: 0.696\n",
      "精确率: 0.707\n",
      "召回率: 0.668\n",
      "F1值: 0.687\n",
      "#################################################\n",
      "准确率: 0.694\n",
      "精确率: 0.716\n",
      "召回率: 0.664\n",
      "F1值: 0.689\n",
      "#################################################\n",
      "准确率: 0.695\n",
      "精确率: 0.694\n",
      "召回率: 0.674\n",
      "F1值: 0.684\n",
      "#################################################\n",
      "准确率: 0.689\n",
      "精确率: 0.702\n",
      "召回率: 0.661\n",
      "F1值: 0.681\n",
      "#################################################\n",
      "准确率: 0.697\n",
      "精确率: 0.712\n",
      "召回率: 0.665\n",
      "F1值: 0.688\n",
      "#################################################\n",
      "准确率: 0.692\n",
      "精确率: 0.709\n",
      "召回率: 0.665\n",
      "F1值: 0.686\n",
      "#################################################\n",
      "准确率: 0.693\n",
      "精确率: 0.704\n",
      "召回率: 0.653\n",
      "F1值: 0.677\n",
      "#################################################\n",
      "准确率: 0.694\n",
      "精确率: 0.710\n",
      "召回率: 0.644\n",
      "F1值: 0.675\n",
      "#################################################\n",
      "准确率: 0.687\n",
      "精确率: 0.708\n",
      "召回率: 0.652\n",
      "F1值: 0.679\n",
      "#################################################\n",
      "准确率: 0.700\n",
      "精确率: 0.712\n",
      "召回率: 0.669\n",
      "F1值: 0.690\n",
      "#################################################\n",
      "准确率: 0.694\n",
      "精确率: 0.711\n",
      "召回率: 0.663\n",
      "F1值: 0.686\n",
      "#################################################\n",
      "准确率: 0.686\n",
      "精确率: 0.696\n",
      "召回率: 0.656\n",
      "F1值: 0.675\n",
      "#################################################\n",
      "准确率: 0.707\n",
      "精确率: 0.708\n",
      "召回率: 0.693\n",
      "F1值: 0.701\n",
      "#################################################\n",
      "准确率: 0.696\n",
      "精确率: 0.715\n",
      "召回率: 0.667\n",
      "F1值: 0.690\n",
      "#################################################\n",
      "准确率: 0.694\n",
      "精确率: 0.695\n",
      "召回率: 0.669\n",
      "F1值: 0.682\n",
      "#################################################\n",
      "准确率: 0.679\n",
      "精确率: 0.688\n",
      "召回率: 0.659\n",
      "F1值: 0.673\n",
      "#################################################\n",
      "准确率: 0.693\n",
      "精确率: 0.700\n",
      "召回率: 0.664\n",
      "F1值: 0.681\n",
      "#################################################\n",
      "准确率: 0.695\n",
      "精确率: 0.701\n",
      "召回率: 0.665\n",
      "F1值: 0.683\n",
      "#################################################\n",
      "准确率: 0.695\n",
      "精确率: 0.713\n",
      "召回率: 0.668\n",
      "F1值: 0.690\n",
      "#################################################\n",
      "准确率: 0.697\n",
      "精确率: 0.709\n",
      "召回率: 0.671\n",
      "F1值: 0.689\n",
      "#################################################\n",
      "准确率: 0.704\n",
      "精确率: 0.732\n",
      "召回率: 0.662\n",
      "F1值: 0.695\n",
      "#################################################\n",
      "准确率: 0.698\n",
      "精确率: 0.712\n",
      "召回率: 0.676\n",
      "F1值: 0.693\n",
      "#################################################\n",
      "准确率: 0.694\n",
      "精确率: 0.704\n",
      "召回率: 0.671\n",
      "F1值: 0.687\n",
      "#################################################\n",
      "准确率: 0.697\n",
      "精确率: 0.708\n",
      "召回率: 0.672\n",
      "F1值: 0.689\n",
      "#################################################\n",
      "准确率: 0.685\n",
      "精确率: 0.702\n",
      "召回率: 0.658\n",
      "F1值: 0.679\n",
      "#################################################\n",
      "准确率: 0.689\n",
      "精确率: 0.703\n",
      "召回率: 0.655\n",
      "F1值: 0.678\n",
      "#################################################\n",
      "准确率: 0.687\n",
      "精确率: 0.701\n",
      "召回率: 0.650\n",
      "F1值: 0.675\n",
      "#################################################\n",
      "准确率: 0.695\n",
      "精确率: 0.711\n",
      "召回率: 0.660\n",
      "F1值: 0.685\n",
      "#################################################\n",
      "准确率: 0.696\n",
      "精确率: 0.707\n",
      "召回率: 0.673\n",
      "F1值: 0.690\n",
      "#################################################\n",
      "准确率: 0.692\n",
      "精确率: 0.700\n",
      "召回率: 0.658\n",
      "F1值: 0.678\n",
      "#################################################\n",
      "准确率: 0.696\n",
      "精确率: 0.707\n",
      "召回率: 0.662\n",
      "F1值: 0.684\n",
      "#################################################\n",
      "准确率: 0.692\n",
      "精确率: 0.718\n",
      "召回率: 0.651\n",
      "F1值: 0.683\n",
      "#################################################\n",
      "准确率: 0.689\n",
      "精确率: 0.715\n",
      "召回率: 0.654\n",
      "F1值: 0.683\n",
      "#################################################\n",
      "准确率: 0.696\n",
      "精确率: 0.699\n",
      "召回率: 0.661\n",
      "F1值: 0.679\n",
      "#################################################\n",
      "准确率: 0.697\n",
      "精确率: 0.704\n",
      "召回率: 0.671\n",
      "F1值: 0.687\n",
      "#################################################\n",
      "准确率: 0.695\n",
      "精确率: 0.709\n",
      "召回率: 0.656\n",
      "F1值: 0.681\n",
      "#################################################\n",
      "准确率: 0.696\n",
      "精确率: 0.705\n",
      "召回率: 0.660\n",
      "F1值: 0.682\n",
      "#################################################\n",
      "准确率: 0.691\n",
      "精确率: 0.708\n",
      "召回率: 0.663\n",
      "F1值: 0.685\n",
      "#################################################\n",
      "准确率: 0.701\n",
      "精确率: 0.713\n",
      "召回率: 0.669\n",
      "F1值: 0.690\n",
      "#################################################\n",
      "准确率: 0.692\n",
      "精确率: 0.710\n",
      "召回率: 0.660\n",
      "F1值: 0.684\n",
      "#################################################\n",
      "准确率: 0.695\n",
      "精确率: 0.712\n",
      "召回率: 0.664\n",
      "F1值: 0.687\n",
      "#################################################\n",
      "准确率: 0.687\n",
      "精确率: 0.705\n",
      "召回率: 0.656\n",
      "F1值: 0.679\n",
      "#################################################\n",
      "准确率: 0.684\n",
      "精确率: 0.688\n",
      "召回率: 0.655\n",
      "F1值: 0.671\n",
      "#################################################\n",
      "准确率: 0.686\n",
      "精确率: 0.696\n",
      "召回率: 0.652\n",
      "F1值: 0.673\n",
      "#################################################\n",
      "准确率: 0.694\n",
      "精确率: 0.703\n",
      "召回率: 0.665\n",
      "F1值: 0.683\n",
      "#################################################\n",
      "准确率: 0.690\n",
      "精确率: 0.704\n",
      "召回率: 0.659\n",
      "F1值: 0.681\n",
      "#################################################\n",
      "准确率: 0.689\n",
      "精确率: 0.703\n",
      "召回率: 0.651\n",
      "F1值: 0.676\n",
      "#################################################\n",
      "准确率: 0.695\n",
      "精确率: 0.713\n",
      "召回率: 0.663\n",
      "F1值: 0.687\n",
      "#################################################\n",
      "准确率: 0.694\n",
      "精确率: 0.704\n",
      "召回率: 0.666\n",
      "F1值: 0.684\n",
      "#################################################\n",
      "准确率: 0.694\n",
      "精确率: 0.711\n",
      "召回率: 0.664\n",
      "F1值: 0.687\n",
      "#################################################\n",
      "准确率: 0.700\n",
      "精确率: 0.704\n",
      "召回率: 0.672\n",
      "F1值: 0.688\n",
      "#################################################\n",
      "准确率: 0.690\n",
      "精确率: 0.707\n",
      "召回率: 0.654\n",
      "F1值: 0.679\n",
      "#################################################\n",
      "准确率: 0.692\n",
      "精确率: 0.707\n",
      "召回率: 0.662\n",
      "F1值: 0.684\n",
      "#################################################\n",
      "准确率: 0.704\n",
      "精确率: 0.719\n",
      "召回率: 0.671\n",
      "F1值: 0.694\n",
      "#################################################\n",
      "准确率: 0.915\n",
      "精确率: 0.915\n",
      "召回率: 1.000\n",
      "F1值: 0.955\n",
      "#################################################\n"
     ]
    }
   ],
   "source": [
    "i = 1\r\n",
    "for sam in subsample(model_feature[model_feature[\"label\"]==0],20000):\r\n",
    "    data_sample = pd.concat([sam,model_feature[model_feature[\"label\"]==1]])\r\n",
    "    feature = data_sample[[\"buy_last\",\"buy_period\",\"pay\"]]  # 指定特征\r\n",
    "    target = data_sample[\"label\"]  # 指定目标值\r\n",
    "\r\n",
    "    # 划分数据集，将其中 80% 划为训练集，另 20% 作为测试集\r\n",
    "    train_feature, val_feature, train_target, val_target = train_test_split(\r\n",
    "        feature, target, test_size=0.2)\r\n",
    "\r\n",
    "    model_svc = SVC()  # 建立模型\r\n",
    "    model_svc.fit(train_feature, train_target)  # 模型训练\r\n",
    "    results = model_svc.predict(val_feature)  # 模型预测\r\n",
    "    \r\n",
    "    acc_scores = accuracy_score(val_target, results)  # 评估预测精准度\r\n",
    "    pre_scores = precision_score(val_target, results)\r\n",
    "    recal_scores = recall_score(val_target, results)\r\n",
    "    f1_scores = f1_score(val_target, results)\r\n",
    "\r\n",
    "    print(\"准确率: {:.3f}\".format(acc_scores))\r\n",
    "    print(\"精确率: {:.3f}\".format(pre_scores))\r\n",
    "    print(\"召回率: {:.3f}\".format(recal_scores))\r\n",
    "    print(\"F1值: {:.3f}\".format(f1_scores))\r\n",
    "    dump(model_svc, \"svm_sub\"+str(i)+\".joblib\")       # 保存\r\n",
    "    i += 1\r\n",
    "    print(\"#################################################\")"
   ]
  },
  {
   "cell_type": "code",
   "execution_count": null,
   "metadata": {
    "collapsed": false
   },
   "outputs": [],
   "source": []
  },
  {
   "cell_type": "markdown",
   "metadata": {
    "collapsed": false
   },
   "source": [
    "## 测试集特征构建"
   ]
  },
  {
   "cell_type": "markdown",
   "metadata": {
    "collapsed": false
   },
   "source": [
    "### 测试集特征1"
   ]
  },
  {
   "cell_type": "code",
   "execution_count": null,
   "metadata": {
    "collapsed": false
   },
   "outputs": [
    {
     "name": "stdout",
     "output_type": "stream",
     "text": [
      "Progress: 1482614/1482614--100.0%9%"
     ]
    }
   ],
   "source": [
    "temp = customer_features[customer_features[\"order_pay_time\"]<pd.to_datetime(\"2013-09-01\")]\r\n",
    "test_feature1 = get_model_feature1(temp,\"2013-09-01\")\r\n",
    "\r\n",
    "del temp"
   ]
  },
  {
   "cell_type": "code",
   "execution_count": null,
   "metadata": {
    "collapsed": false
   },
   "outputs": [
    {
     "data": {
      "text/html": [
       "<div>\n",
       "<style scoped>\n",
       "    .dataframe tbody tr th:only-of-type {\n",
       "        vertical-align: middle;\n",
       "    }\n",
       "\n",
       "    .dataframe tbody tr th {\n",
       "        vertical-align: top;\n",
       "    }\n",
       "\n",
       "    .dataframe thead th {\n",
       "        text-align: right;\n",
       "    }\n",
       "</style>\n",
       "<table border=\"1\" class=\"dataframe\">\n",
       "  <thead>\n",
       "    <tr style=\"text-align: right;\">\n",
       "      <th></th>\n",
       "      <th>customer_id</th>\n",
       "      <th>gender</th>\n",
       "      <th>member_status</th>\n",
       "      <th>buy_last</th>\n",
       "      <th>buy_period</th>\n",
       "    </tr>\n",
       "  </thead>\n",
       "  <tbody>\n",
       "    <tr>\n",
       "      <th>0</th>\n",
       "      <td>1000000</td>\n",
       "      <td>-999</td>\n",
       "      <td>-999</td>\n",
       "      <td>303.992407</td>\n",
       "      <td>303.992407</td>\n",
       "    </tr>\n",
       "    <tr>\n",
       "      <th>1</th>\n",
       "      <td>1001324</td>\n",
       "      <td>-999</td>\n",
       "      <td>-999</td>\n",
       "      <td>0.031458</td>\n",
       "      <td>0.031458</td>\n",
       "    </tr>\n",
       "    <tr>\n",
       "      <th>2</th>\n",
       "      <td>1001325</td>\n",
       "      <td>-999</td>\n",
       "      <td>-999</td>\n",
       "      <td>0.038935</td>\n",
       "      <td>0.039381</td>\n",
       "    </tr>\n",
       "    <tr>\n",
       "      <th>3</th>\n",
       "      <td>1001326</td>\n",
       "      <td>-999</td>\n",
       "      <td>-999</td>\n",
       "      <td>0.101667</td>\n",
       "      <td>0.101667</td>\n",
       "    </tr>\n",
       "    <tr>\n",
       "      <th>4</th>\n",
       "      <td>1001327</td>\n",
       "      <td>-999</td>\n",
       "      <td>-999</td>\n",
       "      <td>0.126991</td>\n",
       "      <td>146.841950</td>\n",
       "    </tr>\n",
       "  </tbody>\n",
       "</table>\n",
       "</div>"
      ],
      "text/plain": [
       "   customer_id  gender  member_status    buy_last  buy_period\n",
       "0      1000000    -999           -999  303.992407  303.992407\n",
       "1      1001324    -999           -999    0.031458    0.031458\n",
       "2      1001325    -999           -999    0.038935    0.039381\n",
       "3      1001326    -999           -999    0.101667    0.101667\n",
       "4      1001327    -999           -999    0.126991  146.841950"
      ]
     },
     "execution_count": null,
     "metadata": {},
     "output_type": "execute_result"
    }
   ],
   "source": [
    "test_feature1.head()"
   ]
  },
  {
   "cell_type": "code",
   "execution_count": null,
   "metadata": {
    "collapsed": false
   },
   "outputs": [],
   "source": [
    "test_feature1.to_csv(\"test_feature1.csv\",index=False)"
   ]
  },
  {
   "cell_type": "markdown",
   "metadata": {
    "collapsed": false
   },
   "source": [
    "#### 加载已保存的数据"
   ]
  },
  {
   "cell_type": "code",
   "execution_count": 94,
   "metadata": {
    "collapsed": false
   },
   "outputs": [],
   "source": [
    "test_feature1 = pd.read_csv(\"test_feature1.csv\")"
   ]
  },
  {
   "cell_type": "markdown",
   "metadata": {
    "collapsed": false
   },
   "source": [
    "### 测试集特征2"
   ]
  },
  {
   "cell_type": "code",
   "execution_count": 95,
   "metadata": {
    "collapsed": false
   },
   "outputs": [],
   "source": [
    "def get_test_feature2(data):\r\n",
    "    s1 = data[\"customer_id\"]\r\n",
    "    s2 = data.iloc[:,2:].sum(axis=1)/9\r\n",
    "    s3 = data.iloc[:,2:].std(axis=1)\r\n",
    "    s4 = data.iloc[:,2:].var(axis=1)\r\n",
    "    \r\n",
    "    return pd.DataFrame({\"customer_id\":s1,\"pay_mean\":s2,\"pay_std\":s3,\"pay_var\":s4})"
   ]
  },
  {
   "cell_type": "code",
   "execution_count": 96,
   "metadata": {
    "collapsed": false
   },
   "outputs": [
    {
     "data": {
      "text/html": [
       "<div>\n",
       "<style scoped>\n",
       "    .dataframe tbody tr th:only-of-type {\n",
       "        vertical-align: middle;\n",
       "    }\n",
       "\n",
       "    .dataframe tbody tr th {\n",
       "        vertical-align: top;\n",
       "    }\n",
       "\n",
       "    .dataframe thead th {\n",
       "        text-align: right;\n",
       "    }\n",
       "</style>\n",
       "<table border=\"1\" class=\"dataframe\">\n",
       "  <thead>\n",
       "    <tr style=\"text-align: right;\">\n",
       "      <th></th>\n",
       "      <th>customer_id</th>\n",
       "      <th>pay_mean</th>\n",
       "      <th>pay_std</th>\n",
       "      <th>pay_var</th>\n",
       "    </tr>\n",
       "  </thead>\n",
       "  <tbody>\n",
       "    <tr>\n",
       "      <th>0</th>\n",
       "      <td>1000000</td>\n",
       "      <td>0.000000</td>\n",
       "      <td>0.000000</td>\n",
       "      <td>0.000000</td>\n",
       "    </tr>\n",
       "    <tr>\n",
       "      <th>1</th>\n",
       "      <td>1000014</td>\n",
       "      <td>7.433333</td>\n",
       "      <td>22.300000</td>\n",
       "      <td>497.290000</td>\n",
       "    </tr>\n",
       "    <tr>\n",
       "      <th>2</th>\n",
       "      <td>1000034</td>\n",
       "      <td>11.100000</td>\n",
       "      <td>33.300000</td>\n",
       "      <td>1108.890000</td>\n",
       "    </tr>\n",
       "    <tr>\n",
       "      <th>3</th>\n",
       "      <td>1000046</td>\n",
       "      <td>4.433333</td>\n",
       "      <td>13.300000</td>\n",
       "      <td>176.890000</td>\n",
       "    </tr>\n",
       "    <tr>\n",
       "      <th>4</th>\n",
       "      <td>1000048</td>\n",
       "      <td>9.988889</td>\n",
       "      <td>29.966667</td>\n",
       "      <td>898.001111</td>\n",
       "    </tr>\n",
       "  </tbody>\n",
       "</table>\n",
       "</div>"
      ],
      "text/plain": [
       "   customer_id   pay_mean    pay_std      pay_var\n",
       "0      1000000   0.000000   0.000000     0.000000\n",
       "1      1000014   7.433333  22.300000   497.290000\n",
       "2      1000034  11.100000  33.300000  1108.890000\n",
       "3      1000046   4.433333  13.300000   176.890000\n",
       "4      1000048   9.988889  29.966667   898.001111"
      ]
     },
     "execution_count": 96,
     "metadata": {},
     "output_type": "execute_result"
    }
   ],
   "source": [
    "test_feature2 = get_test_feature2(month_payment)\r\n",
    "test_feature2.head()"
   ]
  },
  {
   "cell_type": "markdown",
   "metadata": {
    "collapsed": false
   },
   "source": [
    "### 测试集特征合并"
   ]
  },
  {
   "cell_type": "code",
   "execution_count": 97,
   "metadata": {
    "collapsed": false
   },
   "outputs": [],
   "source": [
    "test_feature = pd.merge(left=test_feature1,right=test_feature2,how=\"left\",on=\"customer_id\")"
   ]
  },
  {
   "cell_type": "markdown",
   "metadata": {
    "collapsed": false
   },
   "source": [
    "#### 加载已保存的测试集"
   ]
  },
  {
   "cell_type": "code",
   "execution_count": 90,
   "metadata": {
    "collapsed": false
   },
   "outputs": [
    {
     "data": {
      "text/html": [
       "<div>\n",
       "<style scoped>\n",
       "    .dataframe tbody tr th:only-of-type {\n",
       "        vertical-align: middle;\n",
       "    }\n",
       "\n",
       "    .dataframe tbody tr th {\n",
       "        vertical-align: top;\n",
       "    }\n",
       "\n",
       "    .dataframe thead th {\n",
       "        text-align: right;\n",
       "    }\n",
       "</style>\n",
       "<table border=\"1\" class=\"dataframe\">\n",
       "  <thead>\n",
       "    <tr style=\"text-align: right;\">\n",
       "      <th></th>\n",
       "      <th>customer_id</th>\n",
       "      <th>gender</th>\n",
       "      <th>member_status</th>\n",
       "      <th>buy_last</th>\n",
       "      <th>buy_period</th>\n",
       "      <th>pay</th>\n",
       "      <th>pay_std</th>\n",
       "    </tr>\n",
       "  </thead>\n",
       "  <tbody>\n",
       "    <tr>\n",
       "      <th>0</th>\n",
       "      <td>1000000</td>\n",
       "      <td>-999</td>\n",
       "      <td>-999</td>\n",
       "      <td>0.0000</td>\n",
       "      <td>0.0000</td>\n",
       "      <td>0.0000</td>\n",
       "      <td>1.0000</td>\n",
       "    </tr>\n",
       "    <tr>\n",
       "      <th>1</th>\n",
       "      <td>1001324</td>\n",
       "      <td>-999</td>\n",
       "      <td>-999</td>\n",
       "      <td>0.9999</td>\n",
       "      <td>0.9999</td>\n",
       "      <td>0.0010</td>\n",
       "      <td>0.9990</td>\n",
       "    </tr>\n",
       "    <tr>\n",
       "      <th>2</th>\n",
       "      <td>1001325</td>\n",
       "      <td>-999</td>\n",
       "      <td>-999</td>\n",
       "      <td>0.9999</td>\n",
       "      <td>0.9999</td>\n",
       "      <td>0.0029</td>\n",
       "      <td>0.9971</td>\n",
       "    </tr>\n",
       "    <tr>\n",
       "      <th>3</th>\n",
       "      <td>1001326</td>\n",
       "      <td>-999</td>\n",
       "      <td>-999</td>\n",
       "      <td>0.9997</td>\n",
       "      <td>0.9997</td>\n",
       "      <td>0.0007</td>\n",
       "      <td>0.9993</td>\n",
       "    </tr>\n",
       "    <tr>\n",
       "      <th>4</th>\n",
       "      <td>1001327</td>\n",
       "      <td>-999</td>\n",
       "      <td>-999</td>\n",
       "      <td>0.9996</td>\n",
       "      <td>0.5170</td>\n",
       "      <td>0.0007</td>\n",
       "      <td>0.9993</td>\n",
       "    </tr>\n",
       "  </tbody>\n",
       "</table>\n",
       "</div>"
      ],
      "text/plain": [
       "   customer_id  gender  member_status  buy_last  buy_period     pay  pay_std\n",
       "0      1000000    -999           -999    0.0000      0.0000  0.0000   1.0000\n",
       "1      1001324    -999           -999    0.9999      0.9999  0.0010   0.9990\n",
       "2      1001325    -999           -999    0.9999      0.9999  0.0029   0.9971\n",
       "3      1001326    -999           -999    0.9997      0.9997  0.0007   0.9993\n",
       "4      1001327    -999           -999    0.9996      0.5170  0.0007   0.9993"
      ]
     },
     "execution_count": 90,
     "metadata": {},
     "output_type": "execute_result"
    }
   ],
   "source": [
    "test_feature = pd.read_csv(\"test_feature.csv\")\r\n",
    "test_feature.head()"
   ]
  },
  {
   "cell_type": "code",
   "execution_count": 98,
   "metadata": {
    "collapsed": false
   },
   "outputs": [
    {
     "data": {
      "text/html": [
       "<div>\n",
       "<style scoped>\n",
       "    .dataframe tbody tr th:only-of-type {\n",
       "        vertical-align: middle;\n",
       "    }\n",
       "\n",
       "    .dataframe tbody tr th {\n",
       "        vertical-align: top;\n",
       "    }\n",
       "\n",
       "    .dataframe thead th {\n",
       "        text-align: right;\n",
       "    }\n",
       "</style>\n",
       "<table border=\"1\" class=\"dataframe\">\n",
       "  <thead>\n",
       "    <tr style=\"text-align: right;\">\n",
       "      <th></th>\n",
       "      <th>-999</th>\n",
       "      <th>0</th>\n",
       "      <th>1</th>\n",
       "      <th>2</th>\n",
       "    </tr>\n",
       "  </thead>\n",
       "  <tbody>\n",
       "    <tr>\n",
       "      <th>0</th>\n",
       "      <td>1.0</td>\n",
       "      <td>0.0</td>\n",
       "      <td>0.0</td>\n",
       "      <td>0.0</td>\n",
       "    </tr>\n",
       "    <tr>\n",
       "      <th>1</th>\n",
       "      <td>1.0</td>\n",
       "      <td>0.0</td>\n",
       "      <td>0.0</td>\n",
       "      <td>0.0</td>\n",
       "    </tr>\n",
       "    <tr>\n",
       "      <th>2</th>\n",
       "      <td>1.0</td>\n",
       "      <td>0.0</td>\n",
       "      <td>0.0</td>\n",
       "      <td>0.0</td>\n",
       "    </tr>\n",
       "    <tr>\n",
       "      <th>3</th>\n",
       "      <td>1.0</td>\n",
       "      <td>0.0</td>\n",
       "      <td>0.0</td>\n",
       "      <td>0.0</td>\n",
       "    </tr>\n",
       "    <tr>\n",
       "      <th>4</th>\n",
       "      <td>1.0</td>\n",
       "      <td>0.0</td>\n",
       "      <td>0.0</td>\n",
       "      <td>0.0</td>\n",
       "    </tr>\n",
       "  </tbody>\n",
       "</table>\n",
       "</div>"
      ],
      "text/plain": [
       "   -999   0     1     2  \n",
       "0   1.0   0.0   0.0   0.0\n",
       "1   1.0   0.0   0.0   0.0\n",
       "2   1.0   0.0   0.0   0.0\n",
       "3   1.0   0.0   0.0   0.0\n",
       "4   1.0   0.0   0.0   0.0"
      ]
     },
     "execution_count": 98,
     "metadata": {},
     "output_type": "execute_result"
    }
   ],
   "source": [
    "gender_onehot = pd.get_dummies(test_feature[\"gender\"], dtype=np.float32)\r\n",
    "\r\n",
    "gender_onehot.head()"
   ]
  },
  {
   "cell_type": "code",
   "execution_count": 99,
   "metadata": {
    "collapsed": false
   },
   "outputs": [
    {
     "data": {
      "text/html": [
       "<div>\n",
       "<style scoped>\n",
       "    .dataframe tbody tr th:only-of-type {\n",
       "        vertical-align: middle;\n",
       "    }\n",
       "\n",
       "    .dataframe tbody tr th {\n",
       "        vertical-align: top;\n",
       "    }\n",
       "\n",
       "    .dataframe thead th {\n",
       "        text-align: right;\n",
       "    }\n",
       "</style>\n",
       "<table border=\"1\" class=\"dataframe\">\n",
       "  <thead>\n",
       "    <tr style=\"text-align: right;\">\n",
       "      <th></th>\n",
       "      <th>customer_id</th>\n",
       "      <th>gender</th>\n",
       "      <th>member_status</th>\n",
       "      <th>buy_last</th>\n",
       "      <th>buy_period</th>\n",
       "      <th>pay_mean</th>\n",
       "      <th>pay_std</th>\n",
       "      <th>pay_var</th>\n",
       "      <th>gender_na</th>\n",
       "      <th>gender_0</th>\n",
       "      <th>gender_1</th>\n",
       "      <th>gender_2</th>\n",
       "    </tr>\n",
       "  </thead>\n",
       "  <tbody>\n",
       "    <tr>\n",
       "      <th>0</th>\n",
       "      <td>1000000</td>\n",
       "      <td>-999</td>\n",
       "      <td>-999</td>\n",
       "      <td>303.992407</td>\n",
       "      <td>303.992407</td>\n",
       "      <td>0.000000</td>\n",
       "      <td>0.000000</td>\n",
       "      <td>0.000000</td>\n",
       "      <td>1.0</td>\n",
       "      <td>0.0</td>\n",
       "      <td>0.0</td>\n",
       "      <td>0.0</td>\n",
       "    </tr>\n",
       "    <tr>\n",
       "      <th>1</th>\n",
       "      <td>1001324</td>\n",
       "      <td>-999</td>\n",
       "      <td>-999</td>\n",
       "      <td>0.031458</td>\n",
       "      <td>0.031458</td>\n",
       "      <td>10.766667</td>\n",
       "      <td>32.300000</td>\n",
       "      <td>1043.290000</td>\n",
       "      <td>1.0</td>\n",
       "      <td>0.0</td>\n",
       "      <td>0.0</td>\n",
       "      <td>0.0</td>\n",
       "    </tr>\n",
       "    <tr>\n",
       "      <th>2</th>\n",
       "      <td>1001325</td>\n",
       "      <td>-999</td>\n",
       "      <td>-999</td>\n",
       "      <td>0.038935</td>\n",
       "      <td>0.039381</td>\n",
       "      <td>31.288889</td>\n",
       "      <td>93.866667</td>\n",
       "      <td>8810.951111</td>\n",
       "      <td>1.0</td>\n",
       "      <td>0.0</td>\n",
       "      <td>0.0</td>\n",
       "      <td>0.0</td>\n",
       "    </tr>\n",
       "    <tr>\n",
       "      <th>3</th>\n",
       "      <td>1001326</td>\n",
       "      <td>-999</td>\n",
       "      <td>-999</td>\n",
       "      <td>0.101667</td>\n",
       "      <td>0.101667</td>\n",
       "      <td>7.322222</td>\n",
       "      <td>21.966667</td>\n",
       "      <td>482.534444</td>\n",
       "      <td>1.0</td>\n",
       "      <td>0.0</td>\n",
       "      <td>0.0</td>\n",
       "      <td>0.0</td>\n",
       "    </tr>\n",
       "    <tr>\n",
       "      <th>4</th>\n",
       "      <td>1001327</td>\n",
       "      <td>-999</td>\n",
       "      <td>-999</td>\n",
       "      <td>0.126991</td>\n",
       "      <td>146.841950</td>\n",
       "      <td>7.433333</td>\n",
       "      <td>22.300000</td>\n",
       "      <td>497.290000</td>\n",
       "      <td>1.0</td>\n",
       "      <td>0.0</td>\n",
       "      <td>0.0</td>\n",
       "      <td>0.0</td>\n",
       "    </tr>\n",
       "  </tbody>\n",
       "</table>\n",
       "</div>"
      ],
      "text/plain": [
       "   customer_id  gender  member_status    buy_last  buy_period   pay_mean  \\\n",
       "0      1000000    -999           -999  303.992407  303.992407   0.000000   \n",
       "1      1001324    -999           -999    0.031458    0.031458  10.766667   \n",
       "2      1001325    -999           -999    0.038935    0.039381  31.288889   \n",
       "3      1001326    -999           -999    0.101667    0.101667   7.322222   \n",
       "4      1001327    -999           -999    0.126991  146.841950   7.433333   \n",
       "\n",
       "     pay_std      pay_var  gender_na  gender_0  gender_1  gender_2  \n",
       "0   0.000000     0.000000        1.0       0.0       0.0       0.0  \n",
       "1  32.300000  1043.290000        1.0       0.0       0.0       0.0  \n",
       "2  93.866667  8810.951111        1.0       0.0       0.0       0.0  \n",
       "3  21.966667   482.534444        1.0       0.0       0.0       0.0  \n",
       "4  22.300000   497.290000        1.0       0.0       0.0       0.0  "
      ]
     },
     "execution_count": 99,
     "metadata": {},
     "output_type": "execute_result"
    }
   ],
   "source": [
    "test_feature[\"gender_na\"] = gender_onehot[-999]\r\n",
    "test_feature[\"gender_0\"] = gender_onehot[0]\r\n",
    "test_feature[\"gender_1\"] = gender_onehot[1]\r\n",
    "test_feature[\"gender_2\"] = gender_onehot[2]\r\n",
    "test_feature.head()"
   ]
  },
  {
   "cell_type": "code",
   "execution_count": 100,
   "metadata": {
    "collapsed": false
   },
   "outputs": [],
   "source": [
    "test_feature[\"buy_last\"] = normalization_min(test_feature[\"buy_last\"])\r\n",
    "test_feature[\"buy_period\"] = normalization_min(test_feature[\"buy_period\"])\r\n",
    "test_feature[\"pay_mean\"] = normalization_max(test_feature[\"pay_mean\"])\r\n",
    "test_feature[\"pay_std\"] = normalization_min(test_feature[\"pay_std\"])\r\n",
    "test_feature[\"pay_var\"] = normalization_min(test_feature[\"pay_var\"])"
   ]
  },
  {
   "cell_type": "code",
   "execution_count": 101,
   "metadata": {
    "collapsed": false
   },
   "outputs": [
    {
     "data": {
      "text/html": [
       "<div>\n",
       "<style scoped>\n",
       "    .dataframe tbody tr th:only-of-type {\n",
       "        vertical-align: middle;\n",
       "    }\n",
       "\n",
       "    .dataframe tbody tr th {\n",
       "        vertical-align: top;\n",
       "    }\n",
       "\n",
       "    .dataframe thead th {\n",
       "        text-align: right;\n",
       "    }\n",
       "</style>\n",
       "<table border=\"1\" class=\"dataframe\">\n",
       "  <thead>\n",
       "    <tr style=\"text-align: right;\">\n",
       "      <th></th>\n",
       "      <th>customer_id</th>\n",
       "      <th>gender</th>\n",
       "      <th>member_status</th>\n",
       "      <th>buy_last</th>\n",
       "      <th>buy_period</th>\n",
       "      <th>pay_mean</th>\n",
       "      <th>pay_std</th>\n",
       "      <th>pay_var</th>\n",
       "      <th>gender_na</th>\n",
       "      <th>gender_0</th>\n",
       "      <th>gender_1</th>\n",
       "      <th>gender_2</th>\n",
       "    </tr>\n",
       "  </thead>\n",
       "  <tbody>\n",
       "    <tr>\n",
       "      <th>0</th>\n",
       "      <td>1000000</td>\n",
       "      <td>-999</td>\n",
       "      <td>-999</td>\n",
       "      <td>0.0000</td>\n",
       "      <td>0.0000</td>\n",
       "      <td>0.0000</td>\n",
       "      <td>1.0000</td>\n",
       "      <td>1.0</td>\n",
       "      <td>1.0</td>\n",
       "      <td>0.0</td>\n",
       "      <td>0.0</td>\n",
       "      <td>0.0</td>\n",
       "    </tr>\n",
       "    <tr>\n",
       "      <th>1</th>\n",
       "      <td>1001324</td>\n",
       "      <td>-999</td>\n",
       "      <td>-999</td>\n",
       "      <td>0.9999</td>\n",
       "      <td>0.9999</td>\n",
       "      <td>0.0010</td>\n",
       "      <td>0.9990</td>\n",
       "      <td>1.0</td>\n",
       "      <td>1.0</td>\n",
       "      <td>0.0</td>\n",
       "      <td>0.0</td>\n",
       "      <td>0.0</td>\n",
       "    </tr>\n",
       "    <tr>\n",
       "      <th>2</th>\n",
       "      <td>1001325</td>\n",
       "      <td>-999</td>\n",
       "      <td>-999</td>\n",
       "      <td>0.9999</td>\n",
       "      <td>0.9999</td>\n",
       "      <td>0.0029</td>\n",
       "      <td>0.9971</td>\n",
       "      <td>1.0</td>\n",
       "      <td>1.0</td>\n",
       "      <td>0.0</td>\n",
       "      <td>0.0</td>\n",
       "      <td>0.0</td>\n",
       "    </tr>\n",
       "    <tr>\n",
       "      <th>3</th>\n",
       "      <td>1001326</td>\n",
       "      <td>-999</td>\n",
       "      <td>-999</td>\n",
       "      <td>0.9997</td>\n",
       "      <td>0.9997</td>\n",
       "      <td>0.0007</td>\n",
       "      <td>0.9993</td>\n",
       "      <td>1.0</td>\n",
       "      <td>1.0</td>\n",
       "      <td>0.0</td>\n",
       "      <td>0.0</td>\n",
       "      <td>0.0</td>\n",
       "    </tr>\n",
       "    <tr>\n",
       "      <th>4</th>\n",
       "      <td>1001327</td>\n",
       "      <td>-999</td>\n",
       "      <td>-999</td>\n",
       "      <td>0.9996</td>\n",
       "      <td>0.5170</td>\n",
       "      <td>0.0007</td>\n",
       "      <td>0.9993</td>\n",
       "      <td>1.0</td>\n",
       "      <td>1.0</td>\n",
       "      <td>0.0</td>\n",
       "      <td>0.0</td>\n",
       "      <td>0.0</td>\n",
       "    </tr>\n",
       "  </tbody>\n",
       "</table>\n",
       "</div>"
      ],
      "text/plain": [
       "   customer_id  gender  member_status  buy_last  buy_period  pay_mean  \\\n",
       "0      1000000    -999           -999    0.0000      0.0000    0.0000   \n",
       "1      1001324    -999           -999    0.9999      0.9999    0.0010   \n",
       "2      1001325    -999           -999    0.9999      0.9999    0.0029   \n",
       "3      1001326    -999           -999    0.9997      0.9997    0.0007   \n",
       "4      1001327    -999           -999    0.9996      0.5170    0.0007   \n",
       "\n",
       "   pay_std  pay_var  gender_na  gender_0  gender_1  gender_2  \n",
       "0   1.0000      1.0        1.0       0.0       0.0       0.0  \n",
       "1   0.9990      1.0        1.0       0.0       0.0       0.0  \n",
       "2   0.9971      1.0        1.0       0.0       0.0       0.0  \n",
       "3   0.9993      1.0        1.0       0.0       0.0       0.0  \n",
       "4   0.9993      1.0        1.0       0.0       0.0       0.0  "
      ]
     },
     "execution_count": 101,
     "metadata": {},
     "output_type": "execute_result"
    }
   ],
   "source": [
    "test_feature.head()"
   ]
  },
  {
   "cell_type": "code",
   "execution_count": 102,
   "metadata": {
    "collapsed": false
   },
   "outputs": [],
   "source": [
    "test_feature.to_csv(\"test_feature.csv\",index=False)"
   ]
  },
  {
   "cell_type": "markdown",
   "metadata": {
    "collapsed": false
   },
   "source": [
    "### 模型加载"
   ]
  },
  {
   "cell_type": "markdown",
   "metadata": {
    "collapsed": false
   },
   "source": [
    "#### 投票算法"
   ]
  },
  {
   "cell_type": "code",
   "execution_count": null,
   "metadata": {
    "collapsed": false
   },
   "outputs": [
    {
     "name": "stdout",
     "output_type": "stream",
     "text": [
      "Progress: 66/66完成！！！\n"
     ]
    },
    {
     "name": "stderr",
     "output_type": "stream",
     "text": [
      "/opt/conda/envs/python35-paddle120-env/lib/python3.7/site-packages/ipykernel_launcher.py:9: SettingWithCopyWarning: \n",
      "A value is trying to be set on a copy of a slice from a DataFrame.\n",
      "Try using .loc[row_indexer,col_indexer] = value instead\n",
      "\n",
      "See the caveats in the documentation: https://pandas.pydata.org/pandas-docs/stable/user_guide/indexing.html#returning-a-view-versus-a-copy\n",
      "  if __name__ == '__main__':\n"
     ]
    }
   ],
   "source": [
    "res = pd.Series(np.zeros(test_feature.shape[0]))\r\n",
    "for i in range(1,67):\r\n",
    "    print(\"\\rProgress: {}/66\".format(i), end=\"\")\r\n",
    "    mode_i = \"svm_sub\"+str(i)+\".joblib\"\r\n",
    "    model_svm = load(mode_i)\r\n",
    "    results = test_feature[[\"customer_id\"]]\r\n",
    "    res += model_svm.predict(test_feature[[\"buy_last\",\"buy_period\",\"pay\"]])  # 模型预测\r\n",
    "    \r\n",
    "results[\"result\"] = res\r\n",
    "print(\"完成！！！\")"
   ]
  },
  {
   "cell_type": "code",
   "execution_count": null,
   "metadata": {
    "collapsed": false
   },
   "outputs": [
    {
     "data": {
      "text/html": [
       "<div>\n",
       "<style scoped>\n",
       "    .dataframe tbody tr th:only-of-type {\n",
       "        vertical-align: middle;\n",
       "    }\n",
       "\n",
       "    .dataframe tbody tr th {\n",
       "        vertical-align: top;\n",
       "    }\n",
       "\n",
       "    .dataframe thead th {\n",
       "        text-align: right;\n",
       "    }\n",
       "</style>\n",
       "<table border=\"1\" class=\"dataframe\">\n",
       "  <thead>\n",
       "    <tr style=\"text-align: right;\">\n",
       "      <th></th>\n",
       "      <th>customer_id</th>\n",
       "      <th>result</th>\n",
       "    </tr>\n",
       "  </thead>\n",
       "  <tbody>\n",
       "    <tr>\n",
       "      <th>0</th>\n",
       "      <td>1000000</td>\n",
       "      <td>0</td>\n",
       "    </tr>\n",
       "    <tr>\n",
       "      <th>1</th>\n",
       "      <td>1001324</td>\n",
       "      <td>1</td>\n",
       "    </tr>\n",
       "    <tr>\n",
       "      <th>2</th>\n",
       "      <td>1001325</td>\n",
       "      <td>1</td>\n",
       "    </tr>\n",
       "    <tr>\n",
       "      <th>3</th>\n",
       "      <td>1001326</td>\n",
       "      <td>1</td>\n",
       "    </tr>\n",
       "    <tr>\n",
       "      <th>4</th>\n",
       "      <td>1001327</td>\n",
       "      <td>1</td>\n",
       "    </tr>\n",
       "  </tbody>\n",
       "</table>\n",
       "</div>"
      ],
      "text/plain": [
       "   customer_id  result\n",
       "0      1000000       0\n",
       "1      1001324       1\n",
       "2      1001325       1\n",
       "3      1001326       1\n",
       "4      1001327       1"
      ]
     },
     "execution_count": null,
     "metadata": {},
     "output_type": "execute_result"
    }
   ],
   "source": [
    "results.head()"
   ]
  },
  {
   "cell_type": "code",
   "execution_count": null,
   "metadata": {
    "collapsed": false
   },
   "outputs": [
    {
     "name": "stderr",
     "output_type": "stream",
     "text": [
      "/opt/conda/envs/python35-paddle120-env/lib/python3.7/site-packages/ipykernel_launcher.py:1: SettingWithCopyWarning: \n",
      "A value is trying to be set on a copy of a slice from a DataFrame.\n",
      "Try using .loc[row_indexer,col_indexer] = value instead\n",
      "\n",
      "See the caveats in the documentation: https://pandas.pydata.org/pandas-docs/stable/user_guide/indexing.html#returning-a-view-versus-a-copy\n",
      "  \"\"\"Entry point for launching an IPython kernel.\n"
     ]
    }
   ],
   "source": [
    "results[\"result\"] = (results[\"result\"]>33)+0"
   ]
  },
  {
   "cell_type": "markdown",
   "metadata": {
    "collapsed": false
   },
   "source": [
    "#### 单个算法测试"
   ]
  },
  {
   "cell_type": "code",
   "execution_count": 103,
   "metadata": {
    "collapsed": false
   },
   "outputs": [
    {
     "name": "stderr",
     "output_type": "stream",
     "text": [
      "/opt/conda/envs/python35-paddle120-env/lib/python3.7/site-packages/ipykernel_launcher.py:5: SettingWithCopyWarning: \n",
      "A value is trying to be set on a copy of a slice from a DataFrame.\n",
      "Try using .loc[row_indexer,col_indexer] = value instead\n",
      "\n",
      "See the caveats in the documentation: https://pandas.pydata.org/pandas-docs/stable/user_guide/indexing.html#returning-a-view-versus-a-copy\n",
      "  \"\"\"\n"
     ]
    }
   ],
   "source": [
    "model_test = load('models/GradientBoosting_acc_0.7147.joblib')      # 加载\r\n",
    "\r\n",
    "results = test_feature[[\"customer_id\"]]\r\n",
    "\r\n",
    "results[\"result\"] = model_test.predict(test_feature[[\"buy_last\",\"buy_period\",\"pay_mean\",\"pay_std\",\"pay_var\",\"gender_na\",\"gender_0\",\"gender_1\",\"gender_2\"]])  # 模型预测"
   ]
  },
  {
   "cell_type": "code",
   "execution_count": 104,
   "metadata": {
    "collapsed": false
   },
   "outputs": [
    {
     "data": {
      "text/html": [
       "<div>\n",
       "<style scoped>\n",
       "    .dataframe tbody tr th:only-of-type {\n",
       "        vertical-align: middle;\n",
       "    }\n",
       "\n",
       "    .dataframe tbody tr th {\n",
       "        vertical-align: top;\n",
       "    }\n",
       "\n",
       "    .dataframe thead th {\n",
       "        text-align: right;\n",
       "    }\n",
       "</style>\n",
       "<table border=\"1\" class=\"dataframe\">\n",
       "  <thead>\n",
       "    <tr style=\"text-align: right;\">\n",
       "      <th></th>\n",
       "      <th>customer_id</th>\n",
       "      <th>result</th>\n",
       "    </tr>\n",
       "  </thead>\n",
       "  <tbody>\n",
       "    <tr>\n",
       "      <th>0</th>\n",
       "      <td>1000000</td>\n",
       "      <td>0</td>\n",
       "    </tr>\n",
       "    <tr>\n",
       "      <th>1</th>\n",
       "      <td>1001324</td>\n",
       "      <td>1</td>\n",
       "    </tr>\n",
       "    <tr>\n",
       "      <th>2</th>\n",
       "      <td>1001325</td>\n",
       "      <td>1</td>\n",
       "    </tr>\n",
       "    <tr>\n",
       "      <th>3</th>\n",
       "      <td>1001326</td>\n",
       "      <td>1</td>\n",
       "    </tr>\n",
       "    <tr>\n",
       "      <th>4</th>\n",
       "      <td>1001327</td>\n",
       "      <td>0</td>\n",
       "    </tr>\n",
       "  </tbody>\n",
       "</table>\n",
       "</div>"
      ],
      "text/plain": [
       "   customer_id  result\n",
       "0      1000000       0\n",
       "1      1001324       1\n",
       "2      1001325       1\n",
       "3      1001326       1\n",
       "4      1001327       0"
      ]
     },
     "execution_count": 104,
     "metadata": {},
     "output_type": "execute_result"
    }
   ],
   "source": [
    "results.head()"
   ]
  },
  {
   "cell_type": "code",
   "execution_count": 105,
   "metadata": {
    "collapsed": false
   },
   "outputs": [],
   "source": [
    "results = pd.merge(left=test_data[[\"customer_id\"]],right=results,how=\"left\",on=\"customer_id\")"
   ]
  },
  {
   "cell_type": "code",
   "execution_count": 106,
   "metadata": {
    "collapsed": false
   },
   "outputs": [],
   "source": [
    "results = results.fillna(0)"
   ]
  },
  {
   "cell_type": "code",
   "execution_count": 109,
   "metadata": {
    "collapsed": false
   },
   "outputs": [],
   "source": [
    "now_time = datetime.strftime(datetime.now(),\"%Y%m%d%H%M%S\")\r\n",
    "results.to_csv(\"results{}.csv\".format(now_time),index=False)"
   ]
  },
  {
   "cell_type": "markdown",
   "metadata": {
    "collapsed": false
   },
   "source": [
    "## 结果提交"
   ]
  },
  {
   "cell_type": "code",
   "execution_count": null,
   "metadata": {
    "collapsed": false
   },
   "outputs": [
    {
     "name": "stdout",
     "output_type": "stream",
     "text": [
      "--2021-06-25 14:00:48--  http://ai-studio-static.bj.bcebos.com/script/submit.sh\n",
      "Resolving ai-studio-static.bj.bcebos.com (ai-studio-static.bj.bcebos.com)... 182.61.200.195, 182.61.200.229, 2409:8c00:6c21:10ad:0:ff:b00e:67d\n",
      "Connecting to ai-studio-static.bj.bcebos.com (ai-studio-static.bj.bcebos.com)|182.61.200.195|:80... connected.\n",
      "HTTP request sent, awaiting response... 200 OK\n",
      "Length: 340 [text/x-sh]\n",
      "Saving to: ‘submit.sh’\n",
      "\n",
      "submit.sh           100%[===================>]     340  --.-KB/s    in 0s      \n",
      "\n",
      "2021-06-25 14:00:49 (46.4 MB/s) - ‘submit.sh’ saved [340/340]\n",
      "\n"
     ]
    }
   ],
   "source": [
    "!rm -rf submit.sh\r\n",
    "!wget -O submit.sh http://ai-studio-static.bj.bcebos.com/script/submit.sh"
   ]
  },
  {
   "cell_type": "code",
   "execution_count": null,
   "metadata": {
    "collapsed": false
   },
   "outputs": [],
   "source": [
    "!sh submit.sh /home/aistudio/results.csv cabaa03dd98893"
   ]
  },
  {
   "cell_type": "markdown",
   "metadata": {
    "collapsed": false
   },
   "source": [
    "###########################################################################################################################################################\n",
    "###########################################################################################################################################################"
   ]
  },
  {
   "cell_type": "code",
   "execution_count": null,
   "metadata": {
    "collapsed": false
   },
   "outputs": [],
   "source": [
    "def get_period(date_series,periods=1):\r\n",
    "    \"\"\"\r\n",
    "    计算时间序列前后间隔周期\r\n",
    "    \"\"\"\r\n",
    "    date_series = date_series.reset_index(drop=True)\r\n",
    "    end = len(date_series)\r\n",
    "    assert periods<end, \"输入周期应小于数据长度,请重新输入\"\r\n",
    "    # date_series[end] = date_series[end-1]\r\n",
    "    period_from_next = date_series.diff(periods=periods).dropna().reset_index(drop=True)/np.timedelta64(1, \"D\")\r\n",
    "    \r\n",
    "    return period_from_next.to_list()"
   ]
  },
  {
   "cell_type": "code",
   "execution_count": null,
   "metadata": {
    "collapsed": false
   },
   "outputs": [
    {
     "data": {
      "text/html": [
       "<div>\n",
       "<style scoped>\n",
       "    .dataframe tbody tr th:only-of-type {\n",
       "        vertical-align: middle;\n",
       "    }\n",
       "\n",
       "    .dataframe tbody tr th {\n",
       "        vertical-align: top;\n",
       "    }\n",
       "\n",
       "    .dataframe thead th {\n",
       "        text-align: right;\n",
       "    }\n",
       "</style>\n",
       "<table border=\"1\" class=\"dataframe\">\n",
       "  <thead>\n",
       "    <tr style=\"text-align: right;\">\n",
       "      <th></th>\n",
       "      <th>customer_id</th>\n",
       "      <th>2012-11-30 00:00:00</th>\n",
       "      <th>2012-12-31 00:00:00</th>\n",
       "      <th>2013-01-31 00:00:00</th>\n",
       "      <th>2013-02-28 00:00:00</th>\n",
       "      <th>2013-03-31 00:00:00</th>\n",
       "      <th>2013-04-30 00:00:00</th>\n",
       "      <th>2013-05-31 00:00:00</th>\n",
       "      <th>2013-06-30 00:00:00</th>\n",
       "      <th>2013-07-31 00:00:00</th>\n",
       "      <th>2013-08-31 00:00:00</th>\n",
       "    </tr>\n",
       "  </thead>\n",
       "  <tbody>\n",
       "    <tr>\n",
       "      <th>0</th>\n",
       "      <td>1000000</td>\n",
       "      <td>96.9</td>\n",
       "      <td>0.0</td>\n",
       "      <td>0.0</td>\n",
       "      <td>0.0</td>\n",
       "      <td>0.0</td>\n",
       "      <td>0.0</td>\n",
       "      <td>0.0</td>\n",
       "      <td>0.0</td>\n",
       "      <td>0.0</td>\n",
       "      <td>0.0</td>\n",
       "    </tr>\n",
       "    <tr>\n",
       "      <th>1</th>\n",
       "      <td>1000014</td>\n",
       "      <td>0.0</td>\n",
       "      <td>0.0</td>\n",
       "      <td>0.0</td>\n",
       "      <td>0.0</td>\n",
       "      <td>0.0</td>\n",
       "      <td>0.0</td>\n",
       "      <td>0.0</td>\n",
       "      <td>0.0</td>\n",
       "      <td>0.0</td>\n",
       "      <td>66.9</td>\n",
       "    </tr>\n",
       "    <tr>\n",
       "      <th>2</th>\n",
       "      <td>1000034</td>\n",
       "      <td>0.0</td>\n",
       "      <td>0.0</td>\n",
       "      <td>0.0</td>\n",
       "      <td>0.0</td>\n",
       "      <td>99.9</td>\n",
       "      <td>0.0</td>\n",
       "      <td>0.0</td>\n",
       "      <td>0.0</td>\n",
       "      <td>0.0</td>\n",
       "      <td>0.0</td>\n",
       "    </tr>\n",
       "    <tr>\n",
       "      <th>3</th>\n",
       "      <td>1000046</td>\n",
       "      <td>0.0</td>\n",
       "      <td>0.0</td>\n",
       "      <td>0.0</td>\n",
       "      <td>0.0</td>\n",
       "      <td>0.0</td>\n",
       "      <td>0.0</td>\n",
       "      <td>0.0</td>\n",
       "      <td>39.9</td>\n",
       "      <td>0.0</td>\n",
       "      <td>0.0</td>\n",
       "    </tr>\n",
       "    <tr>\n",
       "      <th>4</th>\n",
       "      <td>1000048</td>\n",
       "      <td>0.0</td>\n",
       "      <td>89.9</td>\n",
       "      <td>0.0</td>\n",
       "      <td>0.0</td>\n",
       "      <td>0.0</td>\n",
       "      <td>0.0</td>\n",
       "      <td>0.0</td>\n",
       "      <td>0.0</td>\n",
       "      <td>0.0</td>\n",
       "      <td>0.0</td>\n",
       "    </tr>\n",
       "  </tbody>\n",
       "</table>\n",
       "</div>"
      ],
      "text/plain": [
       "   customer_id  2012-11-30 00:00:00  2012-12-31 00:00:00  2013-01-31 00:00:00  \\\n",
       "0      1000000                 96.9                  0.0                  0.0   \n",
       "1      1000014                  0.0                  0.0                  0.0   \n",
       "2      1000034                  0.0                  0.0                  0.0   \n",
       "3      1000046                  0.0                  0.0                  0.0   \n",
       "4      1000048                  0.0                 89.9                  0.0   \n",
       "\n",
       "   2013-02-28 00:00:00  2013-03-31 00:00:00  2013-04-30 00:00:00  \\\n",
       "0                  0.0                  0.0                  0.0   \n",
       "1                  0.0                  0.0                  0.0   \n",
       "2                  0.0                 99.9                  0.0   \n",
       "3                  0.0                  0.0                  0.0   \n",
       "4                  0.0                  0.0                  0.0   \n",
       "\n",
       "   2013-05-31 00:00:00  2013-06-30 00:00:00  2013-07-31 00:00:00  \\\n",
       "0                  0.0                  0.0                  0.0   \n",
       "1                  0.0                  0.0                  0.0   \n",
       "2                  0.0                  0.0                  0.0   \n",
       "3                  0.0                 39.9                  0.0   \n",
       "4                  0.0                  0.0                  0.0   \n",
       "\n",
       "   2013-08-31 00:00:00  \n",
       "0                  0.0  \n",
       "1                 66.9  \n",
       "2                  0.0  \n",
       "3                  0.0  \n",
       "4                  0.0  "
      ]
     },
     "execution_count": null,
     "metadata": {},
     "output_type": "execute_result"
    }
   ],
   "source": [
    "month_payment.head()"
   ]
  },
  {
   "cell_type": "code",
   "execution_count": null,
   "metadata": {
    "collapsed": false
   },
   "outputs": [],
   "source": [
    "month_payment.index.rename(\"customer_id\", inplace=True)"
   ]
  },
  {
   "cell_type": "code",
   "execution_count": null,
   "metadata": {
    "collapsed": false
   },
   "outputs": [],
   "source": [
    "month_payment.reset_index(inplace=True)"
   ]
  },
  {
   "cell_type": "code",
   "execution_count": null,
   "metadata": {
    "collapsed": false
   },
   "outputs": [],
   "source": []
  }
 ],
 "metadata": {
  "kernelspec": {
   "display_name": "PaddlePaddle 2.1.0 (Python 3.5)",
   "language": "python",
   "name": "py35-paddle1.2.0"
  },
  "language_info": {
   "codemirror_mode": {
    "name": "ipython",
    "version": 3
   },
   "file_extension": ".py",
   "mimetype": "text/x-python",
   "name": "python",
   "nbconvert_exporter": "python",
   "pygments_lexer": "ipython3",
   "version": "3.7.4"
  }
 },
 "nbformat": 4,
 "nbformat_minor": 1
}
